{
 "cells": [
  {
   "cell_type": "markdown",
   "metadata": {},
   "source": [
    "# Octave Tutorial: Basic Operations\n",
    "\n",
    "## 2020년 07월 25일 안상호\n",
    "\n",
    "\n",
    "### Octave의 장점\n",
    "\n",
    "- 빠른 프로토타입(알고리즘) 구현 가능 \n",
    "- 높은 생산성...\n",
    "- (사족) 통계 : R = 수학 : Octave"
   ]
  },
  {
   "cell_type": "markdown",
   "metadata": {},
   "source": [
    "# Basic Operations\n",
    "\n",
    "## 기초 수학 연산"
   ]
  },
  {
   "cell_type": "code",
   "execution_count": 2,
   "metadata": {},
   "outputs": [
    {
     "name": "stdout",
     "output_type": "stream",
     "text": [
      "ans =  11\r\n"
     ]
    }
   ],
   "source": [
    "5 + 6"
   ]
  },
  {
   "cell_type": "code",
   "execution_count": 3,
   "metadata": {},
   "outputs": [
    {
     "name": "stdout",
     "output_type": "stream",
     "text": [
      "ans =  1\r\n"
     ]
    }
   ],
   "source": [
    "3 - 2"
   ]
  },
  {
   "cell_type": "code",
   "execution_count": 4,
   "metadata": {},
   "outputs": [
    {
     "name": "stdout",
     "output_type": "stream",
     "text": [
      "ans =  40\r\n"
     ]
    }
   ],
   "source": [
    "5 * 8"
   ]
  },
  {
   "cell_type": "code",
   "execution_count": 6,
   "metadata": {},
   "outputs": [
    {
     "name": "stdout",
     "output_type": "stream",
     "text": [
      "ans =  0.50000\r\n"
     ]
    }
   ],
   "source": [
    "1/2"
   ]
  },
  {
   "cell_type": "code",
   "execution_count": 7,
   "metadata": {},
   "outputs": [
    {
     "name": "stdout",
     "output_type": "stream",
     "text": [
      "ans =  64\r\n"
     ]
    }
   ],
   "source": [
    "2 ^ 6"
   ]
  },
  {
   "cell_type": "code",
   "execution_count": 13,
   "metadata": {},
   "outputs": [
    {
     "name": "stdout",
     "output_type": "stream",
     "text": [
      "ans =  1\r\n"
     ]
    }
   ],
   "source": [
    "fix(5/3)"
   ]
  },
  {
   "cell_type": "code",
   "execution_count": 11,
   "metadata": {},
   "outputs": [
    {
     "name": "stdout",
     "output_type": "stream",
     "text": [
      "ans =  2\r\n"
     ]
    }
   ],
   "source": [
    "mod(5, 3)"
   ]
  },
  {
   "cell_type": "markdown",
   "metadata": {},
   "source": [
    "## 논리 연산"
   ]
  },
  {
   "cell_type": "code",
   "execution_count": 14,
   "metadata": {},
   "outputs": [
    {
     "name": "stdout",
     "output_type": "stream",
     "text": [
      "ans = 0\r\n"
     ]
    }
   ],
   "source": [
    "1 == 2 %false"
   ]
  },
  {
   "cell_type": "code",
   "execution_count": 15,
   "metadata": {},
   "outputs": [
    {
     "name": "stdout",
     "output_type": "stream",
     "text": [
      "ans = 1\r\n"
     ]
    }
   ],
   "source": [
    "1 ~= 2 % true"
   ]
  },
  {
   "cell_type": "code",
   "execution_count": 16,
   "metadata": {},
   "outputs": [
    {
     "name": "stdout",
     "output_type": "stream",
     "text": [
      "ans = 0\r\n"
     ]
    }
   ],
   "source": [
    "1 && 0 % AND"
   ]
  },
  {
   "cell_type": "code",
   "execution_count": 17,
   "metadata": {},
   "outputs": [
    {
     "name": "stdout",
     "output_type": "stream",
     "text": [
      "ans = 1\r\n"
     ]
    }
   ],
   "source": [
    "1 || 0 % OR"
   ]
  },
  {
   "cell_type": "code",
   "execution_count": 18,
   "metadata": {},
   "outputs": [
    {
     "name": "stdout",
     "output_type": "stream",
     "text": [
      "ans = 1\r\n"
     ]
    }
   ],
   "source": [
    "xor(1, 0)"
   ]
  },
  {
   "cell_type": "markdown",
   "metadata": {},
   "source": [
    "## 변수 할당"
   ]
  },
  {
   "cell_type": "code",
   "execution_count": 19,
   "metadata": {},
   "outputs": [
    {
     "name": "stdout",
     "output_type": "stream",
     "text": [
      "a =  3\r\n"
     ]
    }
   ],
   "source": [
    "a = 3"
   ]
  },
  {
   "cell_type": "code",
   "execution_count": 20,
   "metadata": {},
   "outputs": [],
   "source": [
    "a = 3; % semicolon superessing output"
   ]
  },
  {
   "cell_type": "code",
   "execution_count": 21,
   "metadata": {},
   "outputs": [
    {
     "name": "stdout",
     "output_type": "stream",
     "text": [
      "b = hi\r\n"
     ]
    }
   ],
   "source": [
    "b = 'hi'"
   ]
  },
  {
   "cell_type": "code",
   "execution_count": 22,
   "metadata": {},
   "outputs": [
    {
     "name": "stdout",
     "output_type": "stream",
     "text": [
      "b = hi\r\n"
     ]
    }
   ],
   "source": [
    "b"
   ]
  },
  {
   "cell_type": "code",
   "execution_count": 23,
   "metadata": {},
   "outputs": [
    {
     "name": "stdout",
     "output_type": "stream",
     "text": [
      "c = 1\r\n"
     ]
    }
   ],
   "source": [
    "c = (3>= 1)"
   ]
  },
  {
   "cell_type": "code",
   "execution_count": 25,
   "metadata": {},
   "outputs": [
    {
     "name": "stdout",
     "output_type": "stream",
     "text": [
      "a =  3.1416\r\n"
     ]
    }
   ],
   "source": [
    "a = pi;\n",
    "a"
   ]
  },
  {
   "cell_type": "code",
   "execution_count": 27,
   "metadata": {},
   "outputs": [
    {
     "name": "stdout",
     "output_type": "stream",
     "text": [
      " 3.1416\r\n"
     ]
    }
   ],
   "source": [
    "disp(a);"
   ]
  },
  {
   "cell_type": "code",
   "execution_count": 29,
   "metadata": {},
   "outputs": [
    {
     "name": "stdout",
     "output_type": "stream",
     "text": [
      "2 decimals: 3.14\r\n"
     ]
    }
   ],
   "source": [
    "disp(sprintf('2 decimals: %0.2f', a))"
   ]
  },
  {
   "cell_type": "code",
   "execution_count": 32,
   "metadata": {},
   "outputs": [
    {
     "name": "stdout",
     "output_type": "stream",
     "text": [
      "a =  3.141592653589793\r\n"
     ]
    }
   ],
   "source": [
    "format long\n",
    "a"
   ]
  },
  {
   "cell_type": "code",
   "execution_count": 33,
   "metadata": {},
   "outputs": [
    {
     "name": "stdout",
     "output_type": "stream",
     "text": [
      "a =  3.1416\r\n"
     ]
    }
   ],
   "source": [
    "format short\n",
    "a "
   ]
  },
  {
   "cell_type": "markdown",
   "metadata": {},
   "source": [
    "# 행렬과 벡터"
   ]
  },
  {
   "cell_type": "code",
   "execution_count": 34,
   "metadata": {},
   "outputs": [
    {
     "name": "stdout",
     "output_type": "stream",
     "text": [
      "A =\r\n",
      "\r\n",
      "   1   2\r\n",
      "   3   4\r\n",
      "   5   6\r\n",
      "\r\n"
     ]
    }
   ],
   "source": [
    "A = [1 2; 3 4; 5 6;]"
   ]
  },
  {
   "cell_type": "code",
   "execution_count": 35,
   "metadata": {},
   "outputs": [
    {
     "name": "stdout",
     "output_type": "stream",
     "text": [
      "v =\r\n",
      "\r\n",
      "   1   2   3\r\n",
      "\r\n"
     ]
    }
   ],
   "source": [
    "v = [1 2 3]"
   ]
  },
  {
   "cell_type": "code",
   "execution_count": 36,
   "metadata": {},
   "outputs": [
    {
     "name": "stdout",
     "output_type": "stream",
     "text": [
      "v =\r\n",
      "\r\n",
      "   1\r\n",
      "   2\r\n",
      "   3\r\n",
      "\r\n"
     ]
    }
   ],
   "source": [
    "v = [1; 2; 3]"
   ]
  },
  {
   "cell_type": "code",
   "execution_count": 38,
   "metadata": {},
   "outputs": [
    {
     "name": "stdout",
     "output_type": "stream",
     "text": [
      "v =\r\n",
      "\r\n",
      " Columns 1 through 8:\r\n",
      "\r\n",
      "    1.0000    1.1000    1.2000    1.3000    1.4000    1.5000    1.6000    1.7000\r\n",
      "\r\n",
      " Columns 9 through 11:\r\n",
      "\r\n",
      "    1.8000    1.9000    2.0000\r\n",
      "\r\n"
     ]
    }
   ],
   "source": [
    "v = 1:0.1:2"
   ]
  },
  {
   "cell_type": "code",
   "execution_count": 39,
   "metadata": {},
   "outputs": [
    {
     "name": "stdout",
     "output_type": "stream",
     "text": [
      "v =\r\n",
      "\r\n",
      "   1   2   3   4   5   6\r\n",
      "\r\n"
     ]
    }
   ],
   "source": [
    "v = 1:6"
   ]
  },
  {
   "cell_type": "code",
   "execution_count": 40,
   "metadata": {},
   "outputs": [
    {
     "name": "stdout",
     "output_type": "stream",
     "text": [
      "ans =\r\n",
      "\r\n",
      "   1   1   1\r\n",
      "   1   1   1\r\n",
      "\r\n"
     ]
    }
   ],
   "source": [
    "ones(2, 3)"
   ]
  },
  {
   "cell_type": "code",
   "execution_count": 41,
   "metadata": {},
   "outputs": [
    {
     "name": "stdout",
     "output_type": "stream",
     "text": [
      "C =\r\n",
      "\r\n",
      "   2   2   2\r\n",
      "   2   2   2\r\n",
      "\r\n"
     ]
    }
   ],
   "source": [
    "C = 2 *ones(2, 3)"
   ]
  },
  {
   "cell_type": "code",
   "execution_count": 42,
   "metadata": {},
   "outputs": [
    {
     "name": "stdout",
     "output_type": "stream",
     "text": [
      "w =\r\n",
      "\r\n",
      "   1   1   1\r\n",
      "\r\n"
     ]
    }
   ],
   "source": [
    "w = ones(1, 3)"
   ]
  },
  {
   "cell_type": "code",
   "execution_count": 43,
   "metadata": {},
   "outputs": [
    {
     "name": "stdout",
     "output_type": "stream",
     "text": [
      "w =\r\n",
      "\r\n",
      "   0   0   0\r\n",
      "\r\n"
     ]
    }
   ],
   "source": [
    "w = zeros(1, 3)"
   ]
  },
  {
   "cell_type": "markdown",
   "metadata": {},
   "source": [
    "- rand\n",
    "\n",
    "균등 분포 기반 난수 반환"
   ]
  },
  {
   "cell_type": "code",
   "execution_count": 44,
   "metadata": {},
   "outputs": [
    {
     "name": "stdout",
     "output_type": "stream",
     "text": [
      "w =\r\n",
      "\r\n",
      "   0.88227   0.74293   0.88492\r\n",
      "\r\n"
     ]
    }
   ],
   "source": [
    "w = rand(1, 3)"
   ]
  },
  {
   "cell_type": "code",
   "execution_count": 45,
   "metadata": {},
   "outputs": [
    {
     "name": "stdout",
     "output_type": "stream",
     "text": [
      "w =\r\n",
      "\r\n",
      "   0.823768   0.216496   0.087519\r\n",
      "   0.783811   0.150712   0.073997\r\n",
      "   0.243936   0.300454   0.467487\r\n",
      "\r\n"
     ]
    }
   ],
   "source": [
    "w = rand(3, 3)"
   ]
  },
  {
   "cell_type": "markdown",
   "metadata": {},
   "source": [
    "- randn\n",
    "표준 정규 분포 기반 난수 반환"
   ]
  },
  {
   "cell_type": "code",
   "execution_count": 46,
   "metadata": {},
   "outputs": [
    {
     "name": "stdout",
     "output_type": "stream",
     "text": [
      "w =\r\n",
      "\r\n",
      "  -0.164471  -0.019042  -1.915168\r\n",
      "\r\n"
     ]
    }
   ],
   "source": [
    "w = randn(1, 3)"
   ]
  },
  {
   "cell_type": "code",
   "execution_count": 51,
   "metadata": {},
   "outputs": [
    {
     "data": {
      "image/png": "[encoded data removed]",
      "text/plain": [
       "<IPython.core.display.Image object>"
      ]
     },
     "metadata": {},
     "output_type": "display_data"
    }
   ],
   "source": [
    "w = - 6 * sqrt(10) * (randn(1, 10000));\n",
    "hist(w)\n"
   ]
  },
  {
   "cell_type": "code",
   "execution_count": 52,
   "metadata": {},
   "outputs": [
    {
     "data": {
      "image/png": "[encoded data removed]",
      "text/plain": [
       "<IPython.core.display.Image object>"
      ]
     },
     "metadata": {},
     "output_type": "display_data"
    }
   ],
   "source": [
    "hist(w, 50)"
   ]
  },
  {
   "cell_type": "code",
   "execution_count": 53,
   "metadata": {},
   "outputs": [
    {
     "name": "stdout",
     "output_type": "stream",
     "text": [
      "I =\r\n",
      "\r\n",
      "Diagonal Matrix\r\n",
      "\r\n",
      "   1   0   0   0\r\n",
      "   0   1   0   0\r\n",
      "   0   0   1   0\r\n",
      "   0   0   0   1\r\n",
      "\r\n"
     ]
    }
   ],
   "source": [
    "I = eye(4)"
   ]
  },
  {
   "cell_type": "code",
   "execution_count": 54,
   "metadata": {},
   "outputs": [
    {
     "name": "stdout",
     "output_type": "stream",
     "text": [
      "I =\r\n",
      "\r\n",
      "Diagonal Matrix\r\n",
      "\r\n",
      "   1   0   0   0   0   0\r\n",
      "   0   1   0   0   0   0\r\n",
      "   0   0   1   0   0   0\r\n",
      "   0   0   0   1   0   0\r\n",
      "   0   0   0   0   1   0\r\n",
      "   0   0   0   0   0   1\r\n",
      "\r\n"
     ]
    }
   ],
   "source": [
    "I = eye(6)"
   ]
  },
  {
   "cell_type": "code",
   "execution_count": 55,
   "metadata": {},
   "outputs": [
    {
     "name": "stdout",
     "output_type": "stream",
     "text": [
      "'eye' is a built-in function from the file libinterp/corefcn/data.cc\r\n",
      "\r\n",
      " -- eye (N)\r\n",
      " -- eye (M, N)\r\n",
      " -- eye ([M N])\r\n",
      " -- eye (..., CLASS)\r\n",
      "     Return an identity matrix.\r\n",
      "\r\n",
      "     If invoked with a single scalar argument N, return a square NxN\r\n",
      "     identity matrix.\r\n",
      "\r\n",
      "     If supplied two scalar arguments (M, N), 'eye' takes them to be the\r\n",
      "     number of rows and columns.  If given a vector with two elements,\r\n",
      "     'eye' uses the values of the elements as the number of rows and\r\n",
      "     columns, respectively.  For example:\r\n",
      "\r\n",
      "          eye (3)\r\n",
      "           =>  1  0  0\r\n",
      "               0  1  0\r\n",
      "               0  0  1\r\n",
      "\r\n",
      "     The following expressions all produce the same result:\r\n",
      "\r\n",
      "          eye (2)\r\n",
      "          ==\r\n",
      "          eye (2, 2)\r\n",
      "          ==\r\n",
      "          eye (size ([1, 2; 3, 4]))\r\n",
      "\r\n",
      "     The optional argument CLASS, allows 'eye' to return an array of the\r\n",
      "     specified type, like\r\n",
      "\r\n",
      "          val = zeros (n,m, \"uint8\")\r\n",
      "\r\n",
      "     Calling 'eye' with no arguments is equivalent to calling it with an\r\n",
      "     argument of 1.  Any negative dimensions are treated as zero.  These\r\n",
      "     odd definitions are for compatibility with MATLAB.\r\n",
      "\r\n",
      "     See also: speye, ones, zeros.\r\n",
      "\r\n",
      "Additional help for built-in functions and operators is\r\n",
      "available in the online version of the manual.  Use the command\r\n",
      "'doc <topic>' to search the manual index.\r\n",
      "\r\n",
      "Help and information about Octave is also available on the WWW\r\n",
      "at https://www.octave.org and via the help@octave.org\r\n",
      "mailing list.\r\n"
     ]
    }
   ],
   "source": [
    "help eye"
   ]
  }
 ],
 "metadata": {
  "kernelspec": {
   "display_name": "Octave",
   "language": "octave",
   "name": "octave"
  },
  "language_info": {
   "file_extension": ".m",
   "help_links": [
    {
     "text": "GNU Octave",
     "url": "https://www.gnu.org/software/octave/support.html"
    },
    {
     "text": "Octave Kernel",
     "url": "https://github.com/Calysto/octave_kernel"
    },
    {
     "text": "MetaKernel Magics",
     "url": "https://metakernel.readthedocs.io/en/latest/source/README.html"
    }
   ],
   "mimetype": "text/x-octave",
   "name": "octave",
   "version": "5.2.0"
  }
 },
 "nbformat": 4,
 "nbformat_minor": 4
}
