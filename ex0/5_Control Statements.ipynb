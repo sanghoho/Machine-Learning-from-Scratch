{
 "cells": [
  {
   "cell_type": "markdown",
   "metadata": {},
   "source": [
    "\n",
    "# Octave Tutorial: Control Statements\n",
    "\n",
    "## for, while, if statement\n",
    "\n",
    "## 2020년 07월 26일 안상호\n",
    "\n",
    "\n",
    "### Octave의 장점\n",
    "\n",
    "- 빠른 프로토타입(알고리즘) 구현 가능 \n",
    "- 높은 생산성...\n",
    "- (사족) 통계 : R = 수학 : Octave"
   ]
  },
  {
   "cell_type": "markdown",
   "metadata": {},
   "source": [
    "# 1. for loop"
   ]
  },
  {
   "cell_type": "code",
   "execution_count": 4,
   "metadata": {},
   "outputs": [
    {
     "name": "stdout",
     "output_type": "stream",
     "text": [
      "v =\n",
      "\n",
      "   0\n",
      "   0\n",
      "   0\n",
      "   0\n",
      "   0\n",
      "   0\n",
      "   0\n",
      "   0\n",
      "   0\n",
      "   0\n",
      "\n",
      "v =\n",
      "\n",
      "      2\n",
      "      4\n",
      "      8\n",
      "     16\n",
      "     32\n",
      "     64\n",
      "    128\n",
      "    256\n",
      "    512\n",
      "   1024\n",
      "\n"
     ]
    }
   ],
   "source": [
    "v = zeros(10, 1)\n",
    "\n",
    "for i=1:10,\n",
    "    v(i) = 2^i;\n",
    "end;\n",
    "\n",
    "v\n"
   ]
  },
  {
   "cell_type": "code",
   "execution_count": 6,
   "metadata": {},
   "outputs": [
    {
     "name": "stdout",
     "output_type": "stream",
     "text": [
      " 1\r\n",
      " 2\r\n",
      " 3\r\n",
      " 4\r\n",
      " 5\r\n",
      " 6\r\n",
      " 7\r\n",
      " 8\r\n",
      " 9\r\n",
      " 10\r\n"
     ]
    }
   ],
   "source": [
    "indices=1:10;\n",
    "\n",
    "for i=indices,\n",
    "    disp(i);\n",
    "end;"
   ]
  },
  {
   "cell_type": "markdown",
   "metadata": {},
   "source": [
    "# 2. while loop"
   ]
  },
  {
   "cell_type": "code",
   "execution_count": 7,
   "metadata": {},
   "outputs": [
    {
     "name": "stdout",
     "output_type": "stream",
     "text": [
      "v =\r\n",
      "\r\n",
      "    100\r\n",
      "    100\r\n",
      "    100\r\n",
      "    100\r\n",
      "    100\r\n",
      "     64\r\n",
      "    128\r\n",
      "    256\r\n",
      "    512\r\n",
      "   1024\r\n",
      "\r\n"
     ]
    }
   ],
   "source": [
    "i = 1;\n",
    "while i <= 5,\n",
    "    v(i) = 100;\n",
    "    i += 1; % i = i + 1\n",
    "end;\n",
    "\n",
    "v\n",
    "    "
   ]
  },
  {
   "cell_type": "code",
   "execution_count": 8,
   "metadata": {},
   "outputs": [
    {
     "name": "stdout",
     "output_type": "stream",
     "text": [
      "v =\r\n",
      "\r\n",
      "    999\r\n",
      "    999\r\n",
      "    999\r\n",
      "    999\r\n",
      "    999\r\n",
      "     64\r\n",
      "    128\r\n",
      "    256\r\n",
      "    512\r\n",
      "   1024\r\n",
      "\r\n"
     ]
    }
   ],
   "source": [
    "i=1;\n",
    "while true,\n",
    "    v(i) = 999;\n",
    "    i += 1;\n",
    "    if i == 6,\n",
    "        break;\n",
    "    end;\n",
    "end;\n",
    "\n",
    "v"
   ]
  },
  {
   "cell_type": "markdown",
   "metadata": {},
   "source": [
    "# 3. if-else statement"
   ]
  },
  {
   "cell_type": "code",
   "execution_count": 9,
   "metadata": {},
   "outputs": [
    {
     "name": "stdout",
     "output_type": "stream",
     "text": [
      "ans =  999\r\n"
     ]
    }
   ],
   "source": [
    "v(1)"
   ]
  },
  {
   "cell_type": "code",
   "execution_count": 10,
   "metadata": {},
   "outputs": [
    {
     "name": "stdout",
     "output_type": "stream",
     "text": [
      "The value is two\r\n"
     ]
    }
   ],
   "source": [
    "v(1) = 2;\n",
    "\n",
    "if v(1) == 1,\n",
    "    disp('The value is one');\n",
    "elseif v(1) == 2,\n",
    "    disp('The value is two');\n",
    "else\n",
    "    disp('The value is not one or two.');\n",
    "end;"
   ]
  },
  {
   "cell_type": "markdown",
   "metadata": {},
   "source": [
    "# 4. function\n",
    "\n",
    "`.m` 파일로 저장할 때는 `endfunction` 예약어가 필요 없는 것으로 보인다."
   ]
  },
  {
   "cell_type": "code",
   "execution_count": 24,
   "metadata": {},
   "outputs": [],
   "source": [
    "function y = cubeThisNumber(x) \n",
    "\n",
    "y = x^3;\n",
    "\n",
    "endfunction"
   ]
  },
  {
   "cell_type": "code",
   "execution_count": 25,
   "metadata": {},
   "outputs": [
    {
     "name": "stdout",
     "output_type": "stream",
     "text": [
      "ans = /home/sanghoho/Desktop/Data/Project/machine-learning\r\n"
     ]
    }
   ],
   "source": [
    "pwd"
   ]
  },
  {
   "cell_type": "code",
   "execution_count": 27,
   "metadata": {},
   "outputs": [
    {
     "name": "stdout",
     "output_type": "stream",
     "text": [
      "ans =  125\r\n"
     ]
    }
   ],
   "source": [
    "cubeThisNumber(5)"
   ]
  },
  {
   "cell_type": "markdown",
   "metadata": {},
   "source": [
    "## 4.2. Multiple return"
   ]
  },
  {
   "cell_type": "code",
   "execution_count": 28,
   "metadata": {},
   "outputs": [],
   "source": [
    "function [y1, y2] = squareAndCubeThisNumber(x)\n",
    "\n",
    "y1 = x^2;\n",
    "y2 = x^3;\n",
    "\n",
    "endfunction"
   ]
  },
  {
   "cell_type": "code",
   "execution_count": 31,
   "metadata": {},
   "outputs": [
    {
     "name": "stdout",
     "output_type": "stream",
     "text": [
      "a =  25\r\n",
      "b =  125\r\n"
     ]
    }
   ],
   "source": [
    "[a, b] = squareAndCubeThisNumber(5)"
   ]
  },
  {
   "cell_type": "markdown",
   "metadata": {},
   "source": [
    "# 5. Compute Cost function"
   ]
  },
  {
   "cell_type": "code",
   "execution_count": 32,
   "metadata": {},
   "outputs": [
    {
     "name": "stdout",
     "output_type": "stream",
     "text": [
      "X =\n",
      "\n",
      "   1   1\n",
      "   1   2\n",
      "   1   3\n",
      "\n",
      "y =\n",
      "\n",
      "   1\n",
      "   2\n",
      "   3\n",
      "\n"
     ]
    }
   ],
   "source": [
    "X= [1 1; 1 2; 1 3]\n",
    "y = [1; 2; 3]\n",
    "\n",
    "theta = [0; 1];"
   ]
  },
  {
   "cell_type": "code",
   "execution_count": 35,
   "metadata": {},
   "outputs": [],
   "source": [
    "function J = costFunctionJ(X, y, theta)\n",
    "\n",
    "% X is the \"design matrix\" containing our training examples.\n",
    "% y is the class labels\n",
    "\n",
    "m = size(X, 1);          % number of training examples\n",
    "predictions = X * theta; % predictions of hypothesis on all m examples\n",
    "\n",
    "sqrErrors = (predictions - y).^2; % squred error\n",
    "\n",
    "J = 1 / (2*m) * sum(sqrErrors);\n",
    "\n",
    "endfunction\n"
   ]
  },
  {
   "cell_type": "code",
   "execution_count": 36,
   "metadata": {},
   "outputs": [
    {
     "name": "stdout",
     "output_type": "stream",
     "text": [
      "j = 0\r\n"
     ]
    }
   ],
   "source": [
    "j = costFunctionJ(X, y, theta)"
   ]
  },
  {
   "cell_type": "code",
   "execution_count": 37,
   "metadata": {},
   "outputs": [
    {
     "name": "stdout",
     "output_type": "stream",
     "text": [
      "theta =\n",
      "\n",
      "   0\n",
      "   0\n",
      "\n",
      "j =  2.3333\n"
     ]
    }
   ],
   "source": [
    "theta = [0; 0]\n",
    "\n",
    "j = costFunctionJ(X, y, theta)"
   ]
  },
  {
   "cell_type": "code",
   "execution_count": 38,
   "metadata": {},
   "outputs": [
    {
     "name": "stdout",
     "output_type": "stream",
     "text": [
      "ans =  2.3333\r\n"
     ]
    }
   ],
   "source": [
    "(1^2 + 2^2 + 3^2)  / (2*3)"
   ]
  },
  {
   "cell_type": "markdown",
   "metadata": {},
   "source": [
    "# Octave Search Path\n",
    "\n"
   ]
  },
  {
   "cell_type": "code",
   "execution_count": null,
   "metadata": {},
   "outputs": [],
   "source": [
    "% Octave search path (advanced / optional)\n",
    "% addpath('path/to/add')"
   ]
  }
 ],
 "metadata": {
  "kernelspec": {
   "display_name": "Octave",
   "language": "octave",
   "name": "octave"
  },
  "language_info": {
   "file_extension": ".m",
   "help_links": [
    {
     "text": "GNU Octave",
     "url": "https://www.gnu.org/software/octave/support.html"
    },
    {
     "text": "Octave Kernel",
     "url": "https://github.com/Calysto/octave_kernel"
    },
    {
     "text": "MetaKernel Magics",
     "url": "https://metakernel.readthedocs.io/en/latest/source/README.html"
    }
   ],
   "mimetype": "text/x-octave",
   "name": "octave",
   "version": "5.2.0"
  }
 },
 "nbformat": 4,
 "nbformat_minor": 4
}
