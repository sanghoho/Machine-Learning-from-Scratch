{
 "cells": [
  {
   "cell_type": "markdown",
   "metadata": {},
   "source": [
    "# Octave Programming Assignment: \n",
    "\n",
    "## Logistic Regression\n",
    "\n",
    "## 2020년 08월 11일 안상호\n"
   ]
  },
  {
   "cell_type": "markdown",
   "metadata": {},
   "source": [
    "# 1. Logistic Regression\n",
    "\n",
    "## 1.1. Visualizing the data"
   ]
  },
  {
   "cell_type": "code",
   "execution_count": 1,
   "metadata": {},
   "outputs": [],
   "source": [
    "%% Load Data\n",
    "%  The first two columns contains the exam scores and the third column\n",
    "%  contains the label.\n",
    "\n",
    "data = load('ex2data1.txt');\n",
    "X = data(:, [1, 2]); y = data(:, 3);"
   ]
  },
  {
   "cell_type": "code",
   "execution_count": 2,
   "metadata": {},
   "outputs": [],
   "source": [
    "pos = find(y==1); neg = find(y == 0);"
   ]
  },
  {
   "cell_type": "code",
   "execution_count": 3,
   "metadata": {},
   "outputs": [
    {
     "data": {
      "image/png": "[encoded data removed]",
      "text/plain": [
       "<IPython.core.display.Image object>"
      ]
     },
     "metadata": {},
     "output_type": "display_data"
    }
   ],
   "source": [
    "figure; hold on;\n",
    "\n",
    "plot(X(pos, 1), X(pos, 2), 'k+','LineWidth', 2, ...\n",
    "'MarkerSize', 7);\n",
    "plot(X(neg, 1), X(neg, 2), 'ko', 'MarkerFaceColor', 'y', ...\n",
    "'MarkerSize', 7);\n",
    "\n",
    "hold off;"
   ]
  },
  {
   "cell_type": "code",
   "execution_count": 4,
   "metadata": {},
   "outputs": [
    {
     "name": "stdout",
     "output_type": "stream",
     "text": [
      "Plotting data with + indicating (y = 1) examples and o indicating (y = 0) examples.\r\n"
     ]
    },
    {
     "data": {
      "image/png": "[encoded data removed]",
      "text/plain": [
       "<IPython.core.display.Image object>"
      ]
     },
     "metadata": {},
     "output_type": "display_data"
    }
   ],
   "source": [
    "fprintf(['Plotting data with + indicating (y = 1) examples and o ' ...\n",
    "         'indicating (y = 0) examples.\\n']);\n",
    "\n",
    "plotData(X, y);\n",
    "\n",
    "hold on;\n",
    "% Labels and Legend\n",
    "xlabel('Exam 1 score')\n",
    "ylabel('Exam 2 score')\n",
    "\n",
    "% Specified in plot order\n",
    "legend('Admitted', 'Not admitted')\n",
    "hold off;\n",
    "\n"
   ]
  },
  {
   "cell_type": "markdown",
   "metadata": {},
   "source": [
    "## 1.2. Implementation\n",
    "\n",
    "### 1.2.1. sigmoid function `sigmoid.m`\n",
    "\n",
    "$$g(z) = \\dfrac{1}{1+ e^{-z}}$$"
   ]
  },
  {
   "cell_type": "code",
   "execution_count": 5,
   "metadata": {},
   "outputs": [
    {
     "name": "stdout",
     "output_type": "stream",
     "text": [
      "z =  1\n",
      "ans =  0.73106\n"
     ]
    }
   ],
   "source": [
    "z = 1\n",
    "\n",
    "1 ./ (1 + e .^(-z))"
   ]
  },
  {
   "cell_type": "code",
   "execution_count": 6,
   "metadata": {},
   "outputs": [
    {
     "name": "stdout",
     "output_type": "stream",
     "text": [
      "z =\n",
      "\n",
      "   1   2   3\n",
      "   4   5   6\n",
      "\n",
      "ans =\n",
      "\n",
      "   0.73106   0.88080   0.95257\n",
      "   0.98201   0.99331   0.99753\n",
      "\n"
     ]
    }
   ],
   "source": [
    "z = [1 2 3; 4 5 6]\n",
    "\n",
    "1 ./ (1 + e .^ (-z))"
   ]
  },
  {
   "cell_type": "markdown",
   "metadata": {},
   "source": [
    "### 1.2.2. Cost function and gradient\n",
    "\n",
    "$$J(\\theta) = \\dfrac{1}{m} \\sum_{i=1}^{m} \\left[ -y^{(i)} \\log{(h_{\\theta}(x^{(i)}))} - (1 - y^{(i)})\\log{(1 - h_{\\theta}(x^{(i)}))} \\right]$$"
   ]
  },
  {
   "cell_type": "code",
   "execution_count": 7,
   "metadata": {},
   "outputs": [
    {
     "name": "stdout",
     "output_type": "stream",
     "text": [
      "initial_theta =\r\n",
      "\r\n",
      "   0\r\n",
      "   0\r\n",
      "   0\r\n",
      "\r\n"
     ]
    }
   ],
   "source": [
    "%  Setup the data matrix appropriately, and add ones for the intercept term\n",
    "[m, n] = size(X);\n",
    "\n",
    "% Add intercept term to x and X_test\n",
    "X = [ones(m, 1) X];\n",
    "\n",
    "% Initialize fitting parameters\n",
    "initial_theta = zeros(n + 1, 1)\n"
   ]
  },
  {
   "cell_type": "code",
   "execution_count": 8,
   "metadata": {},
   "outputs": [
    {
     "name": "stdout",
     "output_type": "stream",
     "text": [
      "ans =  0.69315\r\n"
     ]
    }
   ],
   "source": [
    "h = sigmoid(X  * initial_theta);\n",
    "\n",
    "(1 / m) * sum(-y .* log(h) - (1-y) .* log(1-h))"
   ]
  },
  {
   "cell_type": "code",
   "execution_count": 9,
   "metadata": {},
   "outputs": [
    {
     "name": "stdout",
     "output_type": "stream",
     "text": [
      "J =  0.54119\n",
      "J_1 =  0.54119\n"
     ]
    }
   ],
   "source": [
    "J = (1/m)*(-y' * log(sigmoid(X * initial_theta)) - (1-y)' * log(sigmoid(1 - X * initial_theta)))\n",
    "\n",
    "J_1 = (1/m) * sum(-y .* log(sigmoid(X * initial_theta)) - (1-y) .* log(sigmoid(1 - X * initial_theta)))"
   ]
  },
  {
   "cell_type": "code",
   "execution_count": 10,
   "metadata": {},
   "outputs": [
    {
     "name": "stdout",
     "output_type": "stream",
     "text": [
      "grad =\r\n",
      "\r\n",
      "   -0.10000\r\n",
      "  -12.00922\r\n",
      "  -11.26284\r\n",
      "\r\n"
     ]
    }
   ],
   "source": [
    "grad = (1 / m) * X' *(sigmoid(X * initial_theta) - y)"
   ]
  },
  {
   "cell_type": "code",
   "execution_count": 11,
   "metadata": {},
   "outputs": [
    {
     "name": "stdout",
     "output_type": "stream",
     "text": [
      "cost =  0.69315\r\n",
      "grad =\r\n",
      "\r\n",
      "   -0.10000\r\n",
      "  -12.00922\r\n",
      "  -11.26284\r\n",
      "\r\n"
     ]
    }
   ],
   "source": [
    "\n",
    "% Compute and display initial cost and gradient\n",
    "[cost, grad] = costFunction(initial_theta, X, y)"
   ]
  },
  {
   "cell_type": "markdown",
   "metadata": {},
   "source": [
    "### 1.2.3. Learning parameters using fminunc"
   ]
  },
  {
   "cell_type": "code",
   "execution_count": 12,
   "metadata": {},
   "outputs": [
    {
     "name": "stdout",
     "output_type": "stream",
     "text": [
      "Cost at theta found by fminunc: 0.203498\n",
      "Expected cost (approx): 0.203\n",
      "theta: \n",
      " -25.161272 \n",
      " 0.206233 \n",
      " 0.201470 \n",
      "Expected theta (approx):\n",
      " -25.161\n",
      " 0.206\n",
      " 0.201\n",
      "Accuracy: 0.890000\n"
     ]
    }
   ],
   "source": [
    "%  Set options for fminunc\n",
    "options = optimset('GradObj', 'on', 'MaxIter', 400);\n",
    "\n",
    "%  Run fminunc to obtain the optimal theta\n",
    "%  This function will return theta and the cost \n",
    "[theta, cost] = ...\n",
    "    fminunc(@(t)(costFunction(t, X, y)), initial_theta, options);\n",
    "\n",
    "% Print theta to screen\n",
    "fprintf('Cost at theta found by fminunc: %f\\n', cost);\n",
    "fprintf('Expected cost (approx): 0.203\\n');\n",
    "fprintf('theta: \\n');\n",
    "fprintf(' %f \\n', theta);\n",
    "fprintf('Expected theta (approx):\\n');\n",
    "fprintf(' -25.161\\n 0.206\\n 0.201\\n');\n",
    "fprintf('Accuracy: %f\\n', sum((sigmoid(X *theta) >= 0.5) == y) / m)\n"
   ]
  },
  {
   "cell_type": "markdown",
   "metadata": {},
   "source": [
    "- `plotDecisionBoundary`"
   ]
  },
  {
   "cell_type": "code",
   "execution_count": 13,
   "metadata": {
    "scrolled": false
   },
   "outputs": [
    {
     "data": {
      "image/png": "[encoded data removed]",
      "text/plain": [
       "<IPython.core.display.Image object>"
      ]
     },
     "metadata": {},
     "output_type": "display_data"
    }
   ],
   "source": [
    "plotDecisionBoundary(theta, X, y)"
   ]
  },
  {
   "cell_type": "markdown",
   "metadata": {},
   "source": [
    "$$sigmoid(\\theta_0 + \\theta_1 X_1 + \\theta_2 X_2)$$\n",
    "\n",
    "$$sigmoid(-25.16127 + 0.20623 X_1 + 0.20147 X_2)$$\n",
    "\n",
    "$$0.20623 X_1 + 0.20147 X_2 > 25.16127$$\n"
   ]
  },
  {
   "cell_type": "code",
   "execution_count": 14,
   "metadata": {},
   "outputs": [
    {
     "name": "stdout",
     "output_type": "stream",
     "text": [
      "ans =\r\n",
      "\r\n",
      "    -1.0000\r\n",
      "   122.0043\r\n",
      "   124.8883\r\n",
      "\r\n"
     ]
    }
   ],
   "source": [
    "-theta(1) ./ theta\n",
    "% theta(1) / theta"
   ]
  },
  {
   "cell_type": "markdown",
   "metadata": {},
   "source": [
    "### 1.2.4. Evaluating logistic regression"
   ]
  },
  {
   "cell_type": "code",
   "execution_count": 15,
   "metadata": {},
   "outputs": [
    {
     "name": "stdout",
     "output_type": "stream",
     "text": [
      "p =\r\n",
      "\r\n",
      "   0\r\n",
      "   0\r\n",
      "   0\r\n",
      "   1\r\n",
      "   1\r\n",
      "   0\r\n",
      "   1\r\n",
      "   0\r\n",
      "   1\r\n",
      "   1\r\n",
      "   1\r\n",
      "   0\r\n",
      "   1\r\n",
      "   1\r\n",
      "   0\r\n",
      "   1\r\n",
      "   0\r\n",
      "   0\r\n",
      "   1\r\n",
      "   1\r\n",
      "   0\r\n",
      "   1\r\n",
      "   0\r\n",
      "   0\r\n",
      "   1\r\n",
      "   1\r\n",
      "   1\r\n",
      "   1\r\n",
      "   0\r\n",
      "   0\r\n",
      "   1\r\n",
      "   1\r\n",
      "   0\r\n",
      "   0\r\n",
      "   0\r\n",
      "   0\r\n",
      "   1\r\n",
      "   1\r\n",
      "   0\r\n",
      "   0\r\n",
      "   1\r\n",
      "   0\r\n",
      "   1\r\n",
      "   1\r\n",
      "   0\r\n",
      "   0\r\n",
      "   1\r\n",
      "   1\r\n",
      "   1\r\n",
      "   1\r\n",
      "   1\r\n",
      "   1\r\n",
      "   1\r\n",
      "   0\r\n",
      "   0\r\n",
      "   0\r\n",
      "   1\r\n",
      "   1\r\n",
      "   1\r\n",
      "   1\r\n",
      "   1\r\n",
      "   0\r\n",
      "   0\r\n",
      "   0\r\n",
      "   0\r\n",
      "   0\r\n",
      "   1\r\n",
      "   0\r\n",
      "   1\r\n",
      "   1\r\n",
      "   0\r\n",
      "   1\r\n",
      "   1\r\n",
      "   1\r\n",
      "   1\r\n",
      "   1\r\n",
      "   1\r\n",
      "   1\r\n",
      "   0\r\n",
      "   1\r\n",
      "   1\r\n",
      "   1\r\n",
      "   1\r\n",
      "   0\r\n",
      "   1\r\n",
      "   1\r\n",
      "   0\r\n",
      "   1\r\n",
      "   1\r\n",
      "   0\r\n",
      "   1\r\n",
      "   1\r\n",
      "   0\r\n",
      "   1\r\n",
      "   1\r\n",
      "   1\r\n",
      "   1\r\n",
      "   1\r\n",
      "   0\r\n",
      "   1\r\n",
      "\r\n"
     ]
    }
   ],
   "source": [
    "m = size(X, 1); % Number of training examples\n",
    "\n",
    "% You need to return the following variables correctly\n",
    "p = zeros(m, 1);\n",
    "\n",
    "p(sigmoid(X *theta) >= 0.5) = 1;\n",
    "p(sigmoid(X *theta) < 0.5) = 0;\n",
    "p"
   ]
  },
  {
   "cell_type": "markdown",
   "metadata": {},
   "source": [
    "# 2. Regularized logistic regression\n",
    "\n",
    "## 2.1. Visualizing the data"
   ]
  },
  {
   "cell_type": "code",
   "execution_count": 51,
   "metadata": {},
   "outputs": [
    {
     "data": {
      "image/png": "[encoded data removed]",
      "text/plain": [
       "<IPython.core.display.Image object>"
      ]
     },
     "metadata": {},
     "output_type": "display_data"
    }
   ],
   "source": [
    "%% Load Data\n",
    "%  The first two columns contains the X values and the third column\n",
    "%  contains the label (y).\n",
    "\n",
    "data = load('ex2data2.txt');\n",
    "X = data(:, [1, 2]); y = data(:, 3);\n",
    "\n",
    "plotData(X, y);\n",
    "\n",
    "% Put some labels\n",
    "hold on;\n",
    "\n",
    "% Labels and Legend\n",
    "xlabel('Microchip Test 1')\n",
    "ylabel('Microchip Test 2')\n",
    "\n",
    "% Specified in plot order\n",
    "legend('y = 1', 'y = 0')\n",
    "hold off;"
   ]
  },
  {
   "cell_type": "markdown",
   "metadata": {},
   "source": [
    "## 2.2. Feature mapping\n",
    "\n",
    "`mapFeature.m`을 쓰면 $x_1$ 과 $x_2$를 입력받아 28 차원의 벡터로 변환된다.\n",
    "\n",
    "$$\\sim {x_2}^{6}$$"
   ]
  },
  {
   "cell_type": "code",
   "execution_count": 52,
   "metadata": {},
   "outputs": [],
   "source": [
    "% Add Polynomial Features\n",
    "\n",
    "% Note that mapFeature also adds a column of ones for us, so the intercept\n",
    "% term is handled\n",
    "X = mapFeature(X(:,1), X(:,2));"
   ]
  },
  {
   "cell_type": "markdown",
   "metadata": {},
   "source": [
    "## 2.3. Cost function and gradient\n",
    "\n",
    "- costFunctionReg.m\n",
    "\n",
    "$$J(\\theta) = \\dfrac{1}{m} \\sum_{i=1}^{m} \\left[ -y^{(i)} \\log{(h_{\\theta}(x^{(i)}))} - (1 - y^{(i)})\\log{(1 - h_{\\theta}(x^{(i)}))} \\right] + \\dfrac{\\lambda}{2m}\\sum_{j=1}^{n}\\theta^2$$\n",
    "\n",
    "#### 주의점!\n",
    "\n",
    "> Regularization을 $\\theta_0 = 1$에 적용하지는 말것\n",
    "\n",
    "그래서 $theta_0$ 를 제외해주고 regularization 항을 작성, Python 처럼 -1 같은게 안돼서 그냥 `size` 함수로 다음과 같은 값을 구해주었다.\n",
    "\n",
    "- `m`: 데이터 갯수\n",
    "- `n`: 파라미터 갯수\n",
    "\n"
   ]
  },
  {
   "cell_type": "code",
   "execution_count": 65,
   "metadata": {},
   "outputs": [],
   "source": [
    "% Initialize fitting parameters\n",
    "[m, n] = size(X); % number of training examples\n",
    "\n",
    "initial_theta = zeros(n, 1);\n",
    "\n",
    "% Set regularization parameter lambda to 1\n",
    "lambda = 1;"
   ]
  },
  {
   "cell_type": "code",
   "execution_count": 67,
   "metadata": {},
   "outputs": [
    {
     "name": "stdout",
     "output_type": "stream",
     "text": [
      "J =  0.69315\r\n"
     ]
    }
   ],
   "source": [
    "h = sigmoid(X  * initial_theta);\n",
    "\n",
    "\n",
    "reg = lambda / (2*m) * initial_theta(2:n)' * initial_theta(2:n);\n",
    "\n",
    "J = (1 / m) * sum(-y .* log(h) - (1-y) .* log(1-h)) + reg\n",
    "\n",
    "% J_0 = (1/m)*(-y' * log(sigmoid(X(:, 1) * initial_theta)) - (1-y)' * log(sigmoid(1 - X(:, 1) * initial_theta)))\n",
    "% J = (1/m)*(-y' .* log(sigmoid(X * initial_theta)) - (1-y)' .* log(sigmoid(1 - X * initial_theta))) + reg\n",
    "\n",
    "\n",
    "% X(:, 2:size(X, 2))"
   ]
  },
  {
   "cell_type": "markdown",
   "metadata": {},
   "source": [
    "- gradient\n",
    "\n",
    "$$\n",
    "\\begin{align}\n",
    "&\\dfrac{\\partial J(\\theta)}{\\partial \\theta_0} = \\dfrac{1}{m} \\sum_{i=1}^{m} (h_\\theta(x^{(i)}) - y^{(i)}) x_j^{(i)} & \\text{for} \\ j = 0\\\\\n",
    "&\\dfrac{\\partial J(\\theta)}{\\partial \\theta_j} = \\bigg( \\dfrac{1}{m} \\sum_{i=1}^{m} (h_\\theta(x^{(i)}) - y^{(i)}) x_j^{(i)} \\bigg)  + \\dfrac{\\lambda}{m}\\theta_j& \\text{for} \\ j \\geq 1\\\\\n",
    "\\end{align}\n",
    "$$\n",
    "\n",
    "\n",
    "약간 요런 느낌인가\n",
    "- 1항$(\\theta_0)$만 제거하고, \n",
    "$$\\bigg( \\dfrac{1}{m} X^T \\left( X^T \\theta - \\vec{y} \\right)  \\bigg) + \\dfrac{\\lambda}{m} \\theta$$"
   ]
  },
  {
   "cell_type": "code",
   "execution_count": 72,
   "metadata": {},
   "outputs": [
    {
     "name": "stdout",
     "output_type": "stream",
     "text": [
      "ans =\r\n",
      "\r\n",
      "   0.008474576\r\n",
      "   0.018788093\r\n",
      "   0.000077771\r\n",
      "   0.050344640\r\n",
      "   0.011501331\r\n",
      "   0.037664847\r\n",
      "   0.018355987\r\n",
      "   0.007323934\r\n",
      "   0.008192445\r\n",
      "   0.023476489\r\n",
      "   0.039348623\r\n",
      "   0.002239239\r\n",
      "   0.012860050\r\n",
      "   0.003095937\r\n",
      "   0.039302817\r\n",
      "   0.019970747\r\n",
      "   0.004329832\r\n",
      "   0.003386439\r\n",
      "   0.005838221\r\n",
      "   0.004476291\r\n",
      "   0.031007985\r\n",
      "   0.031031244\r\n",
      "   0.001097402\r\n",
      "   0.006315708\r\n",
      "   0.000408503\r\n",
      "   0.007265043\r\n",
      "   0.001376462\r\n",
      "   0.038793636\r\n",
      "\r\n"
     ]
    }
   ],
   "source": [
    "% gradient\n",
    "\n",
    "grad_reg = (lambda / m) * initial_theta;\n",
    "grad_reg(1) = 0;\n",
    "\n",
    "(1 / m) * X' * (h - y) + grad_reg\n"
   ]
  },
  {
   "cell_type": "code",
   "execution_count": 76,
   "metadata": {},
   "outputs": [],
   "source": [
    "% Compute and display initial cost and gradient for regularized logistic\n",
    "% regression\n",
    "[cost, grad] = costFunctionReg(initial_theta, X, y, lambda);"
   ]
  },
  {
   "cell_type": "code",
   "execution_count": 75,
   "metadata": {},
   "outputs": [
    {
     "name": "stdout",
     "output_type": "stream",
     "text": [
      "Cost at initial theta (zeros): 0.693147\n",
      "Expected cost (approx): 0.693\n",
      "Gradient at initial theta (zeros) - first five values only:\n",
      " 0.008475 \n",
      " 0.018788 \n",
      " 0.000078 \n",
      " 0.050345 \n",
      " 0.011501 \n",
      "Expected gradients (approx) - first five values only:\n",
      " 0.0085\n",
      " 0.0188\n",
      " 0.0001\n",
      " 0.0503\n",
      " 0.0115\n"
     ]
    }
   ],
   "source": [
    "fprintf('Cost at initial theta (zeros): %f\\n', cost);\n",
    "fprintf('Expected cost (approx): 0.693\\n');\n",
    "fprintf('Gradient at initial theta (zeros) - first five values only:\\n');\n",
    "fprintf(' %f \\n', grad(1:5));\n",
    "fprintf('Expected gradients (approx) - first five values only:\\n');\n",
    "fprintf(' 0.0085\\n 0.0188\\n 0.0001\\n 0.0503\\n 0.0115\\n');"
   ]
  },
  {
   "cell_type": "markdown",
   "metadata": {},
   "source": [
    "### 2.3.1. Learning parameters using `fminunc`"
   ]
  },
  {
   "cell_type": "code",
   "execution_count": 99,
   "metadata": {},
   "outputs": [],
   "source": [
    "% Initialize fitting parameters\n",
    "initial_theta = zeros(size(X, 2), 1);\n",
    "\n",
    "% Set regularization parameter lambda to 1 (you should vary this)\n",
    "lambda = 100; % (0, 1, 10, 100)\n"
   ]
  },
  {
   "cell_type": "code",
   "execution_count": 100,
   "metadata": {},
   "outputs": [],
   "source": [
    "% Set Options\n",
    "options = optimset('GradObj', 'on', 'MaxIter', 400);\n",
    "\n",
    "% Optimize\n",
    "[theta, J, exit_flag] = ...\n",
    "    fminunc(@(t)(costFunctionReg(t, X, y, lambda)), initial_theta, options);"
   ]
  },
  {
   "cell_type": "markdown",
   "metadata": {},
   "source": [
    "## 2.4. Plotting the decision boundary"
   ]
  },
  {
   "cell_type": "markdown",
   "metadata": {},
   "source": [
    "`plotDecisionBoundary` 가 동일하게 적용되는 것으로 보아 분석의 필요성을 느낀다."
   ]
  },
  {
   "cell_type": "code",
   "execution_count": 92,
   "metadata": {},
   "outputs": [
    {
     "name": "stdout",
     "output_type": "stream",
     "text": [
      "Train Accuracy: 86.440678\n",
      "Expected accuracy (with lambda = 1): 83.1 (approx)\n"
     ]
    },
    {
     "data": {
      "image/png": "[encoded data removed]",
      "text/plain": [
       "<IPython.core.display.Image object>"
      ]
     },
     "metadata": {},
     "output_type": "display_data"
    }
   ],
   "source": [
    "% Plot Boundary\n",
    "\n",
    "plotDecisionBoundary(theta, X, y);\n",
    "hold on;\n",
    "\n",
    "title(sprintf('lambda = %g', lambda))\n",
    "\n",
    "% Labels and Legend\n",
    "xlabel('Microchip Test 1')\n",
    "ylabel('Microchip Test 2')\n",
    "\n",
    "legend('y = 1', 'y = 0', 'Decision boundary')\n",
    "hold off;\n",
    "\n",
    "% Compute accuracy on our training set\n",
    "p = predict(theta, X);\n",
    "\n",
    "fprintf('Train Accuracy: %f\\n', mean(double(p == y)) * 100);\n",
    "fprintf('Expected accuracy (with lambda = 1): 83.1 (approx)\\n');"
   ]
  },
  {
   "cell_type": "code",
   "execution_count": 95,
   "metadata": {},
   "outputs": [
    {
     "name": "stdout",
     "output_type": "stream",
     "text": [
      "Train Accuracy: 83.050847\n",
      "Expected accuracy (with lambda = 1): 83.1 (approx)\n"
     ]
    },
    {
     "data": {
      "image/png": "[encoded data removed]",
      "text/plain": [
       "<IPython.core.display.Image object>"
      ]
     },
     "metadata": {},
     "output_type": "display_data"
    }
   ],
   "source": [
    "% Plot Boundary\n",
    "\n",
    "plotDecisionBoundary(theta, X, y);\n",
    "hold on;\n",
    "\n",
    "title(sprintf('lambda = %g', lambda))\n",
    "\n",
    "% Labels and Legend\n",
    "xlabel('Microchip Test 1')\n",
    "ylabel('Microchip Test 2')\n",
    "\n",
    "legend('y = 1', 'y = 0', 'Decision boundary')\n",
    "hold off;\n",
    "\n",
    "% Compute accuracy on our training set\n",
    "p = predict(theta, X);\n",
    "\n",
    "fprintf('Train Accuracy: %f\\n', mean(double(p == y)) * 100);\n",
    "fprintf('Expected accuracy (with lambda = 1): 83.1 (approx)\\n');"
   ]
  },
  {
   "cell_type": "code",
   "execution_count": 98,
   "metadata": {},
   "outputs": [
    {
     "name": "stdout",
     "output_type": "stream",
     "text": [
      "Train Accuracy: 74.576271\n",
      "Expected accuracy (with lambda = 1): 83.1 (approx)\n"
     ]
    },
    {
     "data": {
      "image/png": "[encoded data removed]",
      "text/plain": [
       "<IPython.core.display.Image object>"
      ]
     },
     "metadata": {},
     "output_type": "display_data"
    }
   ],
   "source": [
    "% Plot Boundary\n",
    "\n",
    "plotDecisionBoundary(theta, X, y);\n",
    "hold on;\n",
    "\n",
    "title(sprintf('lambda = %g', lambda))\n",
    "\n",
    "% Labels and Legend\n",
    "xlabel('Microchip Test 1')\n",
    "ylabel('Microchip Test 2')\n",
    "\n",
    "legend('y = 1', 'y = 0', 'Decision boundary')\n",
    "hold off;\n",
    "\n",
    "% Compute accuracy on our training set\n",
    "p = predict(theta, X);\n",
    "\n",
    "fprintf('Train Accuracy: %f\\n', mean(double(p == y)) * 100);\n",
    "fprintf('Expected accuracy (with lambda = 1): 83.1 (approx)\\n');"
   ]
  },
  {
   "cell_type": "code",
   "execution_count": 101,
   "metadata": {},
   "outputs": [
    {
     "name": "stdout",
     "output_type": "stream",
     "text": [
      "Train Accuracy: 61.016949\n",
      "Expected accuracy (with lambda = 1): 83.1 (approx)\n"
     ]
    },
    {
     "data": {
      "image/png": "[encoded data removed]",
      "text/plain": [
       "<IPython.core.display.Image object>"
      ]
     },
     "metadata": {},
     "output_type": "display_data"
    }
   ],
   "source": [
    "% Plot Boundary\n",
    "\n",
    "plotDecisionBoundary(theta, X, y);\n",
    "hold on;\n",
    "\n",
    "title(sprintf('lambda = %g', lambda))\n",
    "\n",
    "% Labels and Legend\n",
    "xlabel('Microchip Test 1')\n",
    "ylabel('Microchip Test 2')\n",
    "\n",
    "legend('y = 1', 'y = 0', 'Decision boundary')\n",
    "hold off;\n",
    "\n",
    "% Compute accuracy on our training set\n",
    "p = predict(theta, X);\n",
    "\n",
    "fprintf('Train Accuracy: %f\\n', mean(double(p == y)) * 100);\n",
    "fprintf('Expected accuracy (with lambda = 1): 83.1 (approx)\\n');"
   ]
  }
 ],
 "metadata": {
  "kernelspec": {
   "display_name": "Octave",
   "language": "octave",
   "name": "octave"
  },
  "language_info": {
   "file_extension": ".m",
   "help_links": [
    {
     "text": "GNU Octave",
     "url": "https://www.gnu.org/software/octave/support.html"
    },
    {
     "text": "Octave Kernel",
     "url": "https://github.com/Calysto/octave_kernel"
    },
    {
     "text": "MetaKernel Magics",
     "url": "https://metakernel.readthedocs.io/en/latest/source/README.html"
    }
   ],
   "mimetype": "text/x-octave",
   "name": "octave",
   "version": "5.2.0"
  }
 },
 "nbformat": 4,
 "nbformat_minor": 4
}
