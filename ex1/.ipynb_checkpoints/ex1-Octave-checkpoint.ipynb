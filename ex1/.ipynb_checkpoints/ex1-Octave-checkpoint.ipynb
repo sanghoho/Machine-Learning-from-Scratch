{
 "cells": [
  {
   "cell_type": "markdown",
   "metadata": {},
   "source": [
    "# Octave Programming Assignment: \n",
    "\n",
    "## Linear Regression\n",
    "\n",
    "## 2020년 07월 26일 안상호\n"
   ]
  },
  {
   "cell_type": "markdown",
   "metadata": {},
   "source": [
    "# Introduction\n",
    "\n",
    "In this exercise, you will implement linear regression and get to see it work\n",
    "on data. Before starting on this programming exercise, we strongly recom-\n",
    "mend watching the video lectures and completing the review questions for\n",
    "the associated topics.\n",
    "To get started with the exercise, you will need to download the starter\n",
    "code and unzip its contents to the directory where you wish to complete the\n",
    "exercise. If needed, use the cd command in Octave/MATLAB to change to\n",
    "this directory before starting this exercise.\n",
    "You can also find instructions for installing Octave/MATLAB in the “En-\n",
    "vironment Setup Instructions” of the course website."
   ]
  },
  {
   "cell_type": "markdown",
   "metadata": {},
   "source": [
    "# 1. Simple Octave / MATLAB function"
   ]
  },
  {
   "cell_type": "code",
   "execution_count": 1,
   "metadata": {},
   "outputs": [
    {
     "name": "stdout",
     "output_type": "stream",
     "text": [
      "ans =\r\n",
      "\r\n",
      "Diagonal Matrix\r\n",
      "\r\n",
      "   1   0   0   0   0\r\n",
      "   0   1   0   0   0\r\n",
      "   0   0   1   0   0\r\n",
      "   0   0   0   1   0\r\n",
      "   0   0   0   0   1\r\n",
      "\r\n"
     ]
    }
   ],
   "source": [
    "warmUpExercise()"
   ]
  },
  {
   "cell_type": "markdown",
   "metadata": {},
   "source": [
    "# 2. Linear regression with one variable\n",
    "\n",
    "## 2.1. Plotting the Data"
   ]
  },
  {
   "cell_type": "code",
   "execution_count": 2,
   "metadata": {},
   "outputs": [],
   "source": [
    "data = load('ex1data1.txt'); % read comma seprated data\n",
    "X = data(:, 1); y = data(:, 2);\n",
    "m = length(y);"
   ]
  },
  {
   "cell_type": "code",
   "execution_count": 3,
   "metadata": {},
   "outputs": [
    {
     "data": {
      "image/png": "[encoded data removed]",
      "text/plain": [
       "<IPython.core.display.Image object>"
      ]
     },
     "metadata": {},
     "output_type": "display_data"
    }
   ],
   "source": [
    "plot(X, y, 'rx', 'MarkerSize', 10);\n",
    "ylabel('Profit in $10,000s');\n",
    "xlabel('Population of City in 10,000s');\n",
    "% Plot the data\n",
    "% Set the y−axis label\n",
    "% Set the x−axis label"
   ]
  },
  {
   "cell_type": "markdown",
   "metadata": {},
   "source": [
    "## 2.2. Gradient Descent\n",
    "\n",
    "### 2.2.1. Update Equations\n",
    "- cost function\n",
    "$$J(\\theta) = \\cfrac{1}{2m} \\sum_{i=1}^{m}\\big(h_{\\theta}(x^{(i)}) - y^{(i)}\\big)^2 $$\n",
    "\n",
    "이 식에서 $i$는 몇번째 훈련 데이터인지를 나타내며, 결론적으로 모든($m$) 훈련 데이터에서 오차를 계산하여 제곱하고 이를 합산한다.  \n",
    "\n",
    "- hypothesis\n",
    "\n",
    "\n",
    "$$h_{\\theta}(x) = \\theta^{T}x$$\n"
   ]
  },
  {
   "cell_type": "markdown",
   "metadata": {},
   "source": [
    "### 2.2.2. Implementation\n"
   ]
  },
  {
   "cell_type": "code",
   "execution_count": 4,
   "metadata": {},
   "outputs": [],
   "source": [
    "X = [ones(m, 1), data(:,1)]; % Add a column of ones to x\n",
    "theta = zeros(2, 1); % initialize fitting parameters\n",
    "iterations = 1500;\n",
    "alpha = 0.01;"
   ]
  },
  {
   "cell_type": "markdown",
   "metadata": {},
   "source": [
    "### 2.2.3. Computing the cost $J(\\theta)$"
   ]
  },
  {
   "cell_type": "code",
   "execution_count": 5,
   "metadata": {},
   "outputs": [],
   "source": [
    "function J = computeCost(X, y, theta)\n",
    "%COMPUTECOST Compute cost for linear regression\n",
    "%   J = COMPUTECOST(X, y, theta) computes the cost of using theta as the\n",
    "%   parameter for linear regression to fit the data points in X and y\n",
    "\n",
    "% Initialize some useful values\n",
    "m = length(y); % number of training examples\n",
    "\n",
    "% You need to return the following variables correctly \n",
    "J = 0;\n",
    "\n",
    "% ====================== YOUR CODE HERE ======================\n",
    "% Instructions: Compute the cost of a particular choice of theta\n",
    "%               You should set J to the cost.\n",
    "\n",
    "predictions =  X * theta; % predictions of hypothesis on all m examples\n",
    "\n",
    "sqrErrors = (predictions - y).^2; % squred error\n",
    "\n",
    "J = 1 / (2*m) * sum(sqrErrors);\n",
    "\n",
    "% =========================================================================\n",
    "\n",
    "end"
   ]
  },
  {
   "cell_type": "code",
   "execution_count": 6,
   "metadata": {},
   "outputs": [
    {
     "name": "stdout",
     "output_type": "stream",
     "text": [
      "ans =  32.073\r\n"
     ]
    }
   ],
   "source": [
    "computeCost(X, y, theta)"
   ]
  },
  {
   "cell_type": "markdown",
   "metadata": {},
   "source": [
    "### 2.2.4. Gradient Descent\n",
    "\n",
    "simultaneously update $\\theta_j$ for all $j$\n",
    "\n",
    "$$\\theta_j := \\theta_j - \\alpha \\cfrac{1}{m}\\sum_{i=1}^{m}\\big(  h_{\\theta}(x^{(i)}) - y^{(i)}  \\big)x_{j}^{(i)}$$\n",
    "\n",
    "자동으로 행렬 연산을 통해 `sum`이 적용되므로, `sum`을 쓸 필요는 없다."
   ]
  },
  {
   "cell_type": "code",
   "execution_count": 7,
   "metadata": {},
   "outputs": [
    {
     "name": "stdout",
     "output_type": "stream",
     "text": [
      "ans =\r\n",
      "\r\n",
      "   -566.40\r\n",
      "  -6336.90\r\n",
      "\r\n"
     ]
    }
   ],
   "source": [
    "% X: (m x 2) -> X':(2 x m)\n",
    "\n",
    "% alpha / m * ((X * theta - y)' * X)\n",
    "\n",
    "(X' * (X * theta - y))"
   ]
  },
  {
   "cell_type": "code",
   "execution_count": 12,
   "metadata": {},
   "outputs": [],
   "source": [
    "function [theta, J_history] = gradientDescent(X, y, theta, alpha, num_iters)\n",
    "%GRADIENTDESCENT Performs gradient descent to learn theta\n",
    "%   theta = GRADIENTDESCENT(X, y, theta, alpha, num_iters) updates theta by \n",
    "%   taking num_iters gradient steps with learning rate alpha\n",
    "\n",
    "% Initialize some useful values\n",
    "m = length(y); % number of training examples\n",
    "J_history = zeros(num_iters, 1);\n",
    "\n",
    "for iter = 1:num_iters,\n",
    "\n",
    "    % ====================== YOUR CODE HERE ======================\n",
    "    % Instructions: Perform a single gradient step on the parameter vector\n",
    "    %               theta. \n",
    "    %\n",
    "    % Hint: While debugging, it can be useful to print out the values\n",
    "    %       of the cost function (computeCost) and gradient here.\n",
    "    %\n",
    "    \n",
    "    theta -= (alpha/m)* (X' * (X * theta - y));\n",
    "    % ============================================================\n",
    "\n",
    "    % Save the cost J in every iteration    \n",
    "    J_history(iter) = computeCost(X, y, theta);\n",
    "\n",
    "end\n",
    "\n",
    "end"
   ]
  },
  {
   "cell_type": "code",
   "execution_count": 16,
   "metadata": {},
   "outputs": [
    {
     "name": "stdout",
     "output_type": "stream",
     "text": [
      "theta =\r\n",
      "\r\n",
      "  -3.8946\r\n",
      "   1.1929\r\n",
      "\r\n"
     ]
    }
   ],
   "source": [
    "[theta, J_history] = gradientDescent(X, y, theta, alpha, iterations);\n",
    "theta"
   ]
  },
  {
   "cell_type": "code",
   "execution_count": 17,
   "metadata": {},
   "outputs": [
    {
     "data": {
      "image/png": "[encoded data removed]",
      "text/plain": [
       "<IPython.core.display.Image object>"
      ]
     },
     "metadata": {},
     "output_type": "display_data"
    }
   ],
   "source": [
    "plot(J_history)"
   ]
  },
  {
   "cell_type": "code",
   "execution_count": 15,
   "metadata": {},
   "outputs": [
    {
     "name": "stdout",
     "output_type": "stream",
     "text": [
      "predict1 =  0.29133\n",
      "predict2 =  4.4607\n"
     ]
    }
   ],
   "source": [
    "predict1 = [1, 3.5] * theta\n",
    "predict2 = [1, 7] * theta"
   ]
  },
  {
   "cell_type": "markdown",
   "metadata": {},
   "source": [
    "## 2.4. Visualizeing $J(\\theta)$"
   ]
  },
  {
   "cell_type": "code",
   "execution_count": 22,
   "metadata": {},
   "outputs": [
    {
     "name": "stdout",
     "output_type": "stream",
     "text": [
      "Visualizing J(theta_0, theta_1) ...\r\n"
     ]
    },
    {
     "data": {
      "image/png": "[encoded data removed]",
      "text/plain": [
       "<IPython.core.display.Image object>"
      ]
     },
     "metadata": {},
     "output_type": "display_data"
    }
   ],
   "source": [
    "fprintf('Visualizing J(theta_0, theta_1) ...\\n')\n",
    "\n",
    "% Grid over which we will calculate J\n",
    "theta0_vals = linspace(-10, 10, 100);\n",
    "theta1_vals = linspace(-1, 4, 100);\n",
    "\n",
    "% initialize J_vals to a matrix of 0's\n",
    "J_vals = zeros(length(theta0_vals), length(theta1_vals));\n",
    "\n",
    "% Fill out J_vals\n",
    "for i = 1:length(theta0_vals)\n",
    "    for j = 1:length(theta1_vals)\n",
    "        t = [theta0_vals(i); theta1_vals(j)];\n",
    "        J_vals(i,j) = computeCost(X, y, t);\n",
    "    end\n",
    "end\n",
    "\n",
    "\n",
    "% Because of the way meshgrids work in the surf command, we need to\n",
    "% transpose J_vals before calling surf, or else the axes will be flipped\n",
    "J_vals = J_vals';\n",
    "% Surface plot\n",
    "figure;\n",
    "surf(theta0_vals, theta1_vals, J_vals)\n",
    "xlabel('\\theta_0'); ylabel('\\theta_1');\n",
    "\n"
   ]
  },
  {
   "cell_type": "code",
   "execution_count": 23,
   "metadata": {},
   "outputs": [
    {
     "data": {
      "image/png": "[encoded data removed]",
      "text/plain": [
       "<IPython.core.display.Image object>"
      ]
     },
     "metadata": {},
     "output_type": "display_data"
    }
   ],
   "source": [
    "% Contour plot\n",
    "figure;\n",
    "% Plot J_vals as 15 contours spaced logarithmically between 0.01 and 100\n",
    "contour(theta0_vals, theta1_vals, J_vals, logspace(-2, 3, 20))\n",
    "xlabel('\\theta_0'); ylabel('\\theta_1');\n",
    "hold on;\n",
    "plot(theta(1), theta(2), 'rx', 'MarkerSize', 10, 'LineWidth', 2);\n"
   ]
  },
  {
   "cell_type": "markdown",
   "metadata": {},
   "source": [
    "# 3. Linear regression with multiple variable\n",
    "\n"
   ]
  },
  {
   "cell_type": "code",
   "execution_count": 57,
   "metadata": {},
   "outputs": [],
   "source": [
    "function X_head = head(X, n=5)\n",
    "\n",
    "X_head = X(1:n, :);\n",
    "\n",
    "endfunction"
   ]
  },
  {
   "cell_type": "markdown",
   "metadata": {},
   "source": [
    "## 3.1. Feature Normalization\n",
    "\n",
    "`featureNormalize.m`"
   ]
  },
  {
   "cell_type": "code",
   "execution_count": 46,
   "metadata": {},
   "outputs": [
    {
     "name": "stdout",
     "output_type": "stream",
     "text": [
      "Loading data ...\n",
      "First 10 examples from the dataset: \n",
      " x = [2104 3], y = 399900 \n",
      " x = [1600 3], y = 329900 \n",
      " x = [2400 3], y = 369000 \n",
      " x = [1416 2], y = 232000 \n",
      " x = [3000 4], y = 539900 \n",
      " x = [1985 4], y = 299900 \n",
      " x = [1534 3], y = 314900 \n",
      " x = [1427 3], y = 198999 \n",
      " x = [1380 3], y = 212000 \n",
      " x = [1494 3], y = 242500 \n"
     ]
    }
   ],
   "source": [
    "fprintf('Loading data ...\\n');\n",
    "\n",
    "%% Load Data\n",
    "data = load('ex1data2.txt');\n",
    "X = data(:, 1:2);\n",
    "y = data(:, 3);\n",
    "m = length(y);\n",
    "\n",
    "% Print out some data points\n",
    "fprintf('First 10 examples from the dataset: \\n');\n",
    "fprintf(' x = [%.0f %.0f], y = %.0f \\n', [X(1:10,:) y(1:10,:)]');"
   ]
  },
  {
   "cell_type": "markdown",
   "metadata": {},
   "source": [
    "$$\\cfrac{X - \\mu_X}{\\sigma_X}$$\n",
    "\n",
    "주의할 점은 연산할때, 행렬과 다차원의 벡터를 element-wise하게 연산해야하기 때문에 `.-` 나 `./` 연산자를 사용한다는 것이다."
   ]
  },
  {
   "cell_type": "code",
   "execution_count": 47,
   "metadata": {},
   "outputs": [],
   "source": [
    "function [X_norm, mu, sigma] = featureNormalize(X)\n",
    "%FEATURENORMALIZE Normalizes the features in X \n",
    "%   FEATURENORMALIZE(X) returns a normalized version of X where\n",
    "%   the mean value of each feature is 0 and the standard deviation\n",
    "%   is 1. This is often a good preprocessing step to do when\n",
    "%   working with learning algorithms.\n",
    "\n",
    "% You need to set these values correctly\n",
    "% X_norm = X;\n",
    "mu = mean(X); % zeros(1, size(X, 2));\n",
    "sigma = std(X); % zeros(1, size(X, 2));\n",
    "\n",
    "% ====================== YOUR CODE HERE ======================\n",
    "% Instructions: First, for each feature dimension, compute the mean\n",
    "%               of the feature and subtract it from the dataset,\n",
    "%               storing the mean value in mu. Next, compute the \n",
    "%               standard deviation of each feature and divide\n",
    "%               each feature by it's standard deviation, storing\n",
    "%               the standard deviation in sigma. \n",
    "%\n",
    "%               Note that X is a matrix where each column is a \n",
    "%               feature and each row is an example. You need \n",
    "%               to perform the normalization separately for \n",
    "%               each feature. \n",
    "%\n",
    "% Hint: You might find the 'mean' and 'std' functions useful.\n",
    "%       \n",
    "\n",
    "X_norm = (X .- mu) ./ sigma;\n",
    "\n",
    "\n",
    "\n",
    "\n",
    "\n",
    "\n",
    "\n",
    "% ============================================================\n",
    "\n",
    "end"
   ]
  },
  {
   "cell_type": "code",
   "execution_count": 48,
   "metadata": {},
   "outputs": [
    {
     "name": "stdout",
     "output_type": "stream",
     "text": [
      "Normalizing Features ...\r\n"
     ]
    }
   ],
   "source": [
    "% Scale features and set them to zero mean\n",
    "fprintf('Normalizing Features ...\\n');\n",
    "\n",
    "[X mu sigma] = featureNormalize(X);\n",
    "\n",
    "% Add intercept term to X\n",
    "X = [ones(m, 1) X];"
   ]
  },
  {
   "cell_type": "code",
   "execution_count": 58,
   "metadata": {},
   "outputs": [
    {
     "name": "stdout",
     "output_type": "stream",
     "text": [
      "ans =\r\n",
      "\r\n",
      "   1.00000   0.13001  -0.22368\r\n",
      "   1.00000  -0.50419  -0.22368\r\n",
      "   1.00000   0.50248  -0.22368\r\n",
      "   1.00000  -0.73572  -1.53777\r\n",
      "   1.00000   1.25748   1.09042\r\n",
      "\r\n"
     ]
    }
   ],
   "source": [
    "head(X)"
   ]
  },
  {
   "cell_type": "markdown",
   "metadata": {},
   "source": [
    "## 3.2. Gradient Descent\n",
    "\n",
    "`computeCostMulti.m` and `gradientDescentMulti.m`\n",
    "\n",
    "### 3.2.1. Compute Cost\n",
    "$$\n",
    "\\begin{align}\n",
    "J(\\theta) &= \\cfrac{1}{2m} \\sum_{i=1}^{m}\\big(h_{\\theta}(x^{(i)}) - y^{(i)}\\big)^2 \\\\\n",
    "          &= \\cfrac{1}{2m} (X\\theta - \\vec{y})^{T}(X\\theta - \\vec{y})\n",
    "\\end{align}\n",
    "$$"
   ]
  },
  {
   "cell_type": "code",
   "execution_count": 61,
   "metadata": {},
   "outputs": [
    {
     "name": "stdout",
     "output_type": "stream",
     "text": [
      "Running gradient descent ...\r\n"
     ]
    }
   ],
   "source": [
    "\n",
    "% Choose some initial value\n",
    "alpha = 0.01;\n",
    "num_iters = 400;\n",
    "\n",
    "theta = zeros(3, 1);\n"
   ]
  },
  {
   "cell_type": "code",
   "execution_count": 64,
   "metadata": {},
   "outputs": [],
   "source": [
    "function J = computeCostMulti(X, y, theta)\n",
    "%COMPUTECOSTMULTI Compute cost for linear regression with multiple variables\n",
    "%   J = COMPUTECOSTMULTI(X, y, theta) computes the cost of using theta as the\n",
    "%   parameter for linear regression to fit the data points in X and y\n",
    "\n",
    "% Initialize some useful values\n",
    "m = length(y); % number of training examples\n",
    "\n",
    "% You need to return the following variables correctly \n",
    "J = 0;\n",
    "\n",
    "% ====================== YOUR CODE HERE ======================\n",
    "% Instructions: Compute the cost of a particular choice of theta\n",
    "%               You should set J to the cost.\n",
    "\n",
    "\n",
    "h = X * theta;\n",
    "J = (1/(2*m))* (h - y)' * (h - y);\n",
    "\n",
    "\n",
    "\n",
    "% =========================================================================\n",
    "\n",
    "end\n"
   ]
  },
  {
   "cell_type": "code",
   "execution_count": 65,
   "metadata": {},
   "outputs": [
    {
     "name": "stdout",
     "output_type": "stream",
     "text": [
      "ans =  65591548106.45744\r\n"
     ]
    }
   ],
   "source": [
    "computeCostMulti(X, y, theta)"
   ]
  },
  {
   "cell_type": "markdown",
   "metadata": {},
   "source": [
    "### 3.2.2. Running gradient descent\n",
    "\n",
    "$$\\theta_j := \\theta_j - \\alpha \\cfrac{1}{m}\\sum_{i=1}^{m}\\big(  h_{\\theta}(x^{(i)}) - y^{(i)}  \\big)x_{j}^{(i)}$$\n"
   ]
  },
  {
   "cell_type": "code",
   "execution_count": 68,
   "metadata": {},
   "outputs": [],
   "source": [
    "function [theta, J_history] = gradientDescentMulti(X, y, theta, alpha, num_iters)\n",
    "%GRADIENTDESCENTMULTI Performs gradient descent to learn theta\n",
    "%   theta = GRADIENTDESCENTMULTI(x, y, theta, alpha, num_iters) updates theta by\n",
    "%   taking num_iters gradient steps with learning rate alpha\n",
    "\n",
    "% Initialize some useful values\n",
    "m = length(y); % number of training examples\n",
    "J_history = zeros(num_iters, 1);\n",
    "\n",
    "for iter = 1:num_iters\n",
    "\n",
    "    % ====================== YOUR CODE HERE ======================\n",
    "    % Instructions: Perform a single gradient step on the parameter vector\n",
    "    %               theta. \n",
    "    %\n",
    "    % Hint: While debugging, it can be useful to print out the values\n",
    "    %       of the cost function (computeCostMulti) and gradient here.\n",
    "    % (3 X 47), (47, 1) \n",
    "    \n",
    "    theta -= (alpha / m) * (X' * (X*theta - y));\n",
    "    \n",
    "    \n",
    "\n",
    "    % ============================================================\n",
    "\n",
    "    % Save the cost J in every iteration    \n",
    "    J_history(iter) = computeCostMulti(X, y, theta);\n",
    "\n",
    "end\n",
    "\n",
    "end\n"
   ]
  },
  {
   "cell_type": "code",
   "execution_count": 69,
   "metadata": {},
   "outputs": [
    {
     "name": "stdout",
     "output_type": "stream",
     "text": [
      "Running gradient descent ...\r\n"
     ]
    }
   ],
   "source": [
    "fprintf('Running gradient descent ...\\n');\n",
    "\n",
    "% Init Theta and Run Gradient Descent \n",
    "theta = zeros(3, 1);\n",
    "[theta, J_history] = gradientDescentMulti(X, y, theta, alpha, num_iters);"
   ]
  },
  {
   "cell_type": "code",
   "execution_count": 74,
   "metadata": {},
   "outputs": [
    {
     "data": {
      "image/png": "[encoded data removed]",
      "text/plain": [
       "<IPython.core.display.Image object>"
      ]
     },
     "metadata": {},
     "output_type": "display_data"
    }
   ],
   "source": [
    "% Plot the convergence graph\n",
    "figure;\n",
    "plot(1:numel(J_history), J_history, '-b', 'LineWidth', 2);\n",
    "xlabel('Number of iterations');\n",
    "ylabel('Cost J');\n",
    "\n"
   ]
  },
  {
   "cell_type": "code",
   "execution_count": 75,
   "metadata": {},
   "outputs": [
    {
     "name": "stdout",
     "output_type": "stream",
     "text": [
      "Theta computed from gradient descent: \n",
      " 334302.063993 \n",
      " 100087.116006 \n",
      " 3673.548451 \n",
      "\n"
     ]
    }
   ],
   "source": [
    "% Display gradient descent's result\n",
    "fprintf('Theta computed from gradient descent: \\n');\n",
    "fprintf(' %f \\n', theta);\n",
    "fprintf('\\n');\n"
   ]
  },
  {
   "cell_type": "code",
   "execution_count": 83,
   "metadata": {},
   "outputs": [
    {
     "name": "stdout",
     "output_type": "stream",
     "text": [
      "X_norm =\n",
      "\n",
      "  -0.44127  -0.22368\n",
      "\n",
      "Predicted price of a 1650 sq-ft, 3 br house (using gradient descent):\n",
      " $289314.620338\n",
      "Program paused. Press enter to continue.\n"
     ]
    }
   ],
   "source": [
    "% Estimate the price of a 1650 sq-ft, 3 br house\n",
    "% ====================== YOUR CODE HERE ======================\n",
    "% Recall that the first column of X is all-ones. Thus, it does\n",
    "% not need to be normalized.\n",
    "\n",
    "X_i = [1650 3];\n",
    "X_norm = (X_i .- mu) ./ sigma \n",
    "\n",
    "\n",
    "\n",
    "price = [ones(1) X_norm] * theta; % You should change this\n",
    "\n",
    "\n",
    "% ============================================================\n",
    "\n",
    "fprintf(['Predicted price of a 1650 sq-ft, 3 br house ' ...\n",
    "         '(using gradient descent):\\n $%f\\n'], price);"
   ]
  },
  {
   "cell_type": "markdown",
   "metadata": {},
   "source": [
    "## 3.3. Normal Equations\n",
    "\n",
    "`normalEqn.m`\n",
    "\n",
    "- n x n 의 inverse\n",
    "\n",
    "$$ \\theta = (X^TX)^{-1} X^T \\vec{y} $$\n",
    "\n",
    "- m x n 의 inverse\n",
    "$$X \\theta = \\vec{y} \\rightarrow \\theta = X^{-1} \\vec{y}$$\n"
   ]
  },
  {
   "cell_type": "code",
   "execution_count": 85,
   "metadata": {},
   "outputs": [
    {
     "name": "stdout",
     "output_type": "stream",
     "text": [
      "ans =\r\n",
      "\r\n",
      "      1   2104      3\r\n",
      "      1   1600      3\r\n",
      "      1   2400      3\r\n",
      "      1   1416      2\r\n",
      "      1   3000      4\r\n",
      "\r\n"
     ]
    }
   ],
   "source": [
    "%% Load Data\n",
    "data = csvread('ex1data2.txt');\n",
    "X = data(:, 1:2);\n",
    "y = data(:, 3);\n",
    "m = length(y);\n",
    "\n",
    "% Add intercept term to X\n",
    "X = [ones(m, 1) X];\n",
    "\n",
    "head(X)"
   ]
  },
  {
   "cell_type": "code",
   "execution_count": 91,
   "metadata": {},
   "outputs": [
    {
     "name": "stdout",
     "output_type": "stream",
     "text": [
      "ans =\r\n",
      "\r\n",
      "   89597.90954\r\n",
      "     139.21067\r\n",
      "   -8738.01911\r\n",
      "\r\n"
     ]
    }
   ],
   "source": [
    "pinv(X' * X) * X' * y"
   ]
  },
  {
   "cell_type": "code",
   "execution_count": 87,
   "metadata": {},
   "outputs": [
    {
     "name": "stdout",
     "output_type": "stream",
     "text": [
      "ans =\r\n",
      "\r\n",
      "   89597.90954\r\n",
      "     139.21067\r\n",
      "   -8738.01911\r\n",
      "\r\n"
     ]
    }
   ],
   "source": [
    "pinv(X) * y"
   ]
  },
  {
   "cell_type": "code",
   "execution_count": 94,
   "metadata": {},
   "outputs": [],
   "source": [
    "function [theta] = normalEqn(X, y)\n",
    "%NORMALEQN Computes the closed-form solution to linear regression \n",
    "%   NORMALEQN(X,y) computes the closed-form solution to linear \n",
    "%   regression using the normal equations.\n",
    "\n",
    "theta = zeros(size(X, 2), 1);\n",
    "\n",
    "% ====================== YOUR CODE HERE ======================\n",
    "% Instructions: Complete the code to compute the closed form solution\n",
    "%               to linear regression and put the result in theta.\n",
    "%\n",
    "\n",
    "% ---------------------- Sample Solution ----------------------\n",
    "\n",
    "theta = pinv(X' * X) * X' * y;\n",
    "\n",
    "\n",
    "% -------------------------------------------------------------\n",
    "\n",
    "\n",
    "% ============================================================\n",
    "\n",
    "end"
   ]
  },
  {
   "cell_type": "code",
   "execution_count": 95,
   "metadata": {},
   "outputs": [
    {
     "name": "stdout",
     "output_type": "stream",
     "text": [
      "Theta computed from the normal equations: \n",
      " 89597.909544 \n",
      " 139.210674 \n",
      " -8738.019113 \n",
      "\n"
     ]
    }
   ],
   "source": [
    "\n",
    "\n",
    "% Calculate the parameters from the normal equation\n",
    "theta = normalEqn(X, y);\n",
    "\n",
    "% Display normal equation's result\n",
    "fprintf('Theta computed from the normal equations: \\n');\n",
    "fprintf(' %f \\n', theta);\n",
    "fprintf('\\n');\n",
    "\n",
    "\n"
   ]
  },
  {
   "cell_type": "code",
   "execution_count": 96,
   "metadata": {},
   "outputs": [
    {
     "name": "stdout",
     "output_type": "stream",
     "text": [
      "X_i =\n",
      "\n",
      "      1   1650      3\n",
      "\n",
      "Predicted price of a 1650 sq-ft, 3 br house (using normal equations):\n",
      " $293081.464335\n"
     ]
    }
   ],
   "source": [
    "% Estimate the price of a 1650 sq-ft, 3 br house\n",
    "% ====================== YOUR CODE HERE ======================\n",
    "\n",
    "X_i = [1 1650 3]\n",
    "\n",
    "price = X_i * theta; % You should change this\n",
    "\n",
    "\n",
    "% ============================================================\n",
    "\n",
    "fprintf(['Predicted price of a 1650 sq-ft, 3 br house ' ...\n",
    "         '(using normal equations):\\n $%f\\n'], price);\n",
    "\n"
   ]
  }
 ],
 "metadata": {
  "kernelspec": {
   "display_name": "Octave",
   "language": "octave",
   "name": "octave"
  },
  "language_info": {
   "file_extension": ".m",
   "help_links": [
    {
     "text": "GNU Octave",
     "url": "https://www.gnu.org/software/octave/support.html"
    },
    {
     "text": "Octave Kernel",
     "url": "https://github.com/Calysto/octave_kernel"
    },
    {
     "text": "MetaKernel Magics",
     "url": "https://metakernel.readthedocs.io/en/latest/source/README.html"
    }
   ],
   "mimetype": "text/x-octave",
   "name": "octave",
   "version": "5.2.0"
  }
 },
 "nbformat": 4,
 "nbformat_minor": 4
}
