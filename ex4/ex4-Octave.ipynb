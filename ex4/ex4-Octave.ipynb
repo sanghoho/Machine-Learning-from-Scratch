{
 "cells": [
  {
   "cell_type": "markdown",
   "metadata": {},
   "source": [
    "# Octave Programming Assignment: \n",
    "\n",
    "## Neural Networks Learning\n",
    "\n",
    "## 2020년 08월 23일 안상호\n"
   ]
  },
  {
   "cell_type": "code",
   "execution_count": 1,
   "metadata": {
    "ExecuteTime": {
     "end_time": "2020-08-24T03:49:37.179778Z",
     "start_time": "2020-08-24T03:49:37.151160Z"
    }
   },
   "outputs": [],
   "source": [
    "%% Setup the parameters you will use for this exercise\n",
    "input_layer_size  = 400;  % 20x20 Input Images of Digits\n",
    "hidden_layer_size = 25;   % 25 hidden units\n",
    "num_labels = 10;          % 10 labels, from 1 to 10   \n",
    "                          % (note that we have mapped \"0\" to label 10)"
   ]
  },
  {
   "cell_type": "markdown",
   "metadata": {},
   "source": [
    "# 1. Neural Networks\n",
    "\n",
    "## 1.1 Visualizing the data"
   ]
  },
  {
   "cell_type": "code",
   "execution_count": 2,
   "metadata": {
    "ExecuteTime": {
     "end_time": "2020-08-24T03:49:37.473105Z",
     "start_time": "2020-08-24T03:49:37.182331Z"
    }
   },
   "outputs": [
    {
     "name": "stdout",
     "output_type": "stream",
     "text": [
      "Loading and Visualizing Data ...\r\n"
     ]
    },
    {
     "data": {
      "image/png": "[encoded data removed]",
      "text/plain": [
       "<IPython.core.display.Image object>"
      ]
     },
     "metadata": {},
     "output_type": "display_data"
    }
   ],
   "source": [
    "%% =========== Part 1: Loading and Visualizing Data =============\n",
    "%  We start the exercise by first loading and visualizing the dataset. \n",
    "%  You will be working with a dataset that contains handwritten digits.\n",
    "%\n",
    "\n",
    "% Load Training Data\n",
    "fprintf('Loading and Visualizing Data ...\\n')\n",
    "\n",
    "load('ex4data1.mat');\n",
    "m = size(X, 1);\n",
    "\n",
    "% Randomly select 100 data points to display\n",
    "sel = randperm(size(X, 1));\n",
    "sel = sel(1:100);\n",
    "\n",
    "displayData(X(sel, :));"
   ]
  },
  {
   "cell_type": "code",
   "execution_count": 3,
   "metadata": {
    "ExecuteTime": {
     "end_time": "2020-08-24T03:49:37.481502Z",
     "start_time": "2020-08-24T03:49:37.475035Z"
    }
   },
   "outputs": [
    {
     "name": "stdout",
     "output_type": "stream",
     "text": [
      "ans =\r\n",
      "\r\n",
      "   5000    400\r\n",
      "\r\n"
     ]
    }
   ],
   "source": [
    "size(X)"
   ]
  },
  {
   "cell_type": "markdown",
   "metadata": {},
   "source": [
    "## 1.2. Model representation\n",
    "\n",
    "Feedforward (Fowardpropagation)\n",
    "\n",
    "순전파 "
   ]
  },
  {
   "cell_type": "code",
   "execution_count": 4,
   "metadata": {
    "ExecuteTime": {
     "end_time": "2020-08-24T03:49:37.511343Z",
     "start_time": "2020-08-24T03:49:37.483560Z"
    }
   },
   "outputs": [
    {
     "name": "stdout",
     "output_type": "stream",
     "text": [
      "\r\n",
      "Loading Saved Neural Network Parameters ...\r\n"
     ]
    }
   ],
   "source": [
    "%% ================ Part 2: Loading Parameters ================\n",
    "% In this part of the exercise, we load some pre-initialized \n",
    "% neural network parameters.\n",
    "\n",
    "fprintf('\\nLoading Saved Neural Network Parameters ...\\n')\n",
    "\n",
    "% Load the weights into variables Theta1 and Theta2\n",
    "load('ex4weights.mat');\n",
    "\n",
    "% The matrices Theta1 and Theta2 will now be in your workspace\n",
    "% Theta1 has size 25 x 401\n",
    "% Theta2 has size 10 x 26\n",
    "\n",
    "\n",
    "% Unroll parameters \n",
    "nn_params = [Theta1(:) ; Theta2(:)];"
   ]
  },
  {
   "cell_type": "code",
   "execution_count": 5,
   "metadata": {
    "ExecuteTime": {
     "end_time": "2020-08-24T03:49:37.527035Z",
     "start_time": "2020-08-24T03:49:37.513459Z"
    }
   },
   "outputs": [
    {
     "name": "stdout",
     "output_type": "stream",
     "text": [
      "ans = 1\r\n"
     ]
    }
   ],
   "source": [
    "size(nn_params, 1) == 25 * 401 + 10 * 26"
   ]
  },
  {
   "cell_type": "markdown",
   "metadata": {},
   "source": [
    "## 1.3. Feedfoward and cost function\n",
    "\n",
    "> `nnCostFunction`: Regularization이 없는 간단한 Cost Function으로 $y$를 원-핫 인코딩 방식으로 처리해서 해결\n",
    "\n",
    "\n",
    "$$\n",
    "J(\\theta) = \\dfrac{1}{m} \\sum_{i=1}^{m} \\sum_{k=1}^{K} \\left[ -y_{k}^{(i)} \\log{((h_{\\theta}(x^{(i)}))_{k})} - (1 - y_{k}^{(i)})\\log{(1 - (h_{\\theta}(x^{(i)}))_k)} \\right]\n",
    "$$\n",
    "\n",
    "- $K$: 클래스의 갯수\n",
    "- $h_{\\theta}(x^{(i)}) = a_k^{(3)}$: k번째 output 유닛\n",
    "\n"
   ]
  },
  {
   "cell_type": "code",
   "execution_count": 6,
   "metadata": {
    "ExecuteTime": {
     "end_time": "2020-08-24T03:49:37.573863Z",
     "start_time": "2020-08-24T03:49:37.529519Z"
    }
   },
   "outputs": [
    {
     "name": "stdout",
     "output_type": "stream",
     "text": [
      "\r\n",
      "Feedforward Using Neural Network ...\r\n"
     ]
    }
   ],
   "source": [
    "%% ================ Part 3: Compute Cost (Feedforward) ================\n",
    "%  To the neural network, you should first start by implementing the\n",
    "%  feedforward part of the neural network that returns the cost only. You\n",
    "%  should complete the code in nnCostFunction.m to return cost. After\n",
    "%  implementing the feedforward to compute the cost, you can verify that\n",
    "%  your implementation is correct by verifying that you get the same cost\n",
    "%  as us for the fixed debugging parameters.\n",
    "%\n",
    "%  We suggest implementing the feedforward cost *without* regularization\n",
    "%  first so that it will be easier for you to debug. Later, in part 4, you\n",
    "%  will get to implement the regularized cost.\n",
    "%\n",
    "fprintf('\\nFeedforward Using Neural Network ...\\n')\n",
    "\n",
    "% Weight regularization parameter (we set this to 0 here).\n",
    "lambda = 0;\n",
    "\n"
   ]
  },
  {
   "cell_type": "code",
   "execution_count": 7,
   "metadata": {
    "ExecuteTime": {
     "end_time": "2020-08-24T03:49:37.643835Z",
     "start_time": "2020-08-24T03:49:37.575455Z"
    }
   },
   "outputs": [
    {
     "name": "stdout",
     "output_type": "stream",
     "text": [
      "J =  0.28763\r\n"
     ]
    }
   ],
   "source": [
    "y_onehot = zeros(m, num_labels);\n",
    "\n",
    "for i=1:num_labels,\n",
    "    y_onehot(y == i, i) = 1;  \n",
    "end\n",
    "\n",
    "a2 = sigmoid([ones(m, 1) X] * Theta1');\n",
    "h = sigmoid([ones(m, 1) a2] * Theta2'); \n",
    "\n",
    "J = (1 / m) * sum((-y_onehot .* log(h) - (1-y_onehot) .* log(1-h))(:))"
   ]
  },
  {
   "cell_type": "code",
   "execution_count": 8,
   "metadata": {
    "ExecuteTime": {
     "end_time": "2020-08-24T03:49:37.665588Z",
     "start_time": "2020-08-24T03:49:37.645983Z"
    }
   },
   "outputs": [
    {
     "name": "stdout",
     "output_type": "stream",
     "text": [
      "parse error near line 91 of file /home/sanghoho/Desktop/Data/Course/machine-learning/ex4/nnCostFunction.m\n",
      "\n",
      "  syntax error\n",
      "\n",
      ">>> Delta = \n",
      "            ^\n",
      "\n",
      "Cost at parameters (loaded from ex4weights): 0.287629 \n",
      "(this value should be about 0.287629)\n"
     ]
    }
   ],
   "source": [
    "J = nnCostFunction(nn_params, input_layer_size, hidden_layer_size, ...\n",
    "                   num_labels, X, y, lambda);\n",
    "\n",
    "fprintf(['Cost at parameters (loaded from ex4weights): %f '...\n",
    "         '\\n(this value should be about 0.287629)\\n'], J);"
   ]
  },
  {
   "cell_type": "markdown",
   "metadata": {},
   "source": [
    "## 1.4. Regularized cost function\n",
    "\n",
    "> 이번에는 Regularizaiton 규칙을 적용하여 Cost Function을 구현해보자\n",
    "\n",
    "- 주의할 점은 1 ~ 400 등으로 인덱싱하는 것이 아니라, 2번째 부터 401번째 까지 인덱싱해야한다는 것이다.  \n",
    "- 주어진 $\\Theta$ 에서는 1번째 항목 (열;column) 이 bias 가중치이기 때문이다. \n",
    "\n",
    "$$\n",
    "J(\\theta) = \\dfrac{1}{m} \\sum_{i=1}^{m} \\sum_{k=1}^{K} \\left[ -y_{k}^{(i)} \\log{((h_{\\theta}(x^{(i)}))_{k})} - (1 - y_{k}^{(i)})\\log{(1 - (h_{\\theta}(x^{(i)}))_k)} \\right] +\n",
    "\\dfrac{\\lambda}{2m} \\bigg[ \\sum_{j=1}^{25} \\sum_{k=1}^{400} (\\Theta_{j,k}^{(1)})^2  + \\sum_{j=1}^{10} \\sum_{k=1}^{25} (\\Theta_{j,k}^{(2)})^2  \\bigg]\n",
    "$$\n"
   ]
  },
  {
   "cell_type": "code",
   "execution_count": 9,
   "metadata": {
    "ExecuteTime": {
     "end_time": "2020-08-24T03:49:37.711634Z",
     "start_time": "2020-08-24T03:49:37.669007Z"
    }
   },
   "outputs": [
    {
     "name": "stdout",
     "output_type": "stream",
     "text": [
      "\r\n",
      "Checking Cost Function (w/ Regularization) ... \r\n"
     ]
    }
   ],
   "source": [
    "%% =============== Part 4: Implement Regularization ===============\n",
    "%  Once your cost function implementation is correct, you should now\n",
    "%  continue to implement the regularization with the cost.\n",
    "%\n",
    "\n",
    "fprintf('\\nChecking Cost Function (w/ Regularization) ... \\n')\n",
    "\n",
    "% Weight regularization parameter (we set this to 1 here).\n",
    "lambda = 1;\n",
    "\n"
   ]
  },
  {
   "cell_type": "code",
   "execution_count": 10,
   "metadata": {
    "ExecuteTime": {
     "end_time": "2020-08-24T03:49:37.732586Z",
     "start_time": "2020-08-24T03:49:37.713774Z"
    }
   },
   "outputs": [
    {
     "name": "stdout",
     "output_type": "stream",
     "text": [
      "ans =\n",
      "\n",
      "    25   401\n",
      "\n",
      "ans =\n",
      "\n",
      "   10   26\n",
      "\n"
     ]
    }
   ],
   "source": [
    "size(Theta1)\n",
    "size(Theta2)"
   ]
  },
  {
   "cell_type": "code",
   "execution_count": 11,
   "metadata": {
    "ExecuteTime": {
     "end_time": "2020-08-24T03:49:37.751877Z",
     "start_time": "2020-08-24T03:49:37.734623Z"
    }
   },
   "outputs": [
    {
     "name": "stdout",
     "output_type": "stream",
     "text": [
      "ans =  0.096859\n",
      "ans =  0.096141\n"
     ]
    }
   ],
   "source": [
    "(lambda / (2*m)) * ( sum((Theta1 .^ 2)(:)) + sum((Theta2 .^ 2)(:)) )\n",
    "(lambda / (2*m)) * ( sum((Theta1(:, 2:(input_layer_size+1)) .^ 2)(:)) + sum((Theta2(:, 2:(hidden_layer_size+1)) .^ 2)(:)) )"
   ]
  },
  {
   "cell_type": "code",
   "execution_count": 49,
   "metadata": {
    "ExecuteTime": {
     "end_time": "2020-08-24T04:09:53.296643Z",
     "start_time": "2020-08-24T04:09:53.244285Z"
    }
   },
   "outputs": [
    {
     "name": "stdout",
     "output_type": "stream",
     "text": [
      "J =  0.38377\r\n"
     ]
    }
   ],
   "source": [
    "y_onehot = zeros(m, num_labels);\n",
    "\n",
    "for i=1:num_labels,\n",
    "    y_onehot(y == i, i) = 1;  \n",
    "end\n",
    "\n",
    "a2 = sigmoid([ones(m, 1) X] * Theta1');\n",
    "h = sigmoid([ones(m, 1) a2] * Theta2'); \n",
    "\n",
    "reg = (lambda / (2*m)) * ( sum((Theta1(:, 2:(input_layer_size+1)) .^ 2)(:)) + sum((Theta2(:, 2:(hidden_layer_size+1)) .^ 2)(:)) );\n",
    "J = (1 / m) * sum((-y_onehot .* log(h) - (1-y_onehot) .* log(1-h))(:)) + reg"
   ]
  },
  {
   "cell_type": "code",
   "execution_count": 50,
   "metadata": {
    "ExecuteTime": {
     "end_time": "2020-08-24T04:09:54.706707Z",
     "start_time": "2020-08-24T04:09:54.660448Z"
    }
   },
   "outputs": [
    {
     "name": "stdout",
     "output_type": "stream",
     "text": [
      "Cost at parameters (loaded from ex4weights): 0.383770 \r\n",
      "(this value should be about 0.383770)\r\n"
     ]
    }
   ],
   "source": [
    "J = nnCostFunction(nn_params, input_layer_size, hidden_layer_size, ...\n",
    "                   num_labels, X, y, lambda);\n",
    "\n",
    "fprintf(['Cost at parameters (loaded from ex4weights): %f '...\n",
    "         '\\n(this value should be about 0.383770)\\n'], J);"
   ]
  },
  {
   "cell_type": "markdown",
   "metadata": {},
   "source": [
    "# 2. Backpropagation\n",
    "\n",
    "`nnCostFunction.m` 에서 `grad` 부분 구현"
   ]
  },
  {
   "cell_type": "markdown",
   "metadata": {},
   "source": [
    "## 2.1. Sigmoid gradient\n",
    "\n",
    "sigmoid 함수의 특성 때문에 너무 크거나 작은 값에 대응하는 기울기는 0에 근접할 것이고, \n",
    "\n",
    "$z=0$일 경우 0.25일 것이다. \n",
    "\n",
    "\n",
    "$$\n",
    "g'(z) = \\dfrac{d}{dz} g(z) = g(z)(1-g(z)) \\\\\n",
    "\\text{sigmoid}(z) = g(z) = \\dfrac{1}{1+e^{-z}}\n",
    "$$\n",
    "\n"
   ]
  },
  {
   "cell_type": "code",
   "execution_count": 14,
   "metadata": {
    "ExecuteTime": {
     "end_time": "2020-08-24T03:49:37.850279Z",
     "start_time": "2020-08-24T03:49:37.834854Z"
    }
   },
   "outputs": [
    {
     "name": "stdout",
     "output_type": "stream",
     "text": [
      "\r\n",
      "Evaluating sigmoid gradient...\r\n"
     ]
    }
   ],
   "source": [
    "%% ================ Part 5: Sigmoid Gradient  ================\n",
    "%  Before you start implementing the neural network, you will first\n",
    "%  implement the gradient for the sigmoid function. You should complete the\n",
    "%  code in the sigmoidGradient.m file.\n",
    "%\n",
    "\n",
    "fprintf('\\nEvaluating sigmoid gradient...\\n')"
   ]
  },
  {
   "cell_type": "code",
   "execution_count": 15,
   "metadata": {
    "ExecuteTime": {
     "end_time": "2020-08-24T03:49:37.859835Z",
     "start_time": "2020-08-24T03:49:37.851424Z"
    }
   },
   "outputs": [
    {
     "name": "stdout",
     "output_type": "stream",
     "text": [
      "ans =  0.25000\r\n"
     ]
    }
   ],
   "source": [
    "sigmoidGradient(0)"
   ]
  },
  {
   "cell_type": "code",
   "execution_count": 16,
   "metadata": {
    "ExecuteTime": {
     "end_time": "2020-08-24T03:49:37.869194Z",
     "start_time": "2020-08-24T03:49:37.861010Z"
    }
   },
   "outputs": [
    {
     "name": "stdout",
     "output_type": "stream",
     "text": [
      "Sigmoid gradient evaluated at [-1 -0.5 0 0.5 1]:\n",
      "  0.196612 0.235004 0.250000 0.235004 0.196612 "
     ]
    }
   ],
   "source": [
    "g = sigmoidGradient([-1 -0.5 0 0.5 1]);\n",
    "fprintf('Sigmoid gradient evaluated at [-1 -0.5 0 0.5 1]:\\n  ');\n",
    "fprintf('%f ', g);"
   ]
  },
  {
   "cell_type": "markdown",
   "metadata": {},
   "source": [
    "## 2.2. Random initialization\n",
    "\n",
    "- symmetry breaking을 위해서 $\\left[-\\epsilon_{init}, \\epsilon_{init} \\right]$ 값을 가지도록 초기화\n",
    "- 초기 $\\epsilon_{init}=0.12$ 로 한다\n",
    "    + A good choice of $\\epsilon_{init}$ is $\\epsilon_{init} = \\dfrac{\\sqrt{6}}{\\sqrt{L_{in} + L_{out}}}$, where $L_{in} = s_l$ and $L_{out} = s_{l+1}$ are the number of units in the layers adjacent to $\\Theta^{(l)}$\n",
    "."
   ]
  },
  {
   "cell_type": "code",
   "execution_count": 17,
   "metadata": {
    "ExecuteTime": {
     "end_time": "2020-08-24T03:49:37.881762Z",
     "start_time": "2020-08-24T03:49:37.870331Z"
    }
   },
   "outputs": [
    {
     "name": "stdout",
     "output_type": "stream",
     "text": [
      "\r\n",
      "Initializing Neural Network Parameters ...\r\n"
     ]
    }
   ],
   "source": [
    "%% ================ Part 6: Initializing Pameters ================\n",
    "%  In this part of the exercise, you will be starting to implment a two\n",
    "%  layer neural network that classifies digits. You will start by\n",
    "%  implementing a function to initialize the weights of the neural network\n",
    "%  (randInitializeWeights.m)\n",
    "\n",
    "fprintf('\\nInitializing Neural Network Parameters ...\\n')"
   ]
  },
  {
   "cell_type": "code",
   "execution_count": 18,
   "metadata": {
    "ExecuteTime": {
     "end_time": "2020-08-24T03:49:37.892976Z",
     "start_time": "2020-08-24T03:49:37.882957Z"
    }
   },
   "outputs": [],
   "source": [
    "\n",
    "initial_Theta1 = randInitializeWeights(input_layer_size, hidden_layer_size);\n",
    "initial_Theta2 = randInitializeWeights(hidden_layer_size, num_labels);\n",
    "\n",
    "% Unroll parameters\n",
    "initial_nn_params = [initial_Theta1(:) ; initial_Theta2(:)];"
   ]
  },
  {
   "cell_type": "markdown",
   "metadata": {},
   "source": [
    "## 2.3. Backpropagation\n",
    "\n",
    "1. Foward Propagaion\n",
    "2. compute error term $\\delta_j^{(l)}$\n",
    "\n",
    "\n",
    "$$\n",
    "\\begin{align}\n",
    "&2). \\ \\delta_k^{(3)} = \\big( a_k^{(3)} - y_k \\big) \\\\\n",
    "&3).\\delta^{(2)} = \\big( \\Theta^{(2)} \\big)^T \\delta^{(3)} .* g'(z^{(2)}) \\\\\n",
    "&4).\\Delta^{(l)} = \\Delta^{(l)} + \\delta^{l+1} \\big( a^{(l)} \\big)^T \\\\\n",
    "&5). \\dfrac{\\partial}{\\partial \\Theta} J(\\Theta) = D = \\dfrac{1}{m} \\Delta\n",
    "\\end{align}\n",
    "$$\n"
   ]
  },
  {
   "cell_type": "markdown",
   "metadata": {},
   "source": [
    "### 2.3.1. Foward Propagation"
   ]
  },
  {
   "cell_type": "code",
   "execution_count": 73,
   "metadata": {
    "ExecuteTime": {
     "end_time": "2020-08-24T04:29:23.166683Z",
     "start_time": "2020-08-24T04:29:23.131107Z"
    }
   },
   "outputs": [],
   "source": [
    "a1 = [ones(m, 1) X]; % (5000, 401)\n",
    "\n",
    "z2 = a1 * Theta1'; % (5000, 401) X (401, 25)  \n",
    "a2 = [ones(m, 1) sigmoid(z2)]; % (5000, 26)\n",
    "\n",
    "z3 = a2 * Theta2'; % (5000, 26) X (26, 10)\n",
    "a3 = sigmoid(z3); % (5000, 10)"
   ]
  },
  {
   "cell_type": "markdown",
   "metadata": {},
   "source": [
    "### 2.3.2. Regularized Cost Function"
   ]
  },
  {
   "cell_type": "code",
   "execution_count": 74,
   "metadata": {
    "ExecuteTime": {
     "end_time": "2020-08-24T04:29:23.999368Z",
     "start_time": "2020-08-24T04:29:23.978545Z"
    }
   },
   "outputs": [],
   "source": [
    "y_onehot = zeros(num_labels, m);\n",
    "\n",
    "for i=1:num_labels,\n",
    "    y_onehot(i, y == i) = 1;  \n",
    "end\n",
    "\n",
    "y_onehot(:, 1);"
   ]
  },
  {
   "cell_type": "code",
   "execution_count": 76,
   "metadata": {
    "ExecuteTime": {
     "end_time": "2020-08-24T04:29:29.768651Z",
     "start_time": "2020-08-24T04:29:29.750642Z"
    }
   },
   "outputs": [
    {
     "name": "stdout",
     "output_type": "stream",
     "text": [
      "J =  0.38377\r\n"
     ]
    }
   ],
   "source": [
    "reg = (lambda / (2*m)) * ( sum((Theta1(:, 2:(input_layer_size+1)) .^ 2)(:)) + sum((Theta2(:, 2:(hidden_layer_size+1)) .^ 2)(:)) );\n",
    "\n",
    "J = (1 / m) * sum((-y_onehot .* log(a3)' - (1-y_onehot) .* log(1-a3)')(:)) + reg  "
   ]
  },
  {
   "cell_type": "markdown",
   "metadata": {},
   "source": [
    "### 2.3.3. Back Propagation"
   ]
  },
  {
   "cell_type": "code",
   "execution_count": 56,
   "metadata": {
    "ExecuteTime": {
     "end_time": "2020-08-24T04:20:52.656765Z",
     "start_time": "2020-08-24T04:20:52.626083Z"
    }
   },
   "outputs": [
    {
     "name": "stdout",
     "output_type": "stream",
     "text": [
      "ans =\r\n",
      "\r\n",
      "   10    1\r\n",
      "\r\n",
      "ans =\r\n",
      "\r\n",
      "   25    1\r\n",
      "\r\n"
     ]
    }
   ],
   "source": [
    "\n",
    "d3 = a3' - y_onehot(:, 1); % (10, 1)\n",
    "d2 = Theta2' * d3  .* [1 sigmoidGradient(z2)]';\n",
    "d2 = d2(2:end);\n",
    "size(d3), size(d2)"
   ]
  },
  {
   "cell_type": "markdown",
   "metadata": {},
   "source": [
    "- for-loop"
   ]
  },
  {
   "cell_type": "code",
   "execution_count": 85,
   "metadata": {
    "ExecuteTime": {
     "end_time": "2020-08-24T04:34:00.273309Z",
     "start_time": "2020-08-24T04:33:59.732329Z"
    }
   },
   "outputs": [],
   "source": [
    "Theta1_grad = zeros(size(Theta1));\n",
    "Theta2_grad = zeros(size(Theta2));\n",
    "\n",
    "for t=1:m,\n",
    "    delta_3 = a3(t, :)' - y_onehot(:, t); % (10, 1)\n",
    "    delta_2 = Theta2(:, 2:hidden_layer_size+1)' * delta_3  .* sigmoidGradient(z2(t, :))';\n",
    "\n",
    "    Theta2_grad = Theta2_grad + delta_3 * a2(t, :); \n",
    "    Theta1_grad = Theta1_grad + delta_2 * a1(t, :);\n",
    "    \n",
    "end\n",
    "\n",
    "Theta2_grad = Theta2_grad / m;\n",
    "Theta1_grad = Theta1_grad / m;\n"
   ]
  },
  {
   "cell_type": "markdown",
   "metadata": {},
   "source": [
    "- vectorization"
   ]
  },
  {
   "cell_type": "code",
   "execution_count": 86,
   "metadata": {
    "ExecuteTime": {
     "end_time": "2020-08-24T04:34:02.220698Z",
     "start_time": "2020-08-24T04:34:02.178358Z"
    }
   },
   "outputs": [
    {
     "name": "stdout",
     "output_type": "stream",
     "text": [
      "ans =\r\n",
      "\r\n",
      "     10   5000\r\n",
      "\r\n",
      "ans =\r\n",
      "\r\n",
      "     25   5000\r\n",
      "\r\n"
     ]
    }
   ],
   "source": [
    "delta_3 = a3' - y_onehot;\n",
    "delta_2 = Theta2(:, 2:hidden_layer_size+1)' * delta_3 .* sigmoidGradient(z2)';\n",
    "\n",
    "size(delta_3), size(delta_2)"
   ]
  },
  {
   "cell_type": "code",
   "execution_count": 87,
   "metadata": {
    "ExecuteTime": {
     "end_time": "2020-08-24T04:34:04.017922Z",
     "start_time": "2020-08-24T04:34:04.005193Z"
    }
   },
   "outputs": [
    {
     "name": "stdout",
     "output_type": "stream",
     "text": [
      "ans =\r\n",
      "\r\n",
      "   10   26\r\n",
      "\r\n"
     ]
    }
   ],
   "source": [
    "size(delta_3 * a2)"
   ]
  },
  {
   "cell_type": "code",
   "execution_count": 88,
   "metadata": {
    "ExecuteTime": {
     "end_time": "2020-08-24T04:34:04.389596Z",
     "start_time": "2020-08-24T04:34:04.361996Z"
    }
   },
   "outputs": [
    {
     "name": "stdout",
     "output_type": "stream",
     "text": [
      "ans =\r\n",
      "\r\n",
      "    25   401\r\n",
      "\r\n"
     ]
    }
   ],
   "source": [
    "size(delta_2 * a1)"
   ]
  },
  {
   "cell_type": "code",
   "execution_count": 92,
   "metadata": {
    "ExecuteTime": {
     "end_time": "2020-08-24T04:34:46.445829Z",
     "start_time": "2020-08-24T04:34:45.452051Z"
    }
   },
   "outputs": [
    {
     "name": "stdout",
     "output_type": "stream",
     "text": [
      "ans =\n",
      "\n",
      " Columns 1 through 6:\n",
      "\n",
      "  -2.6021e-17   6.2884e-18  -8.2670e-19   2.3852e-18  -2.1034e-17   6.5052e-18\n",
      "   1.0246e-17  -6.5052e-19   1.3010e-18   3.0358e-18  -1.2794e-17  -2.0810e-17\n",
      "   2.8135e-17  -2.8189e-18  -2.4069e-17   1.5179e-18  -6.0580e-18  -1.2685e-17\n",
      "  -1.0354e-17  -2.1142e-17  -5.6379e-18   8.0773e-18   1.3010e-18   4.4181e-18\n",
      "   6.2884e-18  -2.1684e-19   5.8547e-18   3.2526e-18   9.5952e-18  -1.3227e-17\n",
      "  -1.2794e-17   1.8974e-19  -2.1684e-19  -1.3769e-17   8.2399e-18   4.9331e-18\n",
      "  -3.4152e-17  -2.4611e-17   2.7105e-18   1.3010e-18  -9.7578e-19  -5.6379e-18\n",
      "   2.4937e-18  -3.1984e-18   4.7705e-18  -3.5914e-17  -2.2372e-17   2.9273e-18\n",
      "   2.9273e-17  -1.3607e-17   7.2642e-18  -3.7947e-18  -5.6379e-18   1.4461e-17\n",
      "  -8.1857e-18  -2.1684e-19   4.3368e-19   1.1221e-17   3.1442e-18  -5.4210e-19\n",
      "\n",
      " Columns 7 through 12:\n",
      "\n",
      "   4.6079e-19   3.9031e-18  -5.4210e-18   3.7405e-18   6.5052e-18  -1.3878e-17\n",
      "  -1.6263e-19  -4.9873e-18  -1.7347e-18  -6.8305e-18   1.0842e-18   1.0625e-17\n",
      "  -4.7705e-18  -2.7105e-18  -1.1384e-18  -2.3310e-18  -1.0842e-18   7.3726e-18\n",
      "  -6.5052e-19  -5.5294e-18   4.1200e-18   2.1684e-18  -2.8189e-18  -9.9476e-18\n",
      "  -7.2642e-18   1.0842e-18  -1.0842e-18  -1.1804e-17   1.1384e-18   8.2399e-18\n",
      "  -1.7754e-17  -3.4694e-18   8.2399e-18   1.0842e-18   3.0358e-18  -1.3986e-17\n",
      "   8.4568e-18  -7.9147e-18   3.0358e-18  -1.9516e-18  -1.6697e-17   0.0000e+00\n",
      "   3.3502e-17   1.3227e-17  -1.7347e-18   2.9707e-17  -5.6379e-18  -1.0842e-18\n",
      "   1.2143e-17   3.3068e-18  -4.3368e-19   1.3661e-17  -4.5157e-17   1.6019e-17\n",
      "   9.5952e-18   3.7947e-19  -1.0842e-19   1.2197e-18   6.5052e-19  -1.5179e-18\n",
      "\n",
      " Columns 13 through 18:\n",
      "\n",
      "  -9.7578e-18  -2.6238e-17   9.7578e-19  -1.0300e-17   0.0000e+00   0.0000e+00\n",
      "  -1.5179e-17   1.9516e-18   8.4026e-18  -8.6736e-19  -8.6736e-19  -1.3010e-18\n",
      "   2.2985e-17   3.4152e-18   8.6736e-19   8.6736e-19  -6.5052e-19  -4.5536e-18\n",
      "   2.2985e-17   3.9031e-18  -3.2526e-18  -1.5721e-18   2.3852e-18   1.6263e-18\n",
      "   5.4210e-19  -1.7076e-18   1.1926e-18   4.6756e-18   1.0842e-18   2.8189e-18\n",
      "  -8.6736e-18   5.2042e-18  -5.8547e-18  -4.8789e-19   3.4694e-18  -6.5052e-19\n",
      "   7.5352e-18  -4.4452e-18  -2.9273e-18   3.9031e-18  -1.8431e-18  -3.8218e-18\n",
      "   0.0000e+00   1.0408e-17   1.1709e-17   1.3417e-17  -1.4745e-17  -2.1684e-18\n",
      "   1.4854e-17   7.5894e-19  -7.8063e-18   1.0408e-17   1.9109e-18  -8.1315e-18\n",
      "   3.4694e-18  -8.6736e-19  -6.5052e-19   6.5052e-19   4.3368e-18  -7.4810e-18\n",
      "\n",
      " Columns 19 through 24:\n",
      "\n",
      "   7.8063e-18  -6.5052e-19   3.2526e-19   2.0275e-17  -1.0408e-17   1.7347e-18\n",
      "   4.5943e-18   4.3368e-19  -4.3368e-19  -1.1601e-17   5.0686e-18   7.5894e-18\n",
      "  -2.0600e-18  -1.5179e-18   2.1684e-19   4.9602e-18  -1.2224e-17   2.1684e-19\n",
      "  -4.4723e-18  -1.1845e-17  -1.5179e-18  -1.7347e-18   9.7578e-18  -2.6834e-18\n",
      "   6.5052e-19   8.6736e-18  -5.2042e-18   1.1059e-17   1.7347e-18   6.2884e-18\n",
      "  -4.3368e-19   9.7578e-18   7.3184e-19  -3.9031e-18   1.3824e-18   1.5829e-17\n",
      "   7.5894e-19   7.2099e-18  -1.6263e-18  -1.9949e-17  -4.2284e-18   1.0046e-18\n",
      "   3.1279e-17  -8.4568e-18  -1.8431e-18  -1.3010e-17  -1.5613e-17   2.7485e-17\n",
      "   9.2428e-18   4.7976e-18   8.4568e-18  -1.0937e-17  -4.7705e-18  -2.3419e-17\n",
      "   2.6021e-18  -2.2226e-18  -5.6379e-18  -5.4210e-19  -5.8547e-18  -1.3281e-18\n",
      "\n",
      " Columns 25 and 26:\n",
      "\n",
      "   7.4810e-18   7.4810e-18\n",
      "  -3.0358e-18   3.1442e-18\n",
      "  -2.1467e-17   2.1142e-18\n",
      "   2.1684e-19   1.0842e-19\n",
      "  -1.1005e-17  -3.6863e-18\n",
      "   3.4694e-18   1.3010e-18\n",
      "  -6.1800e-18  -6.9389e-18\n",
      "  -2.6617e-17   1.1709e-17\n",
      "  -6.9389e-18  -1.5179e-18\n",
      "  -1.8431e-18  -1.1926e-18\n",
      "\n",
      "ans =\n",
      "\n",
      " Columns 1 through 6:\n",
      "\n",
      "   9.7578e-19   0.0000e+00   0.0000e+00  -8.2718e-25   0.0000e+00   0.0000e+00\n",
      "  -8.5245e-18   0.0000e+00   0.0000e+00   2.0680e-25  -4.1359e-24   2.9779e-23\n",
      "  -1.0435e-17   0.0000e+00   0.0000e+00   0.0000e+00   0.0000e+00   1.3235e-23\n",
      "   1.7591e-17   0.0000e+00   0.0000e+00   0.0000e+00   0.0000e+00  -1.0588e-22\n",
      "  -3.7947e-19   0.0000e+00   0.0000e+00   4.1359e-25  -3.3087e-24   0.0000e+00\n",
      "  -7.0202e-18   0.0000e+00   0.0000e+00   0.0000e+00   0.0000e+00   1.0588e-22\n",
      "  -2.1108e-17   0.0000e+00   0.0000e+00   0.0000e+00  -6.6174e-24   2.6470e-23\n",
      "  -2.9277e-17   0.0000e+00   0.0000e+00   0.0000e+00   0.0000e+00   1.3235e-23\n",
      "  -1.2577e-17   0.0000e+00   0.0000e+00  -8.2718e-25   2.4815e-24  -1.0588e-22\n",
      "   9.2259e-18   0.0000e+00   0.0000e+00   0.0000e+00   0.0000e+00   0.0000e+00\n",
      "   3.3671e-17   0.0000e+00   0.0000e+00   0.0000e+00   0.0000e+00  -2.6470e-23\n",
      "  -1.8404e-17   0.0000e+00   0.0000e+00   0.0000e+00   0.0000e+00  -7.9409e-23\n",
      "   2.7512e-18   0.0000e+00   0.0000e+00   0.0000e+00   3.3087e-24  -1.3235e-23\n",
      "  -7.2370e-18   0.0000e+00   0.0000e+00  -1.0340e-25   0.0000e+00   0.0000e+00\n",
      "  -2.0871e-18   0.0000e+00   0.0000e+00   0.0000e+00   0.0000e+00   4.9631e-24\n",
      "  -7.1693e-18   0.0000e+00   0.0000e+00   0.0000e+00   2.6883e-24  -7.9409e-23\n",
      "   3.0629e-18   0.0000e+00   0.0000e+00  -2.0680e-25   0.0000e+00   0.0000e+00\n",
      "  -4.0658e-20   0.0000e+00   0.0000e+00  -4.1359e-25   4.9631e-24  -1.3235e-23\n",
      "   6.5865e-18   0.0000e+00   0.0000e+00   0.0000e+00   0.0000e+00   0.0000e+00\n",
      "  -9.7036e-18   0.0000e+00   0.0000e+00   3.2312e-27   8.2718e-25  -1.9852e-23\n",
      "   1.5721e-18   0.0000e+00   0.0000e+00  -2.5849e-26   4.1359e-25  -2.1507e-23\n",
      "   9.5952e-18   0.0000e+00   0.0000e+00   5.1699e-26  -5.1699e-25   0.0000e+00\n",
      "   1.1926e-18   0.0000e+00   0.0000e+00   0.0000e+00   0.0000e+00   1.3235e-23\n",
      "   9.7578e-19   0.0000e+00   0.0000e+00   2.0680e-25  -4.1359e-24   1.3235e-23\n",
      "  -1.4013e-17   0.0000e+00   0.0000e+00   0.0000e+00   0.0000e+00  -2.6470e-23\n",
      "\n",
      " Columns 7 through 12:\n",
      "\n",
      "   0.0000e+00   0.0000e+00   2.1176e-22   0.0000e+00   0.0000e+00   2.6470e-23\n",
      "   3.1764e-22   0.0000e+00  -2.1176e-22   1.4558e-22   0.0000e+00  -1.0588e-22\n",
      "   0.0000e+00  -1.0588e-22  -1.0588e-22  -2.1176e-22  -1.0588e-22   1.3235e-23\n",
      "   1.6941e-21   5.2940e-22  -2.1176e-22   0.0000e+00   2.1176e-22  -1.5882e-22\n",
      "  -1.5882e-22   6.3527e-22  -1.0588e-22  -1.0588e-22   2.1176e-22   0.0000e+00\n",
      "   0.0000e+00   2.1176e-22  -2.1176e-22  -8.6027e-23   0.0000e+00   6.6174e-24\n",
      "   4.2352e-22  -6.3527e-22  -2.1176e-22   2.1176e-22   0.0000e+00  -5.2940e-23\n",
      "  -2.6470e-23  -4.2352e-22  -8.4703e-22   0.0000e+00  -2.1176e-22   1.0588e-22\n",
      "  -6.3527e-22   0.0000e+00   1.1911e-22  -5.2940e-23   5.2940e-23   1.3235e-23\n",
      "  -1.9852e-22   1.6941e-21   0.0000e+00  -2.3823e-22  -2.6470e-23   9.9262e-24\n",
      "   1.3235e-22   0.0000e+00   1.0588e-22   0.0000e+00  -4.2352e-22   1.0588e-22\n",
      "  -1.0588e-21  -1.3235e-22   1.0588e-22   0.0000e+00  -1.0588e-22   6.6174e-24\n",
      "   2.1176e-22   1.0588e-22  -1.0588e-22  -1.3235e-22   0.0000e+00   1.0588e-22\n",
      "   4.2352e-22  -6.3527e-22   0.0000e+00   1.5882e-22  -1.0588e-22  -3.9705e-23\n",
      "   3.3087e-23   0.0000e+00  -4.2352e-22   2.1176e-22   1.0588e-22   5.2940e-23\n",
      "   1.0588e-22   0.0000e+00  -4.2352e-22  -1.0588e-22   2.7793e-22   8.1064e-23\n",
      "  -2.6470e-23   0.0000e+00   4.2352e-22   0.0000e+00   0.0000e+00   0.0000e+00\n",
      "  -1.4558e-22   8.4703e-22   0.0000e+00   0.0000e+00   0.0000e+00   1.5882e-22\n",
      "   0.0000e+00  -5.4594e-23   0.0000e+00  -1.5882e-22   1.0588e-22   5.2940e-23\n",
      "   1.0588e-22   0.0000e+00  -4.2352e-22  -2.1176e-22   5.2940e-23  -3.3087e-24\n",
      "   1.0588e-22   0.0000e+00  -4.2352e-22  -2.1176e-22  -2.1176e-22   0.0000e+00\n",
      "   0.0000e+00   1.0588e-22  -2.1176e-22   2.1176e-22   2.1176e-22  -1.5882e-22\n",
      "  -2.6470e-23  -4.2352e-22  -1.3897e-22   0.0000e+00  -5.2940e-23  -3.9705e-23\n",
      "   1.0588e-22   4.2352e-22  -4.2352e-22   4.2352e-22   4.2352e-22   0.0000e+00\n",
      "   0.0000e+00   1.5882e-22  -3.1764e-22  -3.9705e-23  -7.1344e-23   0.0000e+00\n",
      "\n",
      " Columns 13 through 18:\n",
      "\n",
      "   0.0000e+00  -1.0588e-22  -2.6470e-23  -2.1176e-22  -1.3235e-23   0.0000e+00\n",
      "   1.0588e-22  -1.0588e-22   0.0000e+00   4.6322e-23   0.0000e+00   0.0000e+00\n",
      "  -2.1176e-22   4.2352e-22   8.4703e-22   3.3881e-21  -1.0588e-22   0.0000e+00\n",
      "  -1.9852e-23  -2.6470e-23  -2.6470e-22  -3.1764e-22   0.0000e+00  -2.6470e-23\n",
      "   5.2940e-23   2.1176e-22  -8.4703e-22  -1.6941e-21  -1.3235e-22   0.0000e+00\n",
      "  -1.3235e-23   0.0000e+00   0.0000e+00   0.0000e+00   0.0000e+00   0.0000e+00\n",
      "   0.0000e+00   0.0000e+00   0.0000e+00   0.0000e+00   0.0000e+00   0.0000e+00\n",
      "   1.9852e-23   0.0000e+00   0.0000e+00   2.1176e-22   0.0000e+00   0.0000e+00\n",
      "   0.0000e+00  -2.3161e-23  -2.6470e-23  -2.6470e-23   3.3087e-24   0.0000e+00\n",
      "   2.6470e-23   2.1176e-22   3.9705e-23   1.0588e-22   0.0000e+00  -1.3235e-23\n",
      "  -7.9409e-23   0.0000e+00   0.0000e+00  -3.1764e-22  -5.2940e-23   2.4815e-24\n",
      "   2.6470e-23   5.2940e-23   0.0000e+00   0.0000e+00  -5.2940e-23  -1.3235e-23\n",
      "  -1.3235e-23   0.0000e+00   0.0000e+00  -5.2940e-23  -1.3235e-23   6.6174e-24\n",
      "   0.0000e+00   0.0000e+00   1.0588e-22  -4.2352e-22  -5.2940e-23   0.0000e+00\n",
      "  -7.9409e-23   0.0000e+00   0.0000e+00   0.0000e+00  -1.3235e-23  -3.3087e-24\n",
      "  -5.2940e-23  -2.1176e-22   0.0000e+00   0.0000e+00   1.9852e-23   0.0000e+00\n",
      "   5.2940e-23  -2.1176e-22  -2.1176e-22  -1.0588e-22  -5.2940e-23  -2.6470e-23\n",
      "  -1.0588e-22   0.0000e+00   4.2352e-22   8.4703e-22   2.6470e-23   0.0000e+00\n",
      "   0.0000e+00  -2.1176e-22   0.0000e+00  -8.4703e-22  -1.3235e-23   0.0000e+00\n",
      "   5.2940e-23   0.0000e+00   0.0000e+00   1.0588e-22   6.6174e-24  -3.3087e-24\n",
      "  -4.9631e-23  -5.2940e-23  -4.2352e-22   0.0000e+00   1.9852e-23   0.0000e+00\n",
      "   8.2718e-24   0.0000e+00   2.1176e-22   3.1764e-22  -1.6544e-23  -8.2718e-25\n",
      "   2.6470e-22   2.1176e-22   2.1176e-22   0.0000e+00   0.0000e+00   3.3087e-24\n",
      "   1.0588e-22   0.0000e+00  -1.0588e-22   6.3527e-22   9.2644e-23   0.0000e+00\n",
      "   5.2940e-23   2.1176e-22   6.3527e-22   8.4703e-22   1.0588e-22  -6.6174e-24\n",
      "\n",
      " Columns 19 through 24:\n",
      "\n",
      "   0.0000e+00   0.0000e+00   0.0000e+00  -3.2312e-27   5.1699e-26   1.3235e-23\n",
      "   0.0000e+00   0.0000e+00   0.0000e+00   1.2117e-27  -2.0680e-25   6.6174e-24\n",
      "   4.1359e-25  -3.8774e-26   0.0000e+00   4.0390e-28   0.0000e+00   3.9705e-23\n",
      "  -3.3087e-24   8.2718e-25   0.0000e+00   1.0097e-28   0.0000e+00   0.0000e+00\n",
      "   8.2718e-25   0.0000e+00   0.0000e+00   0.0000e+00   5.1699e-26   0.0000e+00\n",
      "   0.0000e+00   0.0000e+00   0.0000e+00  -6.4623e-27   0.0000e+00   6.6174e-24\n",
      "  -6.4623e-26   1.2925e-26   0.0000e+00  -6.4623e-27   0.0000e+00   1.9852e-23\n",
      "  -2.5849e-26  -1.6156e-27   0.0000e+00   0.0000e+00   2.0680e-25   1.3235e-23\n",
      "  -1.2925e-25   0.0000e+00   0.0000e+00  -4.8468e-27   2.0680e-25   0.0000e+00\n",
      "   0.0000e+00   1.2925e-26   0.0000e+00   0.0000e+00   0.0000e+00   3.3087e-24\n",
      "   0.0000e+00   0.0000e+00   0.0000e+00   0.0000e+00   2.0680e-25   0.0000e+00\n",
      "   0.0000e+00   0.0000e+00   0.0000e+00   0.0000e+00  -2.4815e-24   9.0990e-24\n",
      "   0.0000e+00   0.0000e+00   0.0000e+00   4.0390e-28  -3.3604e-25  -4.9631e-24\n",
      "   0.0000e+00   0.0000e+00   0.0000e+00   1.6156e-27   0.0000e+00   0.0000e+00\n",
      "   0.0000e+00   0.0000e+00   0.0000e+00   2.5244e-29  -1.0340e-25  -6.6174e-24\n",
      "   0.0000e+00   0.0000e+00   0.0000e+00  -1.2925e-26   1.7125e-25   6.6174e-24\n",
      "   0.0000e+00   2.0680e-25   0.0000e+00  -4.8468e-27   5.1699e-26  -2.6470e-23\n",
      "   0.0000e+00   0.0000e+00   0.0000e+00   0.0000e+00   0.0000e+00   0.0000e+00\n",
      "   0.0000e+00   5.1699e-26   0.0000e+00  -1.9387e-26   1.0340e-25   0.0000e+00\n",
      "   0.0000e+00   0.0000e+00   0.0000e+00   3.2312e-27   0.0000e+00   4.9631e-24\n",
      "   7.7548e-26   0.0000e+00   0.0000e+00   0.0000e+00   1.8095e-25   0.0000e+00\n",
      "   0.0000e+00   0.0000e+00   0.0000e+00  -6.4623e-27   0.0000e+00  -3.3087e-24\n",
      "   0.0000e+00   2.5849e-26   0.0000e+00  -8.0779e-28   0.0000e+00  -2.6470e-23\n",
      "   4.1359e-25   0.0000e+00   0.0000e+00  -8.0779e-28  -5.1699e-26   0.0000e+00\n",
      "   0.0000e+00   0.0000e+00   0.0000e+00   1.6156e-27  -4.1359e-25  -1.3235e-23\n",
      "\n",
      " Columns 25 through 30:\n",
      "\n",
      "  -4.2352e-22  -5.2940e-22   0.0000e+00  -1.6941e-21  -1.6941e-21  -3.3881e-21\n",
      "   6.6174e-23   7.4115e-22   0.0000e+00   6.7763e-21   1.0164e-20   5.0822e-21\n",
      "   0.0000e+00  -8.4703e-22   3.3881e-21   3.3881e-21   3.3881e-21   1.6941e-21\n",
      "   2.6470e-23  -8.4703e-22   0.0000e+00   0.0000e+00  -3.3881e-21   1.6941e-21\n",
      "   1.5882e-22  -1.0588e-22   8.4703e-22   0.0000e+00   3.3881e-21  -5.0822e-21\n",
      "  -1.0588e-22   4.2352e-22  -1.6941e-21   8.4703e-22  -4.2352e-22   4.2352e-22\n",
      "   0.0000e+00  -6.3527e-22  -3.1764e-22   5.9292e-21   6.7763e-21   6.7763e-21\n",
      "   0.0000e+00  -4.2352e-22   4.2352e-22   2.1176e-21  -3.3881e-21   2.5411e-21\n",
      "  -1.5882e-22  -5.2940e-23   8.4703e-22  -1.0588e-21  -1.6941e-21  -2.0911e-21\n",
      "  -1.0588e-22   5.2940e-23  -2.5411e-21   8.4703e-22   4.2352e-21   2.9646e-21\n",
      "  -1.0588e-22   8.4703e-22  -2.5411e-21   5.0822e-21   5.1881e-21   2.3293e-21\n",
      "  -4.2352e-22   2.1176e-22   1.4294e-21  -3.3881e-21   0.0000e+00   1.6941e-21\n",
      "   7.9409e-23   0.0000e+00   3.3881e-21   1.6941e-21   2.5411e-21   4.2352e-22\n",
      "  -2.1176e-22   8.4703e-22   2.1176e-22  -2.5411e-21   1.7205e-22   1.6941e-21\n",
      "   1.8529e-22   1.0588e-22   2.9646e-21   5.0822e-21   0.0000e+00  -5.0822e-21\n",
      "  -1.5882e-22   0.0000e+00   5.0822e-21  -5.0822e-21  -1.0164e-20   0.0000e+00\n",
      "  -1.5882e-22   6.3527e-22  -2.1176e-21   4.2352e-21  -6.7763e-21  -3.3881e-21\n",
      "   0.0000e+00  -4.2352e-22   0.0000e+00   8.4703e-22  -6.7763e-21  -6.7763e-21\n",
      "   8.4703e-22  -4.2352e-22   3.1764e-22   1.6941e-21  -2.1176e-22  -7.9409e-23\n",
      "   0.0000e+00   4.8804e-23   2.5411e-21   4.2352e-21   6.7763e-21   1.6941e-21\n",
      "  -7.9409e-23   1.3764e-21  -4.2352e-21   2.5411e-21  -6.7763e-21   0.0000e+00\n",
      "   5.2940e-23  -5.2940e-23   1.0588e-21   0.0000e+00  -5.0822e-21   2.1176e-21\n",
      "  -1.5882e-22   0.0000e+00   2.1176e-22   4.2352e-22   8.4703e-22  -4.2352e-22\n",
      "   1.0588e-22   2.1176e-22   2.1176e-21  -8.4703e-22   1.3553e-20  -3.3881e-21\n",
      "  -5.2940e-23   1.5882e-22   8.4703e-22   6.3527e-22  -1.4294e-21  -8.4703e-22\n",
      "\n",
      " Columns 31 through 36:\n",
      "\n",
      "  -8.4703e-22   2.6470e-22   0.0000e+00   5.0822e-21   1.4823e-21   1.4823e-21\n",
      "  -8.4703e-21   2.1176e-21  -2.5411e-21   2.5411e-21  -1.6941e-21  -2.5411e-21\n",
      "   8.4703e-22   1.0588e-21   6.7763e-21   3.3881e-20  -6.7763e-21   0.0000e+00\n",
      "   0.0000e+00  -9.5291e-22   1.0588e-21   2.5411e-21   4.2352e-21  -8.4703e-22\n",
      "  -4.2352e-21  -6.3527e-22  -5.0822e-21  -8.4703e-21   0.0000e+00  -1.3553e-20\n",
      "   0.0000e+00   1.6941e-21   0.0000e+00  -8.4703e-22  -2.1176e-22  -1.6941e-21\n",
      "   6.7763e-21  -8.4703e-22   1.6941e-21  -3.3881e-21  -1.3553e-20  -4.2352e-22\n",
      "   8.4703e-22  -1.4823e-21  -4.2352e-22  -4.2352e-22   2.5411e-21   1.6941e-21\n",
      "  -1.2705e-21  -5.2940e-23   0.0000e+00  -2.3823e-22  -4.2352e-22   2.1176e-21\n",
      "   0.0000e+00   4.7646e-22   2.1176e-21  -4.2352e-21  -3.1764e-21   2.9646e-21\n",
      "   3.2823e-21   5.5057e-21  -3.5999e-21  -3.3881e-21  -1.1858e-20   0.0000e+00\n",
      "   4.2352e-22  -2.1176e-21   5.5057e-21   2.9646e-21   0.0000e+00   6.7763e-21\n",
      "  -2.1176e-22  -1.2044e-21  -9.5291e-22  -2.5411e-21   1.3235e-22   4.4469e-21\n",
      "   1.6941e-21   3.4940e-21   0.0000e+00  -1.0164e-20  -1.6941e-21  -1.0164e-20\n",
      "  -5.0822e-21   0.0000e+00   6.3527e-22  -1.6941e-21   3.3881e-21  -6.7763e-21\n",
      "  -3.3881e-21   1.6941e-21  -2.5411e-21   3.3881e-21  -8.4703e-22   0.0000e+00\n",
      "   4.2352e-21  -8.4703e-22   8.4703e-22  -1.6941e-21   5.0822e-21  -1.6941e-21\n",
      "   1.6941e-21  -5.2940e-22   0.0000e+00  -3.3881e-21  -3.3881e-21   1.3553e-20\n",
      "   8.4703e-22  -1.6941e-21   6.3527e-22   1.6941e-21   1.0164e-20  -6.7763e-21\n",
      "   5.0822e-21   0.0000e+00  -4.0234e-21   0.0000e+00   1.6941e-21  -1.6941e-21\n",
      "  -3.3881e-21   3.3881e-21   0.0000e+00  -4.2352e-22   0.0000e+00   6.7763e-21\n",
      "   0.0000e+00   1.2705e-21   0.0000e+00   2.1176e-21   4.2352e-21   4.2352e-21\n",
      "   6.3527e-22  -9.5291e-22  -3.3881e-21   5.0822e-21   0.0000e+00   3.3881e-21\n",
      "   0.0000e+00   0.0000e+00   0.0000e+00  -3.3881e-21   0.0000e+00   1.6941e-21\n",
      "   0.0000e+00   6.3527e-22  -8.4703e-22   1.5247e-20   1.6941e-21  -1.3553e-20\n",
      "\n",
      " Columns 37 through 42:\n",
      "\n",
      "   7.4115e-22   1.2143e-21   4.2352e-22  -7.9409e-23  -1.3235e-23   2.5849e-26\n",
      "   1.4823e-21  -1.2705e-21  -1.6941e-21  -2.1176e-22   0.0000e+00  -3.2312e-27\n",
      "  -2.1176e-21  -3.3881e-21   0.0000e+00   5.2940e-23   0.0000e+00   1.2925e-26\n",
      "  -8.4703e-22   2.1176e-22   0.0000e+00  -1.5882e-22   0.0000e+00  -8.0779e-28\n",
      "  -2.9117e-22  -8.4703e-22  -4.2352e-22   0.0000e+00   0.0000e+00   2.5849e-26\n",
      "  -4.2352e-22  -1.0588e-22   8.4703e-22  -2.1176e-22  -2.6470e-23   7.7548e-26\n",
      "   1.4294e-21  -1.5882e-22   0.0000e+00  -1.3235e-23   1.3235e-23   2.0680e-25\n",
      "   9.5291e-22  -3.1764e-22  -1.0588e-22   1.6544e-24  -2.4815e-24   0.0000e+00\n",
      "  -2.1176e-22   1.0588e-22   5.2940e-23  -6.6174e-24   0.0000e+00   3.8774e-26\n"
     ]
    },
    {
     "name": "stdout",
     "output_type": "stream",
     "text": [
      "   0.0000e+00  -2.1176e-22  -2.1176e-22   7.9409e-23   6.6174e-24   8.0779e-28\n",
      "  -2.1176e-22   2.1176e-22   0.0000e+00   0.0000e+00  -6.6174e-24   8.2395e-26\n",
      "  -4.2352e-21  -1.0588e-21   2.1176e-22   5.2940e-23   3.3087e-24   0.0000e+00\n",
      "   4.6587e-21  -2.1176e-22   5.2940e-22   0.0000e+00   3.3087e-24  -3.2312e-27\n",
      "  -1.4426e-21  -4.2352e-22  -4.2352e-22   2.1176e-22   1.3235e-23  -2.0680e-25\n",
      "  -2.1176e-21   6.3527e-22   6.3527e-22  -2.6470e-23   0.0000e+00   0.0000e+00\n",
      "   1.2705e-21   1.9058e-21   4.2352e-22   1.0588e-22   0.0000e+00   2.0680e-25\n",
      "   2.1176e-22   7.4115e-22   0.0000e+00   0.0000e+00   9.9262e-24   3.8774e-26\n",
      "   0.0000e+00   4.2352e-22   1.0588e-21   5.2940e-23   0.0000e+00  -2.5849e-26\n",
      "   1.6941e-21  -8.4703e-22  -3.1764e-22   3.3087e-24   0.0000e+00   5.1699e-25\n",
      "   1.3764e-21   2.1176e-22   0.0000e+00   1.6544e-23  -3.1019e-24   0.0000e+00\n",
      "  -2.1176e-22  -3.1764e-22  -7.9409e-23   8.2718e-25  -1.7448e-25   2.0680e-25\n",
      "  -3.1764e-22   4.2352e-22  -1.0588e-22   1.3235e-23   0.0000e+00   7.7548e-26\n",
      "  -8.4703e-22   4.2352e-22   6.3527e-22  -5.2940e-23   0.0000e+00   6.4623e-27\n",
      "   8.4703e-22  -1.6941e-21   4.2352e-22  -5.2940e-23   0.0000e+00   6.4623e-27\n",
      "  -9.5291e-22  -1.0588e-21   6.6174e-23   0.0000e+00   1.6544e-24  -1.6156e-26\n",
      "\n",
      " Columns 43 through 48:\n",
      "\n",
      "   3.3087e-24   5.2940e-23   0.0000e+00  -5.0822e-21  -6.7763e-21  -6.6069e-20\n",
      "   3.3087e-24  -1.9191e-22   1.0588e-21  -3.7269e-20   1.3553e-20  -3.0493e-20\n",
      "  -6.6174e-24   0.0000e+00  -6.7763e-21   0.0000e+00  -1.2197e-19   2.7105e-20\n",
      "   6.6174e-24  -1.0588e-22   1.0588e-22   1.8529e-21  -4.6587e-21  -8.0468e-21\n",
      "  -3.3087e-24   0.0000e+00  -5.0293e-22   2.5411e-21   9.7409e-21  -1.1520e-19\n",
      "  -3.3087e-24   0.0000e+00  -7.4115e-22  -2.7529e-21   1.4823e-21  -2.8799e-20\n",
      "   6.6174e-24  -2.1176e-22  -8.4703e-22  -2.7529e-21  -1.3553e-20   0.0000e+00\n",
      "   9.9262e-24  -2.6470e-23  -4.2352e-22  -4.2352e-21  -3.3881e-20   2.9646e-21\n",
      "  -8.2718e-25   0.0000e+00   1.5882e-22  -2.9646e-21   1.9482e-20  -3.3881e-21\n",
      "   3.3087e-24  -9.9262e-24  -1.0588e-21  -6.7763e-21   0.0000e+00   4.0658e-20\n",
      "  -3.3087e-24   1.3235e-22  -1.0588e-21   0.0000e+00   0.0000e+00   8.1315e-20\n",
      "   3.3087e-23  -1.0588e-22   0.0000e+00  -8.4703e-22   0.0000e+00  -9.7409e-21\n",
      "   6.6174e-24   0.0000e+00  -1.4823e-21   6.7763e-21  -6.7763e-21   1.0164e-20\n",
      "   0.0000e+00   0.0000e+00   8.4703e-21   0.0000e+00   1.3553e-20  -6.7763e-20\n",
      "   0.0000e+00  -7.9409e-23  -8.4703e-22   0.0000e+00  -2.3717e-20   4.2352e-20\n",
      "  -4.1359e-24   5.2940e-23   1.7205e-22   0.0000e+00   9.4868e-20  -6.7339e-20\n",
      "   0.0000e+00   1.0588e-22  -6.3527e-22  -1.3553e-20  -2.7105e-20   6.0986e-20\n",
      "  -1.6544e-24   2.1176e-22  -5.0822e-21  -2.7105e-20  -1.3553e-20   0.0000e+00\n",
      "  -2.6883e-24   2.1176e-22  -5.0822e-21   2.7105e-20   1.0842e-19  -1.3553e-20\n",
      "   0.0000e+00   0.0000e+00   0.0000e+00   5.0822e-21   3.3881e-21  -1.0164e-19\n",
      "  -1.6544e-24  -9.9262e-24   0.0000e+00   3.3881e-21   2.0329e-20   2.3717e-20\n",
      "   0.0000e+00  -1.0588e-22   0.0000e+00   8.4703e-22   3.3881e-21   1.0164e-20\n",
      "   0.0000e+00  -1.3235e-23   0.0000e+00  -2.9646e-21  -2.1176e-22   1.6941e-21\n",
      "   0.0000e+00   0.0000e+00   0.0000e+00   1.0164e-20   4.7434e-20  -5.4210e-20\n",
      "   6.6174e-24  -1.0588e-22  -4.2352e-21   1.3553e-20   5.0822e-21  -2.0329e-20\n",
      "\n",
      " Columns 49 through 54:\n",
      "\n",
      "   4.4046e-20  -4.0658e-20   0.0000e+00  -3.3881e-21   2.3717e-20   1.6941e-21\n",
      "  -4.0658e-20   5.4210e-20  -5.4210e-20   0.0000e+00   1.0164e-20   1.0164e-20\n",
      "   5.4210e-20   1.3553e-20   0.0000e+00  -1.5670e-20  -1.3553e-20   8.1315e-20\n",
      "   1.3553e-20   0.0000e+00  -3.3881e-20   1.3553e-20  -3.3881e-20   1.3553e-20\n",
      "   9.4868e-20  -1.3553e-20  -4.0658e-20   5.0822e-21   2.3717e-20   0.0000e+00\n",
      "   3.3881e-20   1.3553e-20   9.4868e-20   0.0000e+00   0.0000e+00  -8.4703e-20\n",
      "   8.1315e-20   0.0000e+00  -5.9292e-21   3.3881e-20  -5.0822e-21  -4.4046e-20\n",
      "  -6.7763e-21   4.0658e-20  -1.3553e-20  -4.0658e-20   0.0000e+00   2.7105e-20\n",
      "  -6.7763e-21  -2.7105e-20   1.0164e-20  -6.7763e-21   1.0164e-20  -6.7763e-21\n",
      "   0.0000e+00   2.7105e-20  -2.7105e-20  -3.3881e-21  -5.4210e-20   0.0000e+00\n",
      "   3.0493e-20   1.8635e-20   1.0164e-20   3.7269e-20   2.5411e-21   5.4210e-20\n",
      "   2.0329e-20  -4.7434e-20  -6.3527e-22  -6.7763e-21   8.4703e-21   6.7763e-21\n",
      "   1.2282e-20   2.3717e-20   5.2728e-20   1.6941e-21   7.4539e-20   2.7105e-20\n",
      "   6.7763e-20  -1.3553e-20   6.7763e-21   0.0000e+00  -1.1858e-20  -2.7105e-20\n",
      "   2.2023e-20  -1.2197e-19   2.8799e-20   0.0000e+00   1.0164e-20  -2.7105e-20\n",
      "   3.5575e-20   2.9752e-20   1.0164e-20   3.7269e-20   5.0822e-20   2.7105e-20\n",
      "   0.0000e+00  -1.2197e-19   1.6941e-20  -1.5247e-20   1.0164e-20  -1.0164e-20\n",
      "   1.3553e-20  -1.3553e-20  -4.0658e-20  -1.0164e-20   3.3881e-21  -2.3717e-20\n",
      "  -1.0164e-20  -1.1858e-20   5.0822e-21  -6.7763e-21  -5.7598e-20   0.0000e+00\n",
      "  -4.0658e-20   1.3553e-20   3.3881e-20   2.7105e-20   1.6941e-20  -5.4210e-20\n",
      "   8.1315e-20   5.4210e-20   5.0822e-21  -1.3553e-20  -1.3553e-20   8.4703e-21\n",
      "  -3.3881e-21   1.5585e-19  -1.6941e-21   6.7763e-21   0.0000e+00   8.1315e-20\n",
      "   4.2352e-21  -6.7763e-21   1.6941e-20   1.6941e-20  -3.3881e-21  -1.1520e-19\n",
      "  -2.7105e-20   8.1315e-20  -3.3881e-20  -6.7763e-21  -4.2352e-21   6.0986e-20\n",
      "  -1.6941e-20   0.0000e+00  -1.1011e-20   1.6941e-20  -1.6941e-20  -3.3881e-20\n",
      "\n",
      " Columns 55 through 60:\n",
      "\n",
      "  -4.0658e-20  -6.7763e-20  -6.3527e-21   3.0493e-20  -6.7763e-21  -8.4703e-22\n",
      "   2.7105e-20  -1.8974e-19   2.0329e-20  -6.7763e-21   3.3881e-20   8.4703e-22\n",
      "  -1.6263e-19   1.8296e-19   2.7105e-20   3.3881e-21   2.0329e-20  -5.2940e-22\n",
      "   4.0658e-20  -7.4539e-20   1.6941e-20  -2.7105e-20  -6.7763e-21  -8.4703e-22\n",
      "  -1.0164e-20   6.7763e-20   1.0164e-20  -4.0658e-20   6.7763e-21   8.4703e-22\n",
      "  -3.3881e-20   5.0822e-20   1.0164e-20  -1.3553e-20   2.7105e-20   0.0000e+00\n",
      "   4.7434e-20   0.0000e+00  -2.0329e-20   3.3881e-21   0.0000e+00  -4.2352e-22\n",
      "   6.7763e-21   1.0164e-20  -8.4703e-21   3.8116e-21  -1.0588e-21   0.0000e+00\n",
      "   1.9058e-20   1.3553e-20   6.7763e-21  -2.5411e-21   0.0000e+00   0.0000e+00\n",
      "  -1.1858e-20   1.5585e-19  -5.0822e-20   1.2705e-21   3.3881e-21   6.3527e-22\n",
      "   4.0658e-20  -8.1315e-20   9.4868e-20  -1.0164e-20  -6.7763e-21   8.4703e-22\n",
      "   1.3553e-20   6.7763e-20  -3.3881e-21  -1.0164e-20  -5.5057e-21  -6.3527e-22\n",
      "  -1.6263e-19   1.3553e-19  -1.5585e-19   1.0164e-20   6.7763e-21   4.2352e-22\n",
      "   9.4868e-20   2.7105e-20   7.4539e-20   2.7105e-20   6.7763e-20   8.4703e-22\n",
      "  -1.3553e-20   1.6941e-20  -2.6258e-20  -1.0164e-20  -2.0329e-20   0.0000e+00\n",
      "   8.8091e-20   2.0329e-20  -1.3553e-20  -1.0164e-20  -6.7763e-21   1.6941e-21\n",
      "  -1.3553e-20  -6.0986e-20  -6.7763e-21  -3.3881e-21  -1.0164e-20  -7.9409e-23\n",
      "   6.0563e-20   2.0329e-20  -3.3881e-21  -1.6941e-21   2.7105e-20  -1.0588e-21\n",
      "  -6.7763e-21   2.0329e-20   1.3553e-20   3.3881e-21   3.3881e-21   0.0000e+00\n",
      "  -2.7105e-20  -2.7105e-20   1.5247e-20  -1.1858e-20   2.3717e-20  -4.2352e-22\n",
      "   6.7763e-21  -6.7763e-21  -2.7529e-21  -1.3129e-20  -2.1176e-22  -2.1838e-22\n",
      "  -8.4703e-20  -4.3622e-20   1.3553e-20  -1.3553e-20  -7.6233e-21   7.9409e-23\n",
      "   6.7763e-20  -6.7763e-20   2.0752e-20  -8.5762e-21  -1.0164e-20  -5.2940e-22\n",
      "   1.0842e-19  -1.9058e-21  -3.3881e-21  -5.9292e-21   3.0493e-20  -6.3527e-22\n",
      "  -1.0842e-19  -4.0658e-20  -1.3553e-20   1.5247e-20   3.3881e-21   2.1176e-22\n",
      "\n",
      " Columns 61 through 66:\n",
      "\n",
      "   0.0000e+00   3.1019e-25  -3.9705e-23  -2.1176e-21   2.3717e-20  -2.0329e-20\n",
      "  -2.1176e-22  -1.2925e-26   1.9852e-23   3.1764e-22  -7.1998e-21  -9.4868e-20\n",
      "   1.0588e-22  -2.0680e-25  -5.2940e-23  -6.3527e-21  -2.0329e-20  -8.1315e-20\n",
      "  -2.1176e-22  -1.2925e-26   1.3235e-23  -1.2705e-21   4.2352e-21  -8.4703e-21\n",
      "  -1.0588e-22   1.0340e-25   6.6174e-23   0.0000e+00  -3.3881e-21   6.7763e-21\n",
      "   0.0000e+00   0.0000e+00  -1.3235e-23   1.0588e-22   8.4703e-22  -4.2352e-21\n",
      "   0.0000e+00   0.0000e+00   1.0588e-22   1.6941e-21  -6.7763e-21  -1.3553e-20\n",
      "   5.2940e-23  -3.3087e-24  -2.6470e-23   8.4703e-22   3.3881e-21   1.3553e-20\n",
      "   0.0000e+00   3.1019e-25  -1.1581e-23   3.4411e-22   2.1176e-21   8.4703e-22\n",
      "  -5.2940e-23   3.2312e-27  -1.3235e-23  -9.5291e-22   6.7763e-21  -1.5247e-19\n",
      "   5.2940e-23  -8.2718e-25   0.0000e+00   0.0000e+00  -1.0164e-20  -6.7763e-20\n",
      "  -7.9409e-23   0.0000e+00  -5.2940e-23  -2.5411e-21  -5.0822e-21   1.0673e-19\n",
      "  -1.9852e-23   5.1699e-26   2.6470e-23   8.4703e-22   0.0000e+00   3.0493e-20\n",
      "   0.0000e+00   0.0000e+00   5.2940e-23   0.0000e+00  -2.7105e-20   0.0000e+00\n",
      "   0.0000e+00  -2.0680e-25   3.3087e-23  -6.0880e-22   5.0822e-21   1.6941e-21\n",
      "   0.0000e+00   3.3087e-24   2.6470e-23   0.0000e+00   8.4703e-22  -1.3553e-20\n",
      "   3.9705e-23   1.0340e-25   6.6174e-24   5.2940e-22   0.0000e+00   9.4868e-20\n",
      "  -5.2940e-23   0.0000e+00  -1.3235e-23   1.2705e-21   1.6941e-20   6.0986e-20\n",
      "  -3.3087e-24   0.0000e+00   9.9262e-24   0.0000e+00  -8.1315e-20   3.2526e-19\n",
      "   0.0000e+00   0.0000e+00   1.3235e-23   2.6801e-22  -1.3553e-20  -1.3553e-20\n",
      "  -1.3235e-23   0.0000e+00  -5.2940e-23   1.2705e-21   2.5411e-21   2.0329e-20\n",
      "  -1.0588e-22   0.0000e+00   5.2940e-23   7.4115e-22  -1.5776e-20  -1.6941e-20\n",
      "   2.6470e-23   5.1699e-26   1.3235e-23   0.0000e+00  -9.5291e-22   1.6941e-21\n",
      "   2.1176e-22   0.0000e+00   3.9705e-23  -2.1176e-21   1.0164e-20  -5.4210e-20\n",
      "  -2.1176e-22   0.0000e+00  -6.6174e-24  -4.2352e-22  -5.5057e-21   3.3034e-20\n",
      "\n",
      " Columns 67 through 72:\n",
      "\n",
      "  -6.7763e-21  -2.5750e-19  -1.0164e-19  -1.3553e-20  -6.7763e-20  -6.7763e-21\n",
      "   2.8460e-19   1.3553e-20  -1.7618e-19  -1.3553e-19  -2.7105e-20   6.7763e-20\n",
      "   1.8974e-19   2.1345e-19   3.3881e-20  -2.1684e-19   1.7279e-19  -1.8974e-19\n",
      "   1.1350e-19   1.5585e-19  -5.4210e-20   3.2526e-19   2.0329e-19   6.3019e-19\n",
      "   1.8296e-19  -1.2875e-19  -2.7783e-19  -1.6941e-19   8.4703e-20   2.8587e-19\n",
      "  -9.1903e-20  -9.1480e-20  -1.7618e-19   5.4210e-20  -2.1684e-19  -3.7947e-19\n",
      "   0.0000e+00   8.1315e-20  -1.6263e-19   2.8460e-19   9.4868e-20  -1.0164e-19\n",
      "  -3.3881e-20   2.0329e-20   1.2197e-19   4.0658e-20  -1.1520e-19  -4.6587e-20\n",
      "  -4.0658e-20   2.3717e-19   1.0503e-19   7.4539e-19  -3.9980e-19   6.7763e-20\n",
      "   1.2197e-19   0.0000e+00  -2.7105e-20  -1.2197e-19   6.7763e-21   9.4868e-20\n",
      "   1.3553e-19  -3.5237e-19  -1.0842e-19  -1.3553e-19   2.7105e-19  -3.5237e-19\n",
      "   1.6941e-19   3.3204e-19   1.3891e-19  -6.7763e-20   2.0329e-20  -2.0329e-19\n",
      "   4.0658e-20  -1.5585e-19   1.5585e-19   4.0658e-20  -1.0842e-19  -2.0329e-19\n",
      "   1.3553e-19   3.5237e-19  -9.4868e-20  -1.2197e-19  -8.1315e-20   1.3553e-19\n",
      "   2.7105e-20   2.0329e-19  -3.7947e-19   1.0842e-19  -1.2398e-19  -6.7763e-20\n",
      "   8.1315e-20  -2.1345e-19   3.5237e-19  -4.7434e-20   6.7763e-21  -6.7763e-20\n",
      "  -1.3553e-20  -8.1315e-20   0.0000e+00   3.3881e-20   2.7105e-20  -3.3881e-20\n",
      "   1.8974e-19   1.0842e-19   5.4210e-20  -2.4395e-19   1.0842e-19  -1.3553e-19\n",
      "  -2.3039e-19  -9.4868e-20   2.7105e-20  -9.4868e-20   8.8091e-20  -9.4868e-20\n",
      "  -3.7269e-20   4.0658e-20  -1.7618e-19   6.5052e-19   6.3697e-19  -6.5052e-19\n",
      "  -2.2531e-19  -1.0164e-20  -6.7763e-21   2.7105e-19   2.4395e-19  -1.6941e-19\n",
      "   7.4539e-20  -1.8974e-19  -6.0986e-19  -1.8974e-19   2.5750e-19   9.1480e-19\n",
      "   3.0493e-20  -5.0822e-20  -6.0986e-20  -2.7105e-20  -2.3717e-20   3.0493e-20\n",
      "   1.3553e-19  -4.3368e-19  -1.8974e-19  -1.4823e-19  -2.8460e-19  -2.8460e-19\n",
      "   3.3881e-20   2.9138e-19  -2.4395e-19  -2.0329e-19  -8.1315e-20   2.1684e-19\n",
      "\n",
      " Columns 73 through 78:\n",
      "\n",
      "  -1.1520e-19  -1.9058e-19  -1.7618e-19   1.0842e-19   2.7105e-20  -1.8296e-19\n",
      "   1.5585e-19  -1.3553e-20  -6.9118e-19   0.0000e+00   1.8974e-19  -1.7618e-19\n",
      "   5.0822e-21   1.0842e-19  -5.4210e-20   3.2526e-19   0.0000e+00   1.4908e-19\n",
      "   8.4364e-19  -8.1315e-19  -2.1684e-19  -1.0842e-19  -2.4395e-19   5.4210e-20\n",
      "   3.1848e-19  -2.7105e-19   8.1315e-19  -6.7763e-19   2.4395e-19   1.3553e-20\n",
      "   2.1684e-19  -2.5411e-19   2.5072e-19   1.8974e-19   1.3553e-19   1.0842e-19\n",
      "  -2.9816e-19   3.7947e-19   1.8296e-19  -1.3362e-19  -4.2352e-20   1.8698e-19\n",
      "  -4.0658e-20  -5.1500e-19  -2.4395e-19   9.4868e-20  -4.0658e-20  -4.0658e-20\n",
      "  -1.6941e-20  -6.7763e-21   1.3214e-19  -3.0493e-20   1.0164e-20  -1.6941e-21\n",
      "   2.4395e-19  -1.8974e-19  -5.1500e-19  -5.1500e-19  -6.0986e-20  -1.2875e-19\n",
      "  -5.4210e-20  -1.0029e-18  -3.2526e-19   5.6921e-19  -1.3553e-19  -3.7947e-19\n",
      "   8.6736e-19   0.0000e+00   1.3553e-19  -2.7444e-19  -4.2352e-21   1.0842e-19\n",
      "  -3.1171e-19  -1.3553e-19  -9.7578e-19  -5.4210e-19  -2.4395e-19  -3.5237e-19\n",
      "   5.0991e-19   5.4210e-20  -5.9631e-19   4.3368e-19   2.7105e-20  -1.2197e-19\n",
      "  -1.0842e-19   2.7105e-20   4.3368e-19   0.0000e+00  -6.7763e-20   5.4210e-20\n",
      "  -1.2197e-19   4.8945e-19  -7.0473e-19  -4.8789e-19   0.0000e+00   1.3891e-19\n",
      "  -4.1674e-19   5.4210e-19   1.3553e-19   6.0986e-20   2.1684e-19  -2.8460e-19\n",
      "  -1.2197e-19   3.1171e-19   1.4908e-19   2.3039e-19  -1.6263e-19  -1.2875e-19\n",
      "  -8.1315e-20   2.0329e-20   5.9123e-19  -1.0164e-20  -2.1345e-19   6.7763e-21\n",
      "  -1.0910e-18  -4.1166e-19  -4.1843e-19   6.7763e-21  -6.0986e-20  -4.6587e-21\n",
      "  -3.0493e-20   2.7105e-20  -3.1848e-19   8.1315e-20  -7.6233e-20  -8.8091e-20\n",
      "   4.3368e-19   5.2770e-19   1.3620e-18  -2.4395e-19  -5.4210e-20   0.0000e+00\n",
      "   1.8296e-19   9.4868e-20  -3.3881e-20   2.6427e-19   2.1684e-19  -5.7598e-20\n",
      "  -8.8091e-20  -5.8276e-19  -1.7618e-19   1.3553e-20  -2.3039e-19  -3.8116e-20\n",
      "  -2.7105e-20   9.4868e-20   1.2875e-19  -3.6592e-19  -1.4908e-19  -1.3553e-20\n",
      "\n",
      " Columns 79 through 84:\n",
      "\n",
      "   5.4210e-20  -8.2586e-21  -1.6941e-21   0.0000e+00  -3.1764e-22  -3.3881e-21\n",
      "  -8.1315e-20   6.7763e-21   5.2940e-22   0.0000e+00   1.8529e-22  -1.9058e-21\n",
      "  -2.7105e-20  -8.1315e-20   2.1176e-21  -1.6544e-24   2.3823e-22  -1.2705e-21\n",
      "   3.0493e-20   1.3553e-20  -4.2352e-22   8.2718e-25   2.6470e-23   5.0293e-22\n",
      "  -1.2197e-19   1.6941e-20  -1.2705e-21   2.5849e-26  -1.0588e-22   8.4703e-22\n",
      "  -2.5750e-19   2.0329e-20   5.0822e-21   6.6174e-24   5.2940e-23   3.5734e-22\n",
      "   0.0000e+00   6.7763e-21  -1.5750e-21   0.0000e+00  -3.1764e-22  -2.9646e-21\n",
      "   6.7763e-21  -3.8116e-21   2.6470e-22   1.3235e-23  -2.3823e-22   0.0000e+00\n",
      "  -5.0822e-21   6.3527e-22  -1.2705e-21   8.2718e-25   7.9409e-23   1.8635e-20\n",
      "   4.0658e-20   3.3881e-20  -4.2352e-22   3.8774e-26  -1.0588e-22  -4.6587e-21\n",
      "  -1.8974e-19  -1.0164e-20   0.0000e+00  -1.3235e-23   0.0000e+00   0.0000e+00\n",
      "  -6.0986e-20  -2.0329e-20   0.0000e+00   1.6544e-24   1.3235e-22  -1.2705e-21\n",
      "  -1.1350e-19  -2.0329e-20   7.9409e-23   0.0000e+00   0.0000e+00   8.4703e-22\n",
      "  -2.7105e-20   3.3881e-20  -4.2352e-22   2.6470e-23  -3.1764e-22  -1.1858e-20\n",
      "   6.7763e-20  -8.4703e-21   0.0000e+00   0.0000e+00   7.9409e-23  -1.2705e-21\n",
      "  -1.3891e-19  -2.5411e-20   8.4703e-22   5.2940e-23   1.0588e-22  -3.3881e-21\n",
      "  -2.7105e-20   1.6941e-20  -1.6941e-21   4.1359e-25  -5.2940e-23   8.4703e-22\n",
      "  -1.4908e-19   6.7763e-21   8.4703e-22   0.0000e+00  -2.1176e-22   1.2705e-21\n",
      "  -4.5740e-20  -8.4703e-22   0.0000e+00  -2.6470e-23   3.1764e-22   0.0000e+00\n",
      "   4.0658e-20  -8.4703e-22   0.0000e+00  -1.6544e-24  -5.2940e-23   1.2705e-21\n",
      "  -1.3553e-20   8.4703e-22   4.2352e-22  -2.6470e-23   0.0000e+00   4.2352e-21\n",
      "   1.3129e-20   1.6941e-21  -5.2940e-22  -2.6470e-23  -1.0588e-22   5.0822e-21\n",
      "   2.7105e-20   2.8799e-20   0.0000e+00   4.6529e-25  -2.6470e-23  -1.0588e-21\n",
      "   5.4210e-20  -1.6941e-20  -1.2705e-21  -8.2718e-25  -1.0588e-22   2.1176e-21\n",
      "   4.5740e-20   3.3881e-21  -1.2705e-21  -8.2718e-25   1.5882e-22  -2.1705e-21\n",
      "\n",
      " Columns 85 through 90:\n",
      "\n",
      "   1.3553e-20   4.0658e-20  -2.3039e-19  -2.5242e-19  -5.3532e-19  -1.4908e-19\n",
      "  -1.9482e-20   1.4230e-19  -5.7598e-20   1.3434e-18  -4.4215e-19  -1.0842e-19\n",
      "  -4.4046e-20  -2.7105e-20   1.0842e-18   2.3039e-19   2.2362e-19  -1.8702e-18\n",
      "   1.3553e-20   1.6051e-19  -1.3553e-20   1.8974e-19  -1.1655e-18  -1.0300e-18\n",
      "  -6.7763e-20   4.7434e-20   3.1171e-19   5.4210e-20  -5.8276e-19  -4.7264e-19\n",
      "  -3.2187e-20  -1.8974e-19   3.5575e-19   4.8959e-19  -3.3881e-19  -1.0842e-19\n",
      "   2.7105e-20  -8.1315e-20  -1.6263e-19  -2.1684e-19  -1.0706e-18   1.8974e-19\n",
      "   1.0164e-20  -7.4539e-20  -1.7618e-19   2.7105e-20  -3.9302e-19  -3.5575e-19\n",
      "  -2.0329e-20   7.2845e-20   1.1181e-19   2.0329e-19  -4.8789e-19  -3.7947e-19\n",
      "  -1.8974e-19   1.3553e-19  -2.0329e-19  -1.4908e-19   4.4046e-20   0.0000e+00\n",
      "   7.4539e-20   1.6263e-19  -3.2526e-19   2.4733e-19  -3.2526e-19  -8.6736e-19\n",
      "  -8.0468e-20   7.2845e-20   4.0658e-19   3.3881e-20   7.5217e-19  -1.9651e-19\n",
      "   1.3553e-20   2.1684e-19  -3.7947e-19  -5.6243e-19   1.3553e-19  -8.1315e-20\n"
     ]
    },
    {
     "name": "stdout",
     "output_type": "stream",
     "text": [
      "  -2.1684e-19   9.7578e-19   5.4210e-20  -1.4637e-18   2.0668e-18   1.0842e-19\n",
      "   4.7434e-20   1.1236e-19   3.3881e-20   1.0842e-19   1.4992e-19   1.2875e-18\n",
      "  -1.5247e-20   0.0000e+00   2.9477e-19  -3.1848e-19  -1.3146e-18   1.6263e-19\n",
      "  -3.8116e-21   1.6263e-19   1.6263e-19   3.5237e-19  -4.3537e-19  -1.3553e-19\n",
      "   1.0842e-19   1.0842e-19  -2.0329e-19   2.5750e-19  -2.7105e-20   1.5352e-19\n",
      "   0.0000e+00   2.7105e-19   1.4823e-19   2.0668e-19   4.3368e-19  -2.1684e-19\n",
      "   1.3553e-20   5.4210e-20   3.1171e-19  -3.3881e-19  -7.3184e-19   7.4539e-19\n",
      "   1.1858e-20  -1.2197e-19  -6.0986e-19  -6.9796e-19   1.0842e-18   2.0329e-19\n",
      "   4.0658e-20  -2.1684e-19   3.3881e-19   4.3368e-19  -1.2570e-18   8.8769e-19\n",
      "   7.6233e-21  -9.8256e-20   5.4210e-20   9.4868e-20   5.4210e-20  -1.5585e-19\n",
      "  -5.0822e-20   0.0000e+00   5.9631e-19  -4.8789e-19  -1.8228e-18  -4.0658e-19\n",
      "   2.0329e-20   3.0493e-20   9.9950e-20  -5.2177e-19   3.5237e-19  -2.7105e-19\n",
      "\n",
      " Columns 91 through 96:\n",
      "\n",
      "   6.0986e-20   9.5545e-19   4.1335e-19  -1.2197e-18   1.3553e-19  -1.3553e-19\n",
      "   1.2197e-19   9.2157e-19   1.6263e-19   7.5894e-19   5.4210e-19  -1.7618e-19\n",
      "  -7.1828e-19  -3.2526e-19  -1.3281e-18  -4.3368e-19  -1.0842e-19  -8.4703e-19\n",
      "  -4.8044e-18  -5.6921e-19   3.7236e-18   2.1684e-19   3.7947e-19  -1.4095e-18\n",
      "  -2.3717e-19  -4.9721e-19  -4.6079e-19  -3.3881e-19   6.0986e-19  -9.4868e-19\n",
      "   3.6592e-19  -8.8769e-19   5.8276e-19  -6.7763e-20   1.9990e-19  -3.2526e-19\n",
      "  -3.5575e-19  -1.0706e-18  -1.7347e-18  -1.1926e-18  -1.5721e-18  -5.6921e-19\n",
      "   9.2157e-19   7.0473e-19  -7.4539e-19   8.6736e-19  -1.0842e-19  -2.7105e-19\n",
      "   1.5789e-18   8.1315e-19   2.1684e-19   3.3881e-19   3.7947e-19   3.7947e-19\n",
      "  -3.3881e-21   2.9816e-19  -7.1151e-19  -4.3368e-19   1.3010e-18   1.4637e-18\n",
      "   7.5894e-19   1.0842e-18  -7.5894e-19   3.5237e-19   2.2633e-18   5.2313e-18\n",
      "  -1.6128e-18   3.7134e-18   1.3553e-18  -1.4366e-18  -1.7754e-18   4.7434e-20\n",
      "  -1.6263e-19   1.3281e-18   6.2765e-19   1.0842e-19   4.2013e-19  -1.3688e-18\n",
      "  -2.7105e-19   0.0000e+00  -1.3553e-20   5.4210e-20   2.2497e-18  -2.5411e-18\n",
      "  -1.0503e-19  -2.1684e-19   2.1684e-19  -1.0842e-18   3.7947e-19  -9.4868e-19\n",
      "  -1.0842e-19  -2.7105e-19   0.0000e+00  -1.3214e-19   3.2526e-19   2.7105e-19\n",
      "   6.7763e-20  -4.3707e-19  -3.9980e-19  -5.7598e-20  -1.4230e-18  -3.9302e-19\n",
      "  -1.6263e-19  -5.4210e-19  -1.3824e-18  -1.1045e-18   5.4210e-19  -1.8974e-19\n",
      "  -1.3553e-19  -2.7105e-20  -7.0473e-19  -1.2126e-18   2.4395e-19   3.7947e-19\n",
      "  -1.6263e-19   1.5179e-18   2.6156e-18  -1.2943e-18   2.8799e-19  -1.3553e-20\n",
      "   1.0842e-19   3.5237e-19  -1.1113e-18   6.7763e-19  -1.0893e-18  -1.3553e-18\n",
      "  -1.0435e-18   2.5072e-18   1.5518e-18  -5.4210e-20   3.7947e-19   1.7889e-18\n",
      "  -3.8964e-20   1.0164e-19  -8.5381e-19  -7.7249e-19  -9.9272e-19   0.0000e+00\n",
      "   4.3368e-19   5.9631e-19  -5.8953e-19   1.2265e-18  -7.3184e-19  -8.9108e-19\n",
      "  -5.9631e-19   3.7947e-19  -1.3281e-18   8.1315e-20   1.2401e-18   1.3010e-18\n",
      "\n",
      " Columns 97 through 102:\n",
      "\n",
      "  -1.0842e-19  -2.0329e-19  -9.4868e-20  -1.0164e-20   0.0000e+00  -2.6470e-23\n",
      "  -1.7008e-18   6.1664e-19   4.3368e-19  -4.0658e-20   1.0694e-20   0.0000e+00\n",
      "  -3.1984e-18  -1.2468e-18   2.7105e-19   4.0658e-20  -4.2352e-21   0.0000e+00\n",
      "  -3.5237e-19   3.3881e-20   9.4868e-20   1.3553e-20  -3.3881e-21   0.0000e+00\n",
      "  -1.1825e-18   3.9980e-19   4.2013e-19  -9.8256e-20  -6.7763e-21  -6.6174e-24\n",
      "   0.0000e+00  -1.3553e-20   1.7618e-19  -8.8515e-20  -1.6941e-21  -5.2940e-23\n",
      "  -7.3861e-19  -8.1315e-20   9.4868e-20  -6.7763e-20   3.3881e-21   0.0000e+00\n",
      "  -6.7763e-20  -1.8974e-19   2.3039e-19   0.0000e+00  -3.3881e-21   0.0000e+00\n",
      "   2.7105e-20   1.3553e-20  -4.0658e-20  -6.7763e-21  -3.3881e-21   5.2940e-23\n",
      "  -1.3553e-20   1.7618e-19   2.7105e-19  -1.0842e-19  -2.4882e-21  -1.0340e-24\n",
      "  -9.8933e-19  -8.9447e-19   2.7105e-20  -3.2187e-20  -8.4703e-21   1.5882e-22\n",
      "  -5.6921e-19   1.2468e-18  -7.1151e-19   5.4210e-20   0.0000e+00  -2.6470e-23\n",
      "  -1.7754e-18   7.3184e-19  -2.5750e-19   0.0000e+00   1.1647e-21   0.0000e+00\n",
      "   2.5750e-19  -5.0144e-19   4.0658e-19   2.3717e-20   9.3174e-21   2.1176e-22\n",
      "   1.0842e-19   6.2172e-19  -1.2197e-19   1.6941e-21   8.4703e-21   2.6470e-23\n",
      "   1.0842e-19   4.0658e-19   0.0000e+00   2.7105e-20   5.9292e-21   0.0000e+00\n",
      "  -1.6500e-18  -6.9118e-19  -2.4395e-19  -6.7763e-20   7.1998e-21   2.6470e-23\n",
      "  -3.5237e-19   4.8111e-19  -5.4210e-20  -3.3881e-20   1.0588e-22   1.0588e-22\n",
      "   2.4309e-19   3.1848e-19   4.0658e-20  -1.0588e-21  -1.0588e-22   0.0000e+00\n",
      "   7.7249e-19  -9.3174e-21   8.8091e-20  -3.0493e-20  -1.4400e-20  -3.9705e-23\n",
      "  -1.2197e-19   3.3881e-20  -1.2197e-19  -1.0164e-20   0.0000e+00   0.0000e+00\n",
      "  -1.0842e-19  -2.4395e-19  -1.2197e-19  -1.0164e-19   2.3293e-21   0.0000e+00\n",
      "   3.6084e-19   2.1684e-19   4.0658e-20   3.3881e-21   0.0000e+00   0.0000e+00\n",
      "  -4.6587e-19  -3.7269e-20  -2.9816e-19   1.2875e-19  -3.3881e-21  -6.6174e-24\n",
      "   7.3184e-19  -8.1315e-20  -1.3891e-19  -7.4539e-20   5.0822e-21   0.0000e+00\n",
      "\n",
      " Columns 103 through 108:\n",
      "\n",
      "  -1.0588e-21  -1.0164e-20  -2.7105e-20   1.8974e-19  -6.7763e-20  -4.4723e-19\n",
      "   6.8821e-22  -8.0468e-21  -1.3553e-20   5.4930e-19   2.6698e-18   1.0300e-18\n",
      "   5.2940e-22  -6.7763e-21   8.1315e-20  -4.8789e-19   5.1500e-19   4.4723e-19\n",
      "   7.1861e-23   2.1176e-21  -8.4703e-22  -4.8789e-19  -1.0232e-18   1.3553e-20\n",
      "   2.1176e-22   4.6587e-21   1.2790e-19   9.0802e-19   3.6592e-19  -1.2333e-18\n",
      "   0.0000e+00  -5.0822e-21   8.8091e-20  -7.5217e-19  -3.2526e-19  -1.1384e-18\n",
      "   0.0000e+00   3.0493e-20   8.5381e-19  -3.7947e-19   2.2700e-19   5.4210e-20\n",
      "   1.6941e-21   1.6941e-21  -5.0822e-21  -3.2526e-19  -5.4210e-20   5.6921e-19\n",
      "  -1.4823e-21  -1.3553e-20   1.3553e-20  -1.6263e-19   3.2526e-19  -6.2342e-19\n",
      "   5.2940e-22  -1.6941e-21  -2.7105e-19   3.3204e-19   4.0658e-20   1.4569e-19\n",
      "  -1.6941e-21   1.0164e-20   2.0329e-19  -1.0842e-19  -1.8160e-18  -2.9680e-18\n",
      "   3.1764e-22   2.7529e-21   3.5533e-19   3.8625e-19   2.3717e-19  -1.0571e-18\n",
      "  -6.8821e-22   5.0822e-21  -5.4210e-20   5.4210e-20  -6.3697e-19  -1.4095e-18\n",
      "  -1.6941e-21   6.7763e-21  -1.6263e-19   3.0358e-18  -1.3824e-18   3.5237e-19\n",
      "   1.5882e-22  -5.0822e-21   8.4703e-20   5.3871e-19  -4.3368e-19   3.2526e-19\n",
      "  -3.3881e-21   2.0329e-20   1.8635e-19  -7.1828e-19   7.0473e-19   5.1500e-19\n",
      "   0.0000e+00  -6.7763e-21  -6.7763e-20  -4.3368e-19  -4.0658e-20  -2.5750e-19\n",
      "   4.2352e-22   1.2383e-20   1.6263e-19   2.1006e-19  -4.8789e-19   1.6263e-19\n",
      "   1.6941e-21  -1.6094e-20  -3.9302e-19  -5.8276e-19   1.6128e-18  -1.0435e-18\n",
      "  -8.4703e-22   6.7763e-21  -3.3881e-20   9.4444e-20  -6.3697e-19   2.6597e-19\n",
      "  -1.6941e-21   2.3717e-20   6.7763e-20  -1.4908e-19   2.5750e-19   2.7105e-20\n",
      "  -8.4703e-22   3.3881e-21   1.5585e-19   1.7279e-19   1.2062e-18   3.9302e-19\n",
      "   1.0588e-22  -5.5057e-21  -8.4703e-21  -1.0842e-19  -7.8605e-19  -5.4210e-20\n",
      "  -2.1176e-22   3.3881e-21  -2.1472e-19  -2.7105e-19  -9.4868e-19  -2.7105e-19\n",
      "  -1.0588e-21   4.8704e-21   2.7105e-19  -1.8974e-19   1.3553e-20   2.5072e-19\n",
      "\n",
      " Columns 109 through 114:\n",
      "\n",
      "   1.4162e-18   2.0329e-19  -1.7212e-18   4.8789e-19   8.1315e-19   8.7244e-20\n",
      "  -2.2904e-18   2.9816e-19  -3.2526e-19  -8.9447e-19   7.5894e-19   1.1926e-18\n",
      "  -4.7603e-19   5.4210e-20   2.6766e-19   2.4937e-18   8.4026e-19   1.4908e-18\n",
      "   2.0871e-18   2.6495e-18  -3.3610e-18  -2.3852e-18   1.0842e-18  -1.1384e-18\n",
      "   7.5217e-19   9.7578e-19  -9.6223e-19  -6.7763e-19   5.8276e-19  -6.3697e-19\n",
      "  -1.3010e-18   5.2855e-19   7.9960e-19   3.9302e-19  -8.8091e-19   1.3688e-18\n",
      "  -8.4026e-19   1.1621e-18  -1.3553e-19   8.6736e-19   1.5179e-18   2.1684e-18\n",
      "  -4.5401e-19   2.9545e-18   3.5237e-19   2.1684e-19  -7.0473e-19  -1.7347e-18\n",
      "   2.8731e-18  -3.6456e-18   2.4259e-18   0.0000e+00   7.5894e-19  -9.2157e-19\n",
      "   5.5565e-19   2.7105e-19  -3.5237e-19   2.7783e-19  -2.5174e-18  -1.5043e-18\n",
      "   4.6621e-18   1.6263e-18  -2.0058e-18   5.9360e-18  -1.0842e-19  -1.6534e-18\n",
      "   1.1113e-18  -9.3512e-19  -4.4723e-19  -9.0802e-19   5.5294e-18   5.4210e-18\n",
      "   2.1684e-19  -1.6263e-19  -8.6736e-19   6.7763e-20   1.5721e-18   1.7347e-18\n",
      "   1.2739e-18   3.8489e-18   1.3553e-18   9.3512e-19   4.2013e-19   2.3920e-18\n",
      "   4.6079e-19   1.0978e-18  -7.9960e-19   2.1684e-19   1.6263e-19   1.6263e-19\n",
      "   1.8296e-19   5.4210e-20   8.9447e-19  -1.1655e-18  -4.3368e-19  -8.6736e-19\n",
      "   6.3358e-19  -4.7434e-20   4.5401e-19   1.2062e-18   6.7763e-20  -2.8460e-18\n",
      "  -3.8964e-19   8.1315e-19  -1.0622e-18   9.2157e-19   5.4210e-19  -1.3553e-18\n",
      "  -1.3891e-18   6.5052e-19  -1.2739e-18   1.1520e-19  -1.0164e-18  -1.1570e-18\n",
      "   2.7783e-19  -1.8025e-18   4.5943e-18   4.8586e-18   1.6263e-19   1.9516e-18\n",
      "  -1.3553e-19   1.1113e-18  -6.2342e-19   2.1006e-19   1.4230e-18   1.1206e-18\n",
      "  -1.1384e-18   3.9031e-18  -1.0842e-18   6.0715e-18  -1.7212e-18   6.7763e-19\n",
      "   8.1315e-20  -8.4703e-20  -9.4868e-20  -1.0029e-18  -1.8974e-19  -2.6766e-19\n",
      "   1.7889e-18   2.1921e-18  -1.0842e-18   1.0029e-18  -1.4264e-18  -1.1350e-18\n",
      "   5.8276e-19   1.8974e-19   4.3368e-19   1.0300e-18  -6.7763e-19   5.9631e-19\n",
      "\n",
      " Columns 115 through 120:\n",
      "\n",
      "  -1.1113e-18  -5.4210e-20   1.0842e-19   3.3543e-19   6.7763e-20  -1.6263e-19\n",
      "   7.4539e-19   2.3310e-18   8.6736e-19   2.0871e-18   5.4210e-20   2.8460e-19\n",
      "  -2.1684e-19   3.7947e-18   2.3548e-18  -9.2157e-19   2.1684e-19   0.0000e+00\n",
      "  -4.3368e-19  -1.1113e-18  -1.3281e-18   8.4026e-19   5.1500e-19  -1.0842e-19\n",
      "   1.1655e-18  -1.0842e-18   3.1171e-19  -5.1500e-19   9.4868e-20   2.2023e-19\n",
      "  -1.3553e-19  -5.9631e-19  -8.6736e-19  -4.4046e-20   1.3553e-19   2.0329e-19\n",
      "   2.2226e-18  -9.2157e-19  -6.9118e-19   5.9631e-19   5.4210e-20  -2.9816e-19\n",
      "  -3.3610e-18  -2.7105e-19   7.0473e-19  -8.9108e-19  -3.7947e-19   2.0329e-20\n",
      "   5.3532e-19   2.4395e-19  -1.0842e-19  -5.4210e-20   2.4395e-19  -1.0842e-19\n",
      "  -2.7105e-19  -4.8789e-19  -1.0978e-18   5.4210e-20  -5.9631e-19  -1.3553e-19\n",
      "  -2.3581e-18  -5.7192e-18  -5.9089e-18  -2.2633e-18  -9.2157e-19  -4.0658e-20\n",
      "   1.2739e-18  -9.6223e-19  -1.4908e-18  -8.9447e-19   5.6921e-19   3.2526e-19\n",
      "   3.6592e-19   2.3581e-18  -3.2526e-19   1.4772e-18   2.9816e-19   1.3553e-19\n",
      "  -4.3368e-19  -5.8818e-18   2.2091e-18   3.0629e-18  -7.5894e-19  -4.8111e-19\n",
      "  -5.9631e-19  -3.2526e-19  -3.6592e-19  -6.2342e-19  -6.0986e-19   2.7105e-20\n",
      "  -1.0571e-18   2.1684e-19  -1.8702e-18   4.7434e-19  -6.6069e-19  -9.4868e-20\n",
      "   3.1984e-18   3.3068e-18   1.2739e-18   1.5755e-19  -9.2157e-19   1.8974e-19\n",
      "  -5.8276e-19  -2.1413e-18  -1.8974e-19  -8.1315e-19  -2.0329e-19  -5.4210e-20\n",
      "   1.5213e-18  -1.3349e-18   6.8440e-19  -6.0986e-19  -2.1684e-19  -3.0493e-20\n",
      "  -2.9545e-18   1.6805e-18  -1.3553e-19  -2.9816e-19  -1.9651e-19   1.3553e-19\n",
      "   1.0842e-19   6.7763e-19  -2.2226e-18  -1.3553e-20   1.4230e-19   3.9811e-20\n",
      "   3.3204e-18   7.7927e-19   6.2342e-19  -1.3010e-18   8.1315e-19   4.0658e-19\n",
      "   9.1903e-19   2.0329e-18  -1.3553e-20   2.2023e-19   1.4908e-19  -2.0329e-20\n",
      "  -7.9960e-19  -3.7947e-19  -4.6587e-20  -1.3824e-18  -5.4210e-20  -4.2013e-19\n",
      "  -6.2342e-19  -7.8605e-19   1.8296e-19  -1.0164e-18  -2.9816e-19   9.4868e-20\n",
      "\n",
      " Columns 121 through 126:\n",
      "\n",
      "   1.0164e-20  -1.0588e-22   9.3174e-21  -2.7105e-20  -8.1315e-19  -1.1384e-18\n",
      "  -9.3174e-21  -6.6174e-24   1.9058e-21  -2.2023e-20   4.8789e-19  -2.1413e-18\n",
      "  -8.4703e-22   0.0000e+00   4.2352e-21  -2.0329e-20   1.5077e-19   1.1181e-18\n",
      "   1.6941e-20  -2.6677e-23  -4.2352e-22  -8.4703e-22   2.7105e-20   1.1384e-18\n",
      "   8.4703e-21   0.0000e+00   2.1176e-22   0.0000e+00  -4.4723e-19  -1.1384e-18\n",
      "  -3.3881e-21  -2.1176e-22   1.6941e-21   0.0000e+00   2.0329e-20   5.4210e-20\n",
      "  -2.7105e-20   0.0000e+00  -1.3553e-20  -1.0164e-19   8.9447e-19  -7.4878e-19\n",
      "   5.0822e-21   8.4703e-22   6.7763e-21   2.2023e-20  -8.1315e-20   0.0000e+00\n",
      "  -6.7763e-21   1.0588e-22   4.2352e-22   0.0000e+00  -1.8296e-19   5.3363e-19\n",
      "  -2.1176e-21   1.3235e-23  -2.1176e-21   1.3553e-20   2.8460e-19  -7.1828e-19\n",
      "   1.1011e-20   3.1764e-22   6.7763e-21   0.0000e+00   6.2342e-19  -9.7578e-19\n",
      "  -5.0822e-21   2.6470e-22  -1.6941e-21  -2.7105e-20  -3.2166e-19   1.4637e-18\n",
      "  -9.5291e-22  -1.5882e-22  -1.6941e-21   6.7763e-21   9.8256e-20  -1.6128e-18\n",
      "  -3.6211e-20   0.0000e+00  -3.3881e-21  -4.4046e-20   7.0473e-19   5.4210e-19\n",
      "  -5.2516e-20   5.2940e-23   4.6587e-21   1.0588e-20   1.0164e-19  -1.1113e-18\n",
      "   6.7763e-21  -1.6941e-21  -2.0329e-20   1.2197e-19   6.0986e-20   1.2333e-18\n",
      "   0.0000e+00  -2.1176e-22   5.0822e-21   3.3881e-20  -1.4908e-19  -3.9302e-19\n",
      "  -4.2352e-21  -4.2352e-22   0.0000e+00   4.7434e-20   1.2875e-19  -5.6751e-20\n",
      "   4.2352e-22  -8.4703e-22   3.3881e-21   6.7763e-21  -1.3553e-20  -2.8460e-19\n",
      "   0.0000e+00   0.0000e+00   1.6941e-21  -1.3553e-20  -1.6941e-20   7.6572e-19\n",
      "  -1.3553e-20   1.6941e-21   4.0658e-20   6.7763e-21   3.5575e-19  -4.3453e-19\n",
      "  -1.3553e-20   0.0000e+00   3.3881e-21   2.7105e-20  -1.1520e-19  -2.7105e-19\n",
      "  -5.0822e-21  -5.2940e-23  -4.2352e-22   6.7763e-21  -2.9816e-19  -4.0658e-19\n",
      "   1.6941e-21   1.0588e-22  -6.7763e-21   6.7763e-21  -2.4395e-19  -6.4375e-20\n",
      "  -1.6941e-21  -2.1176e-22  -2.5411e-21   2.7105e-20   7.1828e-19  -2.1820e-18\n",
      "\n",
      " Columns 127 through 132:\n",
      "\n",
      "   6.5391e-19  -4.6079e-19  -2.8223e-18  -1.1587e-18   1.9312e-18  -1.1960e-18\n",
      "   2.3082e-18  -1.9245e-18   8.1315e-20  -3.7947e-19  -2.7512e-18  -3.2797e-18\n",
      "  -3.3881e-19  -5.0144e-19  -7.0473e-19  -7.0473e-19   1.8838e-18  -2.7105e-20\n",
      "   4.6079e-19   5.1229e-18  -9.7849e-18   2.2091e-18  -8.8905e-18   2.8731e-18\n",
      "   6.2342e-19  -3.8625e-18  -4.0658e-20  -1.5721e-18  -8.1315e-20   1.9990e-19\n",
      "  -6.2342e-19   1.8974e-18  -1.5314e-18  -1.2680e-18   7.9494e-19  -8.9447e-19\n",
      "  -1.6263e-19  -2.7105e-19   1.5992e-18   3.7947e-19  -2.6021e-18  -1.0842e-19\n",
      "  -1.1113e-18  -2.1684e-19  -8.4026e-19   3.2255e-18  -3.8760e-18  -1.1384e-18\n",
      "  -6.5052e-19  -1.9516e-18  -2.0600e-18   8.9989e-18  -6.6678e-18   5.5294e-18\n",
      "  -7.6233e-19   2.4733e-19  -5.6921e-19  -2.0329e-18  -1.9245e-18  -1.0164e-19\n",
      "  -2.0329e-19   9.0124e-18  -2.2226e-18   0.0000e+00  -3.5508e-18  -3.4694e-18\n",
      "  -9.7578e-19   3.9031e-18  -2.2497e-18   4.5265e-18  -1.5179e-18  -4.4588e-18\n",
      "   1.0706e-18  -9.3512e-19  -2.7105e-20   2.3852e-18  -7.0473e-19  -1.3146e-18\n",
      "  -1.9753e-18   6.3968e-18   6.2342e-18   3.6592e-19   8.7820e-18  -1.0842e-18\n",
      "  -2.7105e-19  -9.7578e-19  -2.7105e-19   2.2768e-18  -2.6563e-18  -8.6736e-19\n",
      "   5.4210e-20   3.3051e-18   2.3581e-18  -2.1142e-18  -1.2197e-18   5.7259e-19\n",
      "   1.4501e-18  -4.7502e-18  -1.7809e-19   2.4530e-18   2.3717e-18   5.2719e-18\n",
      "  -4.4046e-19   8.0976e-19  -1.5450e-18   4.0793e-18  -3.3881e-18  -1.5043e-18\n",
      "  -9.4868e-20   1.3959e-18  -7.5555e-19  -1.8431e-18   3.9844e-18   1.1791e-18\n",
      "   1.3553e-20   2.4395e-19   4.0658e-19  -4.6621e-18  -4.8518e-18  -8.2128e-18\n",
      "   6.8101e-19   6.2342e-19  -2.8731e-18   8.6736e-19  -2.1684e-19  -7.0473e-19\n",
      "  -2.9273e-18   1.5179e-18  -6.0173e-18   1.2956e-17   5.3939e-18  -9.7578e-18\n",
      "   3.7947e-19   1.6263e-19  -8.1315e-20   2.7105e-20   1.6263e-19  -2.7105e-19\n",
      "   2.4666e-18  -1.3010e-18   1.7686e-18   1.8431e-18  -1.2739e-18  -9.7578e-19\n",
      "   2.3581e-18  -4.7705e-18  -2.3988e-18  -2.9273e-18  -8.1315e-19   1.5179e-18\n",
      "\n",
      " Columns 133 through 138:\n",
      "\n",
      "   6.5052e-19  -1.4840e-18  -3.6592e-19   1.3553e-19  -1.3688e-18  -8.5381e-19\n",
      "  -5.4210e-19   2.1684e-19  -8.6736e-19  -1.6941e-20  -8.2670e-19   1.4637e-18\n",
      "  -3.6592e-18   1.0097e-18   1.0842e-18  -2.9273e-18   6.9931e-18  -2.3937e-18\n",
      "  -2.0166e-17   3.3881e-18   4.6621e-18   1.6805e-18  -8.9447e-19   8.4026e-19\n",
      "  -2.4395e-19   1.0300e-18   1.2468e-18   2.4090e-18   2.3717e-20  -5.6921e-19\n",
      "  -8.1315e-20  -6.7763e-19  -3.8625e-19  -1.6263e-19   9.2157e-19   7.5894e-19\n",
      "  -6.2342e-18   2.6563e-18   4.7976e-18  -1.0571e-18   4.2555e-18   2.7376e-18\n",
      "   5.6921e-18  -7.0473e-19   1.3688e-18   2.1142e-18  -1.3553e-20   2.6851e-19\n",
      "  -2.7647e-18   3.4423e-18  -3.9031e-18  -9.1480e-20   1.3281e-18  -5.4210e-20\n",
      "  -2.4395e-18  -4.8450e-19   3.2526e-18  -1.5179e-18   1.0198e-18   5.4210e-20\n",
      "  -5.0686e-18  -2.5157e-18   1.1884e-17  -9.7578e-19   1.9516e-18   2.9612e-18\n",
      "   2.0600e-18   7.9147e-18   1.7381e-18  -1.0049e-17  -2.4530e-18  -2.6834e-18\n",
      "   2.5309e-18  -5.6921e-19  -1.1926e-18  -1.8702e-18   9.4868e-19  -1.2062e-18\n",
      "  -6.4713e-18   6.4442e-18  -3.9573e-18  -3.7947e-19   3.3305e-18  -4.3910e-18\n",
      "   1.5179e-18  -1.0842e-19   6.7763e-19   3.0629e-18  -3.5237e-19  -9.2157e-19\n",
      "   4.0658e-19   8.1315e-19   5.4210e-19   4.3368e-19  -3.4356e-18  -2.1142e-18\n",
      "   1.1384e-18  -1.2468e-18  -2.7376e-18  -2.1684e-19  -6.0715e-18  -1.3010e-18\n"
     ]
    },
    {
     "name": "stdout",
     "output_type": "stream",
     "text": [
      "   1.6263e-18  -2.7647e-18   2.4395e-18   1.2875e-18   1.6263e-19  -2.6089e-18\n",
      "   3.0900e-18   1.6534e-18   6.3697e-19   5.1415e-19  -1.9651e-19  -2.5513e-18\n",
      "   5.0958e-18   2.7105e-19   1.8974e-18   1.1113e-18   6.7763e-20  -1.6284e-18\n",
      "  -6.1528e-18   5.1500e-19  -3.0764e-18  -1.8702e-18   3.9167e-18  -8.3348e-19\n",
      "  -3.2526e-18  -3.1171e-18  -1.0842e-18   1.6399e-18  -8.4026e-19  -3.0900e-18\n",
      "  -1.2468e-18   5.6921e-19  -9.2157e-19   7.3184e-19   2.6495e-18  -2.7740e-19\n",
      "   1.3824e-18   1.8702e-18   6.7763e-20   1.6263e-19   9.7578e-19   4.4723e-19\n",
      "  -4.1335e-19   1.0300e-18  -4.9806e-19  -6.0173e-18  -2.3852e-18   4.9467e-19\n",
      "\n",
      " Columns 139 through 144:\n",
      "\n",
      "   3.1171e-19   1.8974e-19  -1.6941e-20  -4.2352e-22  -2.5411e-21  -8.1315e-20\n",
      "   4.0658e-19  -5.4210e-20   2.8799e-20  -3.1764e-22  -8.4703e-22  -6.7763e-20\n",
      "   1.0164e-18   0.0000e+00   7.6233e-21   5.2940e-23   6.2469e-21   5.4210e-20\n",
      "   1.9922e-18  -1.0842e-19   2.0329e-20  -7.9409e-23   1.6941e-21  -6.7763e-21\n",
      "  -6.2342e-19   4.3029e-19   8.4703e-20   2.6470e-23   1.0588e-21  -5.4210e-20\n",
      "   1.4637e-18  -3.1848e-19   2.8799e-20  -6.3527e-22   0.0000e+00   1.3553e-20\n",
      "   2.9816e-19   1.3553e-19   2.2023e-20  -1.6941e-21  -6.7763e-21   1.3553e-20\n",
      "  -5.4888e-19  -8.3009e-20   1.6941e-21   0.0000e+00   1.0164e-20  -1.4484e-19\n",
      "  -2.2023e-20  -2.7105e-20   6.7763e-21   0.0000e+00  -1.6941e-21  -6.7763e-20\n",
      "   1.3553e-19  -5.4210e-20   1.6941e-21   1.5882e-22   6.7763e-21   4.0658e-20\n",
      "  -8.8430e-19   1.6602e-19  -8.4604e-21  -5.2940e-23  -1.6941e-20  -6.7763e-20\n",
      "   5.4210e-19   2.7105e-19   1.6941e-21  -2.6470e-23   2.5411e-21   1.0503e-19\n",
      "  -4.3368e-19   2.4395e-19  -5.5057e-21  -1.7205e-22  -6.7763e-21   5.4210e-20\n",
      "   1.5247e-18   9.0463e-19   1.5670e-20   4.2352e-22   1.3553e-20   5.4210e-20\n",
      "  -6.4375e-19   1.0842e-19   9.8256e-20  -1.4889e-23   3.5999e-21   1.3553e-19\n",
      "  -1.3925e-18   8.1315e-20   1.0164e-20  -8.4703e-22   6.7763e-21   2.5072e-19\n",
      "   4.0658e-19  -4.6756e-19   1.6941e-21  -2.1176e-22   5.0822e-21   1.3553e-20\n",
      "   0.0000e+00   1.0842e-19   3.8116e-21   4.2352e-22  -3.3881e-21   0.0000e+00\n",
      "  -1.5585e-19   0.0000e+00   2.1176e-22   0.0000e+00   3.3881e-21  -4.3368e-19\n",
      "   7.3184e-19   3.4559e-19   1.8635e-20   5.9557e-23  -8.4703e-21  -2.7105e-20\n",
      "  -7.6572e-19  -6.2680e-20   2.3293e-21   2.5411e-21  -4.0658e-20   2.7105e-20\n",
      "   9.8933e-19  -6.7763e-20  -2.8799e-20   8.4703e-22   4.0658e-20   1.8974e-19\n",
      "   1.6263e-19   0.0000e+00  -6.7763e-21   0.0000e+00  -4.2352e-22   1.2197e-19\n",
      "  -6.0986e-19  -2.2700e-19  -5.0822e-21   0.0000e+00   3.8116e-21   9.4868e-20\n",
      "   2.6631e-18   1.3553e-19   5.0822e-21   2.1176e-22  -3.3881e-21  -6.7763e-20\n",
      "\n",
      " Columns 145 through 150:\n",
      "\n",
      "   2.1684e-19   2.6427e-19  -1.5094e-18  -5.9292e-19  -2.2294e-18   8.1315e-19\n",
      "  -7.3184e-19   1.8974e-19  -1.1994e-17   4.6892e-18   4.2555e-18   2.3107e-18\n",
      "  -1.2062e-18   1.6670e-18   4.6926e-19   5.6921e-19   3.7947e-18  -9.4868e-20\n",
      "  -4.0658e-19  -1.8974e-18  -2.3310e-18  -1.3695e-17  -5.8174e-18   8.0638e-19\n",
      "  -2.9816e-19  -2.1684e-19  -5.0415e-18   7.3861e-19  -5.2584e-18  -4.8789e-18\n",
      "  -4.0658e-20   1.6263e-19  -3.4152e-18   1.9414e-18   2.6427e-18   2.1413e-18\n",
      "  -1.5992e-18   1.5314e-18   2.9545e-18   3.3068e-18  -2.4395e-19   1.1994e-18\n",
      "  -2.7105e-20  -6.7763e-19  -1.2468e-18  -1.4637e-18   1.7347e-18   2.2768e-18\n",
      "  -1.8296e-19  -3.5101e-18   2.7918e-18  -1.2468e-18   1.0300e-18  -1.1221e-17\n",
      "   4.5401e-19  -2.0464e-18   2.0735e-18   3.0154e-18   3.5372e-18  -4.8992e-18\n",
      "  -1.6534e-18  -9.6494e-18   4.7705e-18   5.0958e-18  -9.7578e-18   2.1684e-18\n",
      "  -3.7269e-19   1.5314e-18   4.4080e-18  -8.6397e-19  -6.6441e-18   5.8953e-18\n",
      "  -4.3368e-19   9.4529e-19   1.9516e-18  -3.0595e-18   5.9631e-19   0.0000e+00\n",
      "   2.6563e-18  -1.0842e-18  -5.6904e-18   2.5716e-18  -1.4366e-17  -7.7520e-18\n",
      "   4.3368e-19   7.8266e-19  -9.4868e-19   2.1684e-18   5.1229e-18   2.7173e-18\n",
      "  -3.7269e-19   9.7578e-19  -4.7231e-18   5.9292e-19   2.3039e-19   6.2342e-19\n",
      "   1.6263e-19  -4.4181e-18   5.3939e-18   5.8581e-18   4.6079e-19   2.5750e-19\n",
      "   5.4210e-20  -3.0392e-18   1.2875e-18  -1.2587e-18  -1.7381e-18  -1.5924e-18\n",
      "   1.7618e-19   1.1825e-18   6.3697e-19   3.9336e-18   1.3553e-18   1.1926e-18\n",
      "   1.6941e-19  -5.5565e-19  -3.3881e-19  -6.3155e-18   6.5052e-18   4.8789e-18\n",
      "   9.4868e-20  -8.1315e-19   1.7754e-18  -1.7618e-19   1.7618e-18  -6.0173e-18\n",
      "  -3.6592e-19  -9.5884e-19  -3.5982e-18   3.2255e-18   5.3126e-18   7.2099e-18\n",
      "   4.3368e-19   2.4395e-19   1.4095e-18   6.2342e-19  -1.3010e-18   5.4210e-20\n",
      "   3.7947e-19   1.2536e-18   5.2855e-19  -4.1200e-18   6.3053e-18  -3.0493e-18\n",
      "   1.4230e-18  -1.6331e-18  -5.0144e-19  -4.4452e-18  -8.1315e-20  -4.7705e-18\n",
      "\n",
      " Columns 151 through 156:\n",
      "\n",
      "  -6.7763e-19  -8.1315e-19  -9.7578e-19  -6.6407e-19  -6.7763e-19  -7.3184e-19\n",
      "   8.1315e-20  -1.0842e-19  -9.2157e-19   3.2526e-18  -2.1684e-18  -8.8091e-19\n",
      "  -1.0503e-19  -2.0058e-18   4.3368e-19  -1.4637e-18   0.0000e+00  -3.6321e-18\n",
      "   1.1005e-17   1.1005e-17  -6.7763e-19  -1.3498e-17  -4.5265e-18  -3.5237e-18\n",
      "  -2.4937e-18  -4.5808e-18  -3.1933e-18  -3.7947e-19   6.7763e-19   6.9118e-19\n",
      "  -8.7668e-19   7.1151e-19  -2.1006e-19  -1.1791e-18   7.7927e-20  -1.7076e-18\n",
      "   7.6572e-19   1.9109e-18   1.0029e-18  -4.4588e-18   7.8605e-19   5.4312e-18\n",
      "  -3.1442e-18  -2.7918e-18   1.8296e-18  -1.7989e-19  -3.2526e-18  -2.7105e-18\n",
      "   1.9624e-17   1.3092e-17   4.8789e-19   7.4539e-19  -4.0929e-18  -1.5992e-18\n",
      "   7.3184e-19  -2.0058e-18   3.4694e-18  -5.2855e-19   2.6021e-18   8.6736e-19\n",
      "  -2.0329e-20   6.1800e-18  -8.4263e-18  -2.1955e-18   7.8605e-19   5.4210e-20\n",
      "  -6.8711e-18   9.1344e-18  -5.5481e-18  -8.1315e-20   7.6436e-18   1.1709e-17\n",
      "  -6.5052e-19   1.1520e-18  -1.4772e-18  -2.2921e-18  -8.9176e-18   3.3068e-18\n",
      "   8.4026e-18  -7.6707e-18   5.6650e-18  -3.1984e-18  -5.8005e-18   6.9118e-18\n",
      "  -8.1315e-19   3.2526e-19   2.7647e-18  -1.2875e-18   5.5565e-19  -8.1315e-20\n",
      "   1.7076e-18   6.5052e-19   1.0181e-18  -3.4423e-18  -1.2468e-18   4.3368e-18\n",
      "   2.0600e-18  -2.3581e-18  -6.2342e-18  -3.2526e-19   2.1142e-18  -2.8731e-18\n",
      "  -2.4123e-18  -2.1006e-19   1.6805e-18  -1.5721e-18  -1.6805e-18   6.0986e-20\n",
      "  -5.7530e-18   1.6873e-18  -2.4428e-18   1.1926e-18  -5.1500e-19  -2.5072e-18\n",
      "  -8.3484e-18  -1.3525e-17   3.2255e-18  -5.8276e-18  -3.2797e-18   2.0939e-18\n",
      "   1.7889e-18  -3.7947e-19  -2.4123e-18   1.8838e-18   2.6834e-18  -1.7618e-18\n",
      "  -1.2712e-17  -1.3837e-17   2.2836e-18   4.3910e-18   1.2468e-18   2.1006e-19\n",
      "  -2.1684e-19   8.2670e-19   2.1684e-19   1.0842e-19   1.0097e-18   8.2670e-19\n",
      "  -1.3281e-18  -9.3174e-19  -2.7105e-19  -1.2739e-18   2.9714e-18  -3.9844e-18\n",
      "  -3.3610e-18  -7.2438e-18   2.9002e-18   1.3553e-18   8.6059e-19  -5.0686e-18\n",
      "\n",
      " Columns 157 through 162:\n",
      "\n",
      "   1.1113e-18  -2.8731e-18  -5.0144e-19   3.5237e-19  -4.4046e-20   1.0588e-21\n",
      "   2.7647e-18   5.6887e-18  -9.2157e-19   5.9631e-19   2.7105e-20  -3.1764e-22\n",
      "   3.2526e-19  -3.0087e-18  -5.8276e-19   2.1684e-19  -8.4703e-21   0.0000e+00\n",
      "  -1.1520e-18   4.4994e-18  -1.4095e-18   7.5894e-19   0.0000e+00   6.3527e-22\n",
      "   4.7298e-18   1.2197e-18   2.3039e-19  -6.1664e-19  -1.0164e-20  -1.5882e-22\n",
      "   3.2526e-19   1.7889e-18   1.7076e-18   9.7239e-19  -5.0822e-21  -8.4703e-22\n",
      "  -9.2022e-18   4.8518e-18   1.6263e-18   6.7763e-19  -2.7105e-20  -2.1176e-21\n",
      "  -1.6534e-18   3.6592e-18  -9.3851e-19  -1.7618e-19  -1.6094e-20  -8.4703e-22\n",
      "   6.2342e-19   3.8083e-18   1.1791e-18   2.4395e-19  -8.4703e-21  -2.9117e-22\n",
      "  -1.3553e-20  -1.5789e-18   4.7434e-19   1.8974e-19   0.0000e+00  -4.2352e-22\n",
      "   1.3254e-17  -3.1001e-18   3.2526e-19   1.0842e-19   1.5247e-20   4.2352e-22\n",
      "  -9.2428e-18  -8.0366e-18  -2.4937e-18  -2.4395e-19   5.0822e-21  -2.9448e-22\n",
      "   4.7163e-18  -4.8789e-18  -2.6834e-18  -1.3553e-20   7.9409e-23  -1.0588e-21\n",
      "  -5.2042e-18  -8.8362e-18   4.0658e-20   1.4366e-18   5.4210e-20  -2.1176e-21\n",
      "  -1.8974e-19  -2.1549e-18   2.3209e-18   8.3348e-19  -1.3553e-20  -1.0588e-22\n",
      "   3.4694e-18  -5.2177e-19   2.2362e-19   7.3184e-19   1.6094e-20  -2.9646e-21\n",
      "  -1.5450e-18   5.9631e-19   1.8974e-19  -1.0029e-18  -1.1011e-20  -3.3087e-24\n",
      "  -5.5099e-19   9.8086e-19   6.7763e-20  -2.8460e-19  -3.8116e-20   8.9997e-22\n",
      "  -2.9138e-19  -7.0473e-19   1.0774e-18  -4.5740e-20  -2.7529e-21   0.0000e+00\n",
      "   7.4200e-19   2.3581e-18   1.5585e-19   5.5565e-19   6.7763e-20  -2.1176e-22\n",
      "   1.3146e-18   3.4152e-18   7.8605e-19  -1.3553e-19  -2.0329e-20  -2.6470e-23\n",
      "  -4.6079e-18   5.5074e-18   3.3610e-18  -6.5052e-19  -3.3881e-20   2.9117e-22\n",
      "  -1.3959e-18   1.8309e-18  -9.4868e-20  -1.6941e-19  -3.3881e-21   8.4703e-22\n",
      "  -7.8605e-19  -2.6563e-18   6.7763e-20  -7.9960e-19  -1.5035e-20   1.5882e-22\n",
      "   2.5208e-18  -4.1877e-18  -4.1335e-19   8.1315e-20   2.7105e-20   0.0000e+00\n",
      "\n",
      " Columns 163 through 168:\n",
      "\n",
      "  -1.3553e-20  -2.1684e-19  -9.4868e-20  -5.0991e-19  -1.1825e-18  -1.5856e-18\n",
      "   5.0822e-21  -1.3891e-19   1.8465e-18  -4.4046e-18  -1.3915e-17   2.4462e-18\n",
      "   3.0493e-20   2.7783e-19  -2.4123e-18  -9.8256e-19   5.5836e-18   3.1713e-18\n",
      "   1.6941e-20  -1.3553e-20  -1.1113e-18   2.9951e-18   8.2738e-18   1.0706e-18\n",
      "  -7.1998e-21   1.8974e-19  -3.2526e-19   6.5052e-19  -1.4772e-18   2.6563e-18\n",
      "  -1.0164e-20   5.4210e-20   2.4395e-19  -5.6921e-19  -7.8605e-19  -2.3581e-18\n",
      "   2.7105e-20   5.4888e-19   1.3553e-20  -1.8431e-18  -2.2768e-18  -8.8362e-18\n",
      "  -8.4703e-22  -1.6263e-19  -2.9816e-19   5.4210e-19  -1.6805e-18  -7.5894e-19\n",
      "   8.0468e-21  -9.4868e-20   4.9467e-19  -3.3847e-18  -2.0058e-18   7.2642e-18\n",
      "  -1.3553e-20   5.4210e-20  -9.8933e-19  -1.3231e-18  -5.0822e-19   1.8974e-18\n",
      "  -3.0493e-20   4.0658e-19   8.6736e-19   1.0029e-18   1.7347e-17   1.3498e-17\n",
      "  -5.0822e-21  -1.5585e-19  -3.0832e-19   1.0029e-18  -6.7763e-19  -3.3339e-18\n",
      "  -6.7763e-21  -2.7105e-20  -2.1277e-18  -2.7105e-20   3.7947e-19   6.9118e-19\n",
      "  -1.6941e-20  -2.0329e-19   7.8605e-19  -3.1171e-19  -2.1549e-18  -7.3726e-18\n",
      "   9.3174e-21   9.3174e-20  -5.6921e-19   1.2875e-18   2.9273e-18   2.3581e-18\n",
      "   1.0164e-20   2.0329e-20   5.9631e-19  -5.8276e-18  -2.3581e-18  -7.1828e-19\n",
      "  -4.1293e-21   7.4539e-20  -1.4088e-18  -2.7893e-18   8.2670e-18   3.1374e-18\n",
      "   2.7105e-20  -7.7927e-20   1.0164e-18  -5.6921e-19  -1.0537e-18   5.4346e-18\n",
      "  -2.5411e-21  -2.8460e-19   1.6128e-18   8.3484e-18   1.2739e-18   7.9147e-18\n",
      "   1.3553e-20  -9.4868e-20   3.5914e-19  -1.1113e-18   4.1234e-18   6.8847e-18\n",
      "   2.3717e-20  -1.9821e-19   4.6079e-19   3.9167e-18   3.6973e-18   7.2828e-18\n",
      "  -6.0986e-20  -8.1315e-20  -2.7105e-19  -8.9447e-19   2.1684e-19   4.4994e-18\n",
      "   0.0000e+00  -4.0658e-20   4.6079e-19  -7.5894e-19   3.5237e-19   7.7249e-19\n",
      "   8.8938e-21  -2.4395e-19   1.5247e-19   2.6698e-18  -5.4210e-20  -1.8025e-18\n",
      "  -1.1858e-20   1.0164e-19  -1.1655e-18  -1.0842e-18  -1.3634e-17  -4.3910e-18\n",
      "\n",
      " Columns 169 through 174:\n",
      "\n",
      "   1.3553e-19   5.1500e-19  -1.0571e-18  -2.0871e-18  -3.2526e-18   7.0473e-19\n",
      "   6.1393e-18   3.0629e-18   6.2071e-18  -9.7849e-18   3.1171e-18  -4.3368e-19\n",
      "  -5.9089e-18  -2.2362e-18   3.3881e-18  -2.0058e-18   1.8974e-18   1.5179e-18\n",
      "  -2.0491e-17  -1.5721e-18   6.6136e-18   2.3527e-17   2.8731e-18  -2.7647e-18\n",
      "  -1.6263e-19   5.8208e-18  -5.9631e-19   7.0473e-19  -2.0329e-18  -2.6089e-18\n",
      "   2.6563e-18   5.4888e-19   8.1315e-19  -1.3824e-18   2.1684e-19  -1.2197e-18\n",
      "  -3.1552e-18   1.7347e-18   2.2497e-18  -2.6394e-18  -6.9253e-18  -8.2772e-18\n",
      "   9.2157e-19  -2.1176e-18  -3.3373e-18  -9.2157e-19  -9.5681e-18  -2.0058e-18\n",
      "  -8.9447e-19  -4.1200e-18  -3.9031e-18   0.0000e+00  -1.2035e-17  -2.0735e-18\n",
      "  -4.9197e-19   4.1132e-18   5.6921e-18  -1.8702e-18  -2.4733e-18   6.0986e-19\n",
      "   5.0415e-18  -1.5585e-17   5.1771e-18   5.3058e-18   1.0022e-17  -6.9931e-18\n",
      "  -5.8818e-18   4.6892e-18  -2.3852e-18   7.0473e-18  -9.7578e-18   1.1384e-18\n",
      "   4.1471e-18   5.9631e-19  -1.3281e-18  -1.1384e-18  -1.4366e-18  -2.2091e-18\n",
      "  -2.3039e-18   5.8005e-18  -8.8905e-18   2.0356e-17   7.8334e-18   1.1438e-17\n",
      "  -2.2091e-18  -8.1315e-19   2.1684e-18   1.8974e-18   7.0473e-18  -8.4026e-19\n",
      "  -3.2255e-18  -4.8925e-18   2.6698e-18   1.2197e-18  -3.4694e-18  -1.2739e-18\n",
      "   3.7812e-18  -3.0629e-18  -8.2941e-18  -7.9960e-18  -7.4810e-18  -1.0842e-18\n",
      "  -6.8101e-19   2.8138e-18  -8.1315e-19   1.8296e-18   2.9273e-18  -1.5179e-18\n",
      "   3.2526e-18  -3.2662e-18   3.0154e-18  -5.8005e-18   2.4666e-18   1.6432e-18\n",
      "   8.9447e-19   5.9089e-18  -1.1113e-18   1.7618e-18   2.1684e-19   0.0000e+00\n",
      "  -2.7105e-18  -2.3852e-18  -3.9031e-18   3.6389e-18   2.5208e-18   3.1713e-18\n",
      "   1.4799e-17  -6.4510e-18  -6.9931e-18   6.9118e-18   2.0126e-18  -8.5381e-19\n",
      "   1.0842e-19  -4.6079e-19  -3.0493e-19  -3.3881e-21  -1.9516e-18  -5.6921e-19\n",
      "   2.7647e-18   2.9816e-19   1.5179e-18  -1.2197e-18  -4.4723e-19   2.9816e-19\n",
      "  -6.8245e-18  -1.7076e-18  -6.5052e-19  -4.4181e-18  -3.9099e-18   3.2391e-18\n",
      "\n",
      " Columns 175 through 180:\n",
      "\n",
      "  -1.4637e-18   4.2962e-18  -3.5372e-18  -2.1684e-18  -1.3553e-19   2.7105e-20\n",
      "  -4.3368e-19  -1.0842e-19  -2.0058e-18  -1.4501e-18   9.8510e-19  -3.9980e-19\n",
      "   7.0473e-19   4.9331e-18  -1.0300e-18  -7.6978e-18   1.3553e-19  -1.8974e-19\n",
      "   5.5294e-18   2.2226e-18   3.4491e-18   1.6263e-18  -3.3610e-18  -1.0842e-18\n",
      "  -3.0087e-18  -1.1384e-18  -4.3876e-18  -5.7327e-18   1.8160e-18  -3.1171e-19\n",
      "   9.6901e-19  -2.3039e-18   3.7947e-19   1.2468e-18   2.4937e-18   2.7105e-20\n",
      "   6.7898e-18   1.9651e-18  -3.3881e-19  -5.9631e-18  -9.4868e-19   1.1520e-19\n",
      "   2.5208e-18  -1.1601e-17   1.3553e-20  -1.3553e-18   2.2226e-18  -1.6263e-19\n",
      "   2.9680e-18  -2.6156e-18  -4.0929e-18  -1.9516e-18   4.7434e-19   2.1684e-19\n",
      "   1.5450e-18  -1.9516e-18   1.5992e-18   1.7686e-18  -5.1500e-19  -1.6263e-19\n",
      "   1.8160e-18   9.2157e-19   8.8362e-18  -8.7685e-18   5.5565e-18   5.5565e-19\n",
      "   5.9631e-19   7.5894e-19   1.6371e-17  -3.1205e-18  -3.0629e-18   1.6263e-19\n",
      "   4.9806e-19   8.7549e-18  -1.6263e-19   4.0929e-18  -1.3824e-18   4.0658e-20\n",
      "  -1.3553e-19  -7.8605e-18  -3.5237e-18  -5.2042e-18   3.0764e-18   4.7434e-19\n",
      "  -1.6399e-18  -2.5479e-18   1.0300e-18  -1.9448e-18   2.6834e-18  -1.1791e-18\n",
      "  -3.3339e-18   3.2526e-19  -2.5208e-18   3.0629e-18   3.5914e-19   3.1171e-19\n",
      "   3.3881e-18  -1.9245e-18   3.7947e-18   5.0958e-18  -8.1315e-20   8.1315e-20\n",
      "   1.9516e-18   1.0571e-18   2.6427e-18  -3.9607e-18  -6.4375e-19  -5.9631e-19\n",
      "  -5.4210e-20   1.9245e-18  -1.4095e-18   5.9631e-18   5.1500e-19   6.0986e-20\n",
      "  -4.8789e-19  -2.9816e-19  -8.4026e-19   1.0571e-18   3.7269e-19  -2.3039e-19\n",
      "  -2.9002e-18   1.8160e-18  -6.1257e-18   4.6621e-18  -2.4666e-18  -9.4868e-20\n",
      "   1.9516e-18  -1.7618e-18  -3.7947e-18   3.9709e-18  -4.3309e-18  -2.1684e-19\n",
      "  -2.4395e-19  -1.6144e-18  -4.6756e-19  -1.5890e-18   1.7618e-19  -4.0658e-20\n",
      "   3.0358e-18   4.2962e-18  -6.7381e-19  -1.0842e-18  -1.1113e-18   4.8281e-19\n",
      "  -3.2119e-18  -3.3610e-18  -1.0679e-17  -4.3639e-18   6.7763e-20  -7.3184e-19\n",
      "\n",
      " Columns 181 through 186:\n",
      "\n",
      "  -5.4210e-20  -4.2352e-22   5.4210e-20  -5.4210e-20  -5.8106e-19  -1.0029e-18\n",
      "  -1.3553e-20  -2.1176e-22   6.0986e-20  -3.8625e-19  -6.2071e-18  -1.3553e-20\n",
      "  -6.7763e-21  -2.5411e-21  -3.3881e-20  -2.8460e-19  -1.5992e-18  -2.6563e-18\n",
      "   1.9058e-20   1.1647e-21   2.2023e-20   1.3553e-20  -4.6079e-19   5.1500e-18\n",
      "   4.5740e-20   2.1176e-22   1.6094e-20  -6.7763e-20   1.3553e-18  -3.9709e-18\n",
      "   3.3881e-20   2.1176e-22  -1.3553e-20   2.1684e-19  -5.9631e-19   3.2526e-19\n",
      "   1.6941e-21   1.6941e-21  -4.7434e-20   6.7085e-19  -2.5750e-18   2.8189e-18\n",
      "  -1.2705e-20  -4.2352e-21   2.0329e-20  -6.7763e-19  -3.2526e-19   3.2526e-18\n",
      "   1.9482e-20   0.0000e+00   3.3881e-21   7.4539e-20   7.4539e-19   4.8518e-18\n",
      "   6.7763e-21   6.3527e-22   1.0164e-20  -3.2526e-19   1.0164e-18   2.3446e-18\n",
      "  -1.5247e-20   5.0822e-21   4.0658e-20  -4.3368e-19   3.4694e-18   1.0300e-18\n",
      "   1.0164e-20  -2.1176e-22   2.4140e-20  -2.4225e-19  -1.1926e-18  -6.7763e-20\n",
      "  -2.5411e-21   0.0000e+00   3.3881e-20  -5.4210e-20  -2.2226e-18  -3.1848e-18\n",
      "   5.0822e-20  -1.6941e-21  -3.3881e-20  -6.2342e-19   1.3010e-18  -1.6263e-18\n",
      "   6.7763e-20   6.4851e-22   1.5882e-20   3.7269e-19  -1.6602e-18   5.0517e-18\n",
      "  -1.0588e-21  -4.2352e-21  -2.6470e-20  -2.0329e-19  -8.4026e-19   5.1229e-18\n",
      "   1.1858e-20   5.2940e-23   7.6233e-21   1.1943e-19   2.3852e-18   8.6330e-18\n",
      "  -1.3129e-20  -1.2705e-21   4.0658e-20   1.2197e-19  -4.8789e-19  -5.2584e-18\n",
      "  -5.5057e-21  -8.4703e-22  -3.7269e-20  -5.5904e-20  -4.7434e-19   4.2013e-18\n",
      "  -2.0329e-20   2.1176e-22   0.0000e+00  -1.4908e-19   3.3881e-20   1.2824e-18\n",
      "   3.3881e-20   4.4999e-22   7.4539e-20  -6.7763e-20   1.4908e-18  -3.9980e-19\n"
     ]
    },
    {
     "name": "stdout",
     "output_type": "stream",
     "text": [
      "  -8.4703e-21   2.7529e-21  -1.3553e-20   1.8974e-19  -2.7105e-18   1.7347e-18\n",
      "   0.0000e+00  -1.6941e-21  -1.3553e-20   4.3368e-19  -5.9631e-19  -2.1684e-19\n",
      "  -6.7763e-21   6.3527e-22  -5.0822e-21  -2.0329e-19   1.5585e-19   1.8974e-19\n",
      "   6.7763e-21  -2.7529e-21  -1.3553e-20   5.8276e-19   5.7463e-18  -1.0910e-17\n",
      "\n",
      " Columns 187 through 192:\n",
      "\n",
      "  -4.2419e-18   4.0127e-18   3.3881e-19  -1.8160e-18  -7.0473e-19  -4.3910e-18\n",
      "  -1.9041e-18   4.1267e-18   7.0473e-19   2.2633e-18   1.1059e-17  -1.1967e-17\n",
      "   5.7463e-18   2.9273e-18   6.5052e-19   5.1906e-18  -7.7249e-19   8.9176e-18\n",
      "   3.4390e-18   8.6736e-18  -2.0058e-18   4.0387e-18  -9.7578e-19  -1.4095e-18\n",
      "   3.2526e-18  -4.6553e-18  -8.1315e-19  -1.0300e-18  -5.9902e-18   1.4637e-18\n",
      "   4.5265e-18  -2.9816e-19  -5.5565e-19  -2.2091e-18   3.4152e-18   1.0571e-18\n",
      "  -1.2441e-17   1.4230e-19  -9.0802e-19  -8.8362e-18  -5.3668e-18  -1.0300e-18\n",
      "   2.0058e-18  -7.3184e-19  -1.1520e-18   1.0300e-18  -2.1684e-19   1.1696e-17\n",
      "  -2.9273e-18   1.6263e-19   3.7134e-18   2.4937e-18   2.1142e-18  -6.7085e-18\n",
      "  -4.8789e-19  -1.6941e-19   3.0968e-18  -2.8189e-18  -9.9611e-19  -2.5411e-18\n",
      "  -5.3668e-18  -7.9689e-18  -4.8247e-18   1.6588e-17   2.4395e-18  -8.6601e-18\n",
      "  -9.0531e-18   9.0531e-18   8.3484e-18  -1.5721e-18   3.0900e-18   5.7192e-18\n",
      "   1.7347e-18  -5.1500e-18   2.2226e-18   2.1413e-18   1.2739e-18   8.1180e-18\n",
      "  -1.5572e-17  -3.8083e-18   5.6921e-19  -2.4666e-18   1.4271e-17   1.8804e-18\n",
      "  -3.3204e-19  -5.4481e-18  -4.1335e-19  -1.1384e-18   1.9516e-18   2.6563e-18\n",
      "  -2.2226e-18  -6.4036e-19  -3.3881e-19   1.6094e-18   4.4385e-18   7.5894e-19\n",
      "   1.2523e-17   4.3639e-18   6.8576e-18  -6.2071e-18   1.3553e-19  -9.2496e-19\n",
      "   2.4395e-19   1.0842e-18  -1.3824e-18  -1.5314e-18   2.6563e-18   3.7947e-19\n",
      "   1.5992e-18   2.5072e-18   0.0000e+00  -1.3010e-18   5.0958e-18   7.5894e-19\n",
      "  -4.2419e-18   2.4564e-18  -2.2633e-18  -2.7105e-20  -4.2284e-18   1.4095e-18\n",
      "   5.4075e-18   3.0900e-18   2.0058e-18  -1.1926e-18   7.0473e-19  -8.4026e-19\n",
      "   5.5294e-18   2.3310e-18  -2.5089e-18   5.2042e-18   4.7163e-18  -7.9011e-18\n",
      "  -2.5034e-18   2.1820e-18  -1.7618e-19   9.7578e-19  -1.5179e-18  -3.5508e-18\n",
      "  -1.1113e-18  -4.5943e-18   8.1315e-19  -1.7889e-18   1.0029e-18   2.6766e-19\n",
      "   6.4239e-18  -5.8276e-18   5.1500e-19   1.0842e-19  -2.7986e-18   1.7347e-18\n",
      "\n",
      " Columns 193 through 198:\n",
      "\n",
      "   5.3532e-18  -1.4637e-18  -9.2157e-19   8.1315e-20   6.0986e-20   1.5721e-18\n",
      "   1.4637e-18  -1.5179e-18  -2.2768e-18  -3.2797e-18   1.8160e-18  -9.3648e-18\n",
      "  -2.3666e-18  -4.7434e-18   7.1151e-19   0.0000e+00   5.1500e-18   5.6379e-18\n",
      "   1.3173e-17   8.5245e-18  -1.5179e-18   5.8953e-18  -8.6228e-18   7.6978e-18\n",
      "  -2.1684e-19  -1.8431e-18  -5.6582e-19   8.4026e-19   1.7347e-18   4.3368e-18\n",
      "  -3.6321e-18  -1.6907e-18   3.0087e-18   3.2526e-19   4.3368e-18   4.9873e-18\n",
      "  -1.2685e-17  -8.7278e-18  -1.1384e-17  -6.7492e-18  -5.3126e-18  -3.4423e-18\n",
      "   6.2342e-19  -6.8847e-18  -6.2342e-18   5.2584e-18  -4.0251e-18   6.3697e-18\n",
      "   2.9561e-19   5.3295e-18   1.9245e-18   1.0571e-18  -2.9646e-19   1.0510e-17\n",
      "  -2.4234e-18  -4.3639e-18   7.0473e-19  -5.9631e-19   3.5237e-19  -1.4366e-18\n",
      "  -1.5721e-18   8.0231e-18   2.8799e-18   7.5894e-19  -4.1335e-18   1.0029e-18\n",
      "  -1.7889e-18  -7.0134e-18  -1.0246e-17   3.8218e-18  -4.7231e-18   1.4704e-18\n",
      "   1.1926e-18  -3.7947e-18   1.3959e-18   3.7947e-19   2.5614e-18   2.1684e-18\n",
      "  -1.4637e-18  -5.0144e-18   9.7578e-19   1.2323e-17   3.4694e-18  -1.3010e-18\n",
      "   2.8731e-18  -1.0625e-17  -1.0300e-18  -4.3910e-18   3.0459e-18   2.8765e-18\n",
      "   8.6736e-19  -2.7918e-18  -2.5411e-18   2.5208e-18  -4.9602e-18  -2.1142e-18\n",
      "   5.4210e-20  -5.4210e-19   2.5208e-18  -5.9631e-18   4.0285e-18  -4.6892e-18\n",
      "   7.7249e-19  -8.6736e-19  -1.2468e-18  -8.4026e-19  -2.7512e-18   2.8460e-19\n",
      "   5.4210e-20  -1.6805e-18   2.3852e-18  -4.3368e-19   1.4908e-18  -8.4026e-19\n",
      "  -1.5179e-18  -3.2526e-18   1.5179e-18  -1.6094e-18   4.9467e-18  -6.0715e-18\n",
      "   4.5536e-18  -1.2468e-18  -2.7444e-18   1.8974e-18  -4.2081e-18   2.3692e-18\n",
      "   7.4403e-18  -5.5836e-18  -1.0571e-18  -4.8247e-18  -1.8974e-19   1.7930e-17\n",
      "  -4.4046e-19   9.4868e-19  -2.3175e-18  -1.5501e-18   2.7105e-18   1.8974e-19\n",
      "  -5.3566e-18  -2.1142e-18   4.2284e-18   8.8769e-19  -1.9651e-18  -3.4152e-18\n",
      "   8.1315e-20   3.1984e-18   5.5803e-18  -5.6921e-18  -8.1315e-18  -2.7715e-18\n",
      "\n",
      " Columns 199 through 204:\n",
      "\n",
      "  -1.7618e-18   5.0144e-19  -7.4539e-20  -8.4703e-22  -1.3553e-20  -2.0329e-20\n",
      "   3.2831e-18   2.0329e-19   3.3881e-20   1.2705e-21   5.7598e-20   4.0658e-20\n",
      "  -1.6263e-19   0.0000e+00  -6.7763e-21   0.0000e+00   2.5411e-20   3.3881e-19\n",
      "  -1.3281e-18   3.7947e-19  -4.7434e-20  -6.3527e-22  -6.7763e-21  -1.3553e-20\n",
      "   1.3553e-18  -2.3039e-19  -6.4375e-20   6.3527e-22  -1.6941e-20  -2.9816e-19\n",
      "   1.0842e-18   5.5565e-19   4.2352e-21  -1.5882e-21   8.8091e-20   1.3553e-19\n",
      "   2.8460e-18  -3.3034e-19  -2.5411e-21   2.1176e-21  -1.3553e-20  -7.3184e-19\n",
      "   3.1577e-18  -2.7105e-20  -4.6587e-21   8.4703e-22  -1.0842e-19  -5.4549e-19\n",
      "   3.3339e-18   3.2526e-19  -6.7763e-21  -1.0588e-21   1.6941e-20   4.8789e-19\n",
      "  -1.1249e-18  -1.3553e-19   5.0822e-21  -5.5587e-22  -4.0658e-20   5.4210e-20\n",
      "   8.6736e-19   2.5750e-19   3.0705e-20  -1.2705e-21   3.0493e-20  -6.4375e-19\n",
      "   1.7889e-18   1.7618e-19  -2.8799e-20   1.1647e-21   3.0493e-20   4.2690e-19\n",
      "  -1.6534e-18   6.0986e-20  -2.5411e-21  -6.8821e-22   0.0000e+00   5.4210e-19\n",
      "  -3.8760e-18  -9.7578e-19   1.0164e-20  -6.3527e-22   6.7763e-21  -1.0503e-19\n",
      "   6.5052e-19   5.8953e-19   1.0842e-19   1.9058e-21  -2.3717e-20  -3.7947e-19\n",
      "   1.6805e-18  -6.7763e-19   2.0329e-20   5.0822e-21  -1.2197e-19   3.5237e-19\n",
      "  -4.5672e-18   5.8276e-19  -1.6941e-21   5.2940e-22   3.3881e-21  -4.7434e-19\n",
      "  -8.3009e-19   1.8296e-19   3.3881e-21   8.4703e-22   6.7763e-20  -5.2855e-19\n",
      "   2.7105e-18  -3.3881e-19  -2.5411e-21   1.5617e-21  -1.0164e-20  -3.5237e-19\n",
      "   3.1916e-18  -1.2468e-18   1.3553e-19   4.2352e-22  -1.6941e-20   1.7618e-19\n",
      "  -7.3184e-19  -6.0986e-20   4.1505e-20  -1.6941e-21  -8.1315e-20   1.6263e-19\n",
      "   6.7288e-18   2.4395e-19  -2.2023e-20  -2.3293e-21   1.3553e-20  -3.2526e-19\n",
      "  -1.4230e-19   5.4210e-20  -1.6941e-20   9.5291e-22   8.4703e-22  -1.9312e-19\n",
      "   2.2226e-18   6.2172e-19   1.4823e-20   1.0588e-21   5.0822e-21   8.1315e-20\n",
      "   1.8770e-18  -1.2468e-18  -1.6941e-20   8.4703e-22   3.3881e-20   9.2157e-19\n",
      "\n",
      " Columns 205 through 210:\n",
      "\n",
      "   3.5575e-19  -1.3553e-18  -3.3881e-18  -3.3814e-18   1.1384e-18   5.2042e-18\n",
      "   3.9844e-18   7.6978e-18   2.4666e-18  -2.9718e-18   6.7614e-18   1.4908e-18\n",
      "   8.0214e-19  -6.5052e-18   2.4666e-18   3.9662e-18   4.7027e-18   1.2794e-17\n",
      "   1.9245e-18   9.4190e-18   2.0058e-18   1.6263e-19  -2.1142e-18  -1.3553e-20\n",
      "   3.1713e-18   6.6678e-18  -3.7134e-18  -9.0802e-19  -4.4994e-18   7.8063e-18\n",
      "   3.7947e-19  -1.5992e-18  -5.4210e-19   2.8460e-18   5.1906e-18   3.8896e-18\n",
      "  -1.1130e-18   5.3397e-18   1.8974e-18   2.7512e-18  -5.0686e-18  -5.6650e-18\n",
      "  -1.3010e-18   1.8974e-18  -8.0773e-18  -6.6136e-18   2.0193e-18   1.2102e-17\n",
      "   1.0706e-18   3.0358e-18  -9.2157e-18  -6.6678e-18  -2.5072e-18  -2.5377e-18\n",
      "  -2.7105e-19   2.7105e-20   4.0658e-19   5.6988e-18   2.3039e-19  -1.2485e-18\n",
      "  -1.9516e-18  -1.3661e-17   1.0219e-17  -3.6456e-18   1.2468e-18   1.7889e-18\n",
      "   1.6805e-18   5.3532e-18   6.5052e-19   2.5208e-18  -1.3553e-18  -2.7105e-18\n",
      "   4.5943e-18   3.3339e-18   5.3295e-18  -4.1132e-18   4.4927e-18  -4.0658e-18\n",
      "  -3.6050e-18   1.0679e-17  -7.6843e-18  -1.1130e-17  -7.9553e-18  -3.8489e-18\n",
      "  -5.9631e-19   2.4666e-18  -2.9816e-19   4.0658e-18   2.7105e-19   2.8189e-18\n",
      "  -1.7618e-18   5.2584e-18  -6.3968e-18  -4.6079e-19  -1.2197e-18   6.9118e-19\n",
      "  -4.5401e-19   2.5233e-18   8.3484e-18  -4.3368e-19   9.5410e-18   4.0658e-19\n",
      "  -2.7105e-19   5.4210e-19   8.6736e-19   2.9816e-18   3.1887e-18  -1.8974e-18\n",
      "   2.3310e-18  -2.2768e-18  -2.7105e-19   1.8702e-18  -4.5536e-18  -3.3610e-18\n",
      "   2.1040e-18  -1.6263e-18   4.7163e-18  -6.4510e-18   1.2468e-18   1.5179e-18\n",
      "  -1.0046e-18  -4.0658e-19  -1.1655e-18  -1.8974e-19   0.0000e+00  -5.8411e-18\n",
      "   8.6736e-19   2.9816e-18  -2.6021e-18   3.9573e-18   4.4452e-18   3.1442e-18\n",
      "  -5.4210e-19  -5.4210e-19   3.9302e-19  -1.5450e-18  -3.7405e-18  -1.6805e-18\n",
      "  -2.5750e-19  -3.0358e-18   3.3068e-18   1.5450e-18  -1.6805e-18  -1.4637e-18\n",
      "  -4.9331e-18  -1.0164e-17  -8.1315e-18  -5.1500e-18  -4.2013e-19  -1.4637e-18\n",
      "\n",
      " Columns 211 through 216:\n",
      "\n",
      "  -2.0058e-18  -1.5916e-18  -2.0329e-18  -1.7347e-18   3.8489e-18  -1.5721e-18\n",
      "  -2.6443e-17  -2.0329e-19   5.2719e-18  -4.5536e-18  -1.7889e-18  -4.1742e-18\n",
      "   1.7889e-18   1.5721e-18  -3.6660e-18   2.4513e-18   0.0000e+00   8.0638e-19\n",
      "  -6.0173e-18  -1.1249e-17  -7.6978e-18  -1.0991e-17   2.9273e-18  -4.8247e-18\n",
      "  -1.0164e-19  -1.9516e-18   1.1926e-18  -1.3281e-18   1.0571e-18   1.2468e-18\n",
      "  -2.0600e-18  -3.0629e-18  -2.1684e-19  -9.2157e-19   4.0387e-18  -3.1984e-18\n",
      "  -7.9689e-18  -1.1086e-17  -3.0358e-18   6.2884e-18  -1.0896e-17  -3.9302e-18\n",
      "   2.7105e-19  -3.9573e-18  -4.5265e-18   3.8354e-18   2.8460e-18   8.1044e-18\n",
      "  -2.0058e-18   8.5688e-18   2.7647e-18  -7.8063e-18   7.4268e-18  -3.7947e-19\n",
      "  -1.8974e-18   3.1171e-19   3.6863e-18  -2.9409e-18  -5.0686e-18   6.7763e-19\n",
      "   9.2157e-18   2.2064e-17  -9.7578e-18   4.5808e-18  -3.5643e-18   1.0490e-17\n",
      "   5.3668e-18  -3.9573e-18   1.0137e-17  -2.4395e-18  -6.1257e-18  -4.3368e-19\n",
      "  -3.7947e-18   5.4752e-18   8.7820e-18   2.9002e-18  -4.0929e-18  -4.8247e-18\n",
      "  -1.2848e-17  -2.2443e-17   1.6046e-17   2.0329e-19   1.7456e-17  -2.8189e-18\n",
      "   3.4966e-18   5.4888e-18  -1.2333e-18  -4.7976e-18  -5.2042e-18  -2.6021e-18\n",
      "  -3.9438e-18   4.2284e-18   3.4152e-18  -8.4026e-19  -3.7812e-18  -3.5033e-18\n",
      "  -1.6670e-18   8.6465e-18  -2.2768e-18  -1.0842e-18   2.1413e-18  -5.5836e-18\n",
      "  -2.9273e-18   1.4908e-19   4.6621e-18   2.6978e-19   1.6941e-18  -1.7754e-18\n",
      "  -2.9816e-18   2.9273e-18  -6.7763e-19   1.0842e-19  -1.4366e-18  -6.6407e-19\n",
      "  -8.6736e-19   2.7105e-18   1.5179e-18  -9.9747e-18  -1.7517e-18   8.4364e-18\n",
      "  -5.8953e-18  -5.7327e-18  -6.5052e-19  -2.7105e-19  -8.1315e-20   7.3184e-19\n",
      "  -1.2468e-18  -2.8460e-18   3.7947e-19  -2.0837e-18   4.3368e-18  -1.7618e-18\n",
      "   1.8974e-19  -6.2613e-18   3.4449e-18  -1.6670e-18   1.0842e-18   9.7578e-19\n",
      "  -8.0045e-19   3.5135e-18  -9.0802e-19  -1.5789e-18   4.7434e-18   4.6079e-19\n",
      "   1.2285e-17   1.8811e-17  -6.6678e-18   1.7076e-18   2.7647e-18  -2.2768e-18\n",
      "\n",
      " Columns 217 through 222:\n",
      "\n",
      "   4.1606e-18   1.7889e-18   6.0648e-19   4.6079e-19   1.6941e-20  -4.2352e-22\n",
      "   4.3775e-18  -1.4732e-17   2.6834e-18   1.1181e-19   4.5740e-20  -4.2352e-22\n",
      "   4.7569e-18  -3.4559e-19   1.5450e-18   1.2197e-19  -2.0329e-20   3.3881e-21\n",
      "  -1.2116e-17   1.6263e-19   4.3368e-18   7.8605e-19  -1.3553e-20   3.3881e-21\n",
      "   4.0115e-18   4.9331e-18  -1.9177e-18  -3.2526e-19  -1.3553e-20   8.4703e-22\n",
      "   1.2468e-18  -1.8431e-18  -5.4210e-20  -1.3553e-20  -4.4046e-20   5.0822e-21\n",
      "   1.3553e-18   3.5779e-18   5.6921e-19   4.9467e-19   1.6941e-20   8.4703e-22\n",
      "  -1.3078e-18  -3.7947e-19  -5.4210e-20   3.5237e-19  -3.3881e-21   1.3553e-20\n",
      "  -8.2467e-18   3.4017e-18  -2.8257e-18   5.1500e-19   8.1315e-20   8.4703e-22\n",
      "  -1.4230e-18   7.5725e-19  -1.3417e-18   1.8974e-19  -9.3174e-21   1.6941e-21\n",
      "   6.1800e-18   1.2197e-18   3.3746e-18   3.7947e-19   1.6941e-20   0.0000e+00\n",
      "  -1.3010e-18   5.6243e-19   1.0164e-18  -1.3553e-19  -1.1858e-20   0.0000e+00\n",
      "  -6.9084e-18  -1.2468e-18   5.1500e-19   4.0658e-20   8.4703e-21   0.0000e+00\n",
      "   3.3881e-20  -2.4666e-18  -9.3512e-19  -7.3184e-19   3.7269e-20   2.1176e-21\n",
      "   8.8091e-20  -1.0300e-18  -2.5208e-18  -2.6427e-19  -6.0986e-20   1.6941e-21\n",
      "   1.1655e-18   1.3553e-19   1.5992e-18   6.2342e-19  -2.7105e-20   0.0000e+00\n",
      "   4.1200e-18  -3.6863e-18  -2.7097e-18   1.4908e-19   8.4703e-22  -1.0588e-21\n",
      "   5.4210e-19   4.0387e-18   1.4772e-18   3.3881e-20  -3.3881e-21  -4.2352e-22\n",
      "  -1.1655e-18  -7.5352e-18   1.2197e-19  -2.3039e-19   6.7763e-21   4.2352e-22\n",
      "   1.0048e-17   2.2870e-18   2.7105e-20  -6.8440e-19   2.7105e-20   1.6941e-21\n",
      "   2.3039e-18  -3.9302e-18   1.9867e-18   1.0588e-19   5.0822e-21   2.3293e-21\n",
      "   7.8706e-18   9.2157e-19   7.0473e-19   4.0658e-20   2.7105e-20   4.2352e-21\n",
      "   6.3358e-19  -1.2739e-18   1.3553e-19   0.0000e+00   0.0000e+00   3.3881e-21\n",
      "  -1.4366e-18  -4.3368e-19   9.7578e-19   7.1828e-19   1.8635e-20  -2.1176e-21\n",
      "   6.6949e-18  -3.8625e-18  -1.9516e-18  -4.4723e-19   0.0000e+00  -6.7763e-21\n",
      "\n",
      " Columns 223 through 228:\n",
      "\n",
      "  -3.3881e-20  -1.0842e-19   8.4026e-19   2.0600e-18  -1.0300e-18   5.4210e-20\n",
      "   0.0000e+00   2.5072e-19   3.5101e-18  -4.1742e-18  -7.6572e-19   1.6805e-18\n",
      "   4.0658e-20   3.5914e-19   2.6089e-18   3.5237e-19   1.5721e-18   3.7405e-18\n",
      "  -4.0234e-21   6.7763e-20   2.7105e-20   5.0822e-18  -1.3932e-17   5.2855e-18\n",
      "  -1.0164e-20  -2.7105e-20   1.8160e-18   1.1113e-18  -5.3397e-18   2.1142e-18\n",
      "   1.3553e-20   2.4395e-19   8.1315e-19   1.0842e-18  -1.8702e-18   1.7076e-18\n",
      "  -8.1315e-20  -1.7212e-18   3.4966e-18  -4.7705e-18   3.3204e-18   4.4994e-18\n",
      "   3.3881e-20   2.7105e-20   1.0368e-18   2.6563e-18   7.1015e-18  -7.1828e-18\n",
      "  -3.3881e-21  -2.1684e-19   1.1249e-18  -1.0544e-17   8.8905e-18   1.7076e-18\n",
      "  -7.4539e-20   1.6263e-19  -1.3553e-18  -4.3368e-19  -9.6223e-19   3.1171e-19\n",
      "  -1.4167e-19   1.3553e-18   1.4610e-17   9.0531e-18   8.1315e-20  -5.5565e-19\n",
      "  -8.4703e-21  -1.6941e-19   3.3068e-18  -2.6563e-18   5.9631e-19   7.4539e-19\n",
      "   0.0000e+00  -2.1684e-19  -1.0490e-17   9.7917e-19   2.2226e-18   4.5265e-18\n",
      "  -3.8964e-20  -5.6921e-19  -8.6465e-18   1.6548e-17   8.4026e-19   1.7862e-17\n",
      "   0.0000e+00   8.1315e-20   1.7686e-18   1.1655e-18   2.1684e-19  -2.1684e-19\n",
      "   1.7618e-19  -2.1684e-19  -2.7105e-19  -5.4210e-20   3.7947e-18   3.8760e-18\n",
      "   1.8635e-20  -1.8296e-19  -2.8393e-18   2.2565e-18   1.8974e-19  -2.9545e-18\n",
      "  -6.7763e-21   7.8605e-19  -2.0871e-18   6.3155e-18  -1.7347e-18  -1.4908e-18\n",
      "  -3.3881e-21  -1.3553e-20  -8.4026e-19   9.8391e-18   3.1442e-18   1.3824e-18\n",
      "  -1.6941e-20   4.7434e-20  -1.5856e-18  -7.5894e-19   3.1442e-18  -9.2157e-19\n",
      "  -1.1774e-19  -8.1315e-20   6.7763e-21   2.5614e-18   1.6703e-18  -2.6766e-19\n",
      "  -1.3553e-20   2.1684e-19   1.4637e-18   4.9602e-18  -1.7347e-18  -2.4395e-18\n",
      "   2.3717e-20  -2.5411e-19   1.3146e-18  -8.6736e-19  -9.2157e-19  -3.7269e-19\n",
      "   1.2705e-20  -2.2785e-19   1.5450e-18   2.5479e-18   2.6834e-18   3.0358e-18\n",
      "  -1.6432e-19  -8.8091e-19   2.7997e-18   1.0266e-17  -2.6563e-18   5.1500e-18\n",
      "\n",
      " Columns 229 through 234:\n",
      "\n",
      "   3.7947e-18  -2.3175e-18   1.6263e-18  -2.0058e-18   1.0842e-19   1.3417e-18\n",
      "  -8.4026e-19  -8.0299e-19  -9.9476e-18  -9.5342e-18   7.3184e-18  -1.9651e-18\n",
      "   1.0842e-18   1.6263e-19  -2.0600e-18   1.3553e-19  -1.8702e-18  -1.0910e-18\n",
      "   5.6785e-18  -1.1587e-17  -1.2468e-18  -1.8350e-17   3.8489e-18   2.1142e-17\n",
      "   4.1742e-18   3.4694e-18   3.6321e-18  -7.0473e-18   7.8605e-18  -5.2855e-18\n",
      "   7.4810e-18   2.9816e-18   4.7027e-18  -3.6050e-18  -3.6592e-18   2.7105e-20\n",
      "   1.5992e-18   1.5314e-18   4.1742e-18  -4.7332e-18  -4.9873e-18  -7.9960e-19\n",
      "   2.3446e-18   4.1136e-18   3.7134e-18   6.8881e-18  -4.1403e-18   5.9631e-19\n",
      "   2.0803e-18  -1.0490e-17  -2.1955e-18   4.6350e-18  -7.2642e-18  -8.6736e-19\n",
      "   1.2197e-18   1.1926e-18  -3.7947e-18   3.7371e-18  -2.1955e-18  -2.2226e-18\n",
      "  -4.3368e-18   5.0822e-18  -1.9516e-18  -5.8547e-18  -8.8498e-18  -1.4610e-17\n",
      "  -5.4210e-20  -1.8160e-18  -3.1442e-18  -3.4694e-18  -6.1257e-18  -3.2526e-18\n",
      "   1.0490e-17   4.4385e-19   1.3586e-17   4.1267e-18   3.9641e-18   8.1315e-19\n",
      "   9.9747e-18  -1.5233e-17   2.4435e-17   1.4027e-17  -9.2428e-18  -5.5701e-18\n",
      "  -3.1984e-18   1.1926e-18   5.5836e-18  -9.7578e-19   3.6863e-18   3.6863e-18\n",
      "   1.6263e-19   5.7937e-18  -1.1330e-17  -3.6050e-18  -1.1384e-18  -5.0415e-18\n",
      "  -1.4908e-18   4.2148e-18  -3.6321e-18   1.4095e-18  -1.2468e-18   8.5042e-19\n",
      "   1.8974e-18   7.3184e-19  -4.0251e-18   5.4210e-20   2.9138e-19   4.6079e-19\n",
      "   6.1257e-18   3.4559e-18  -8.9718e-18  -2.4395e-18  -1.6263e-19   2.6292e-18\n",
      "   4.5265e-18  -2.1684e-19  -5.3397e-18  -7.6301e-18  -9.5816e-18  -4.3097e-18\n",
      "  -2.1549e-18   6.5052e-18   3.4694e-18  -1.3796e-17  -3.2526e-19   1.1655e-18\n",
      "   6.1732e-18  -9.4868e-19   8.8362e-18   7.4132e-18  -5.7327e-18   1.6778e-17\n",
      "  -8.6736e-19   8.8091e-19   2.2294e-18  -1.4417e-18  -2.4395e-19   1.3824e-18\n",
      "   1.8974e-18   3.8218e-18  -3.8049e-18   5.0686e-18  -4.7163e-18  -7.7927e-19\n",
      "   3.2797e-18  -3.9302e-18   5.1635e-18   7.0473e-19   9.7985e-18   3.7947e-18\n",
      "\n"
     ]
    },
    {
     "name": "stdout",
     "output_type": "stream",
     "text": [
      " Columns 235 through 240:\n",
      "\n",
      "  -9.2157e-19  -1.5179e-18  -1.8431e-18   1.9245e-18   6.0817e-19  -4.0658e-19\n",
      "   5.8005e-18   1.0842e-18  -2.8664e-18  -5.2855e-18  -8.9447e-19   1.1054e-19\n",
      "   2.2429e-18  -2.1831e-18  -1.9854e-18   6.8779e-19   5.9631e-19   9.4868e-20\n",
      "   1.6697e-17   4.4994e-18   1.4149e-17   3.0900e-18   2.1774e-18  -9.0802e-19\n",
      "  -2.8731e-18   7.0473e-18  -2.3581e-18   1.0232e-18   1.3383e-18  -2.0329e-20\n",
      "   3.0222e-18   5.4210e-19  -1.5179e-18   3.0358e-18  -1.3553e-18   2.7105e-19\n",
      "   5.0280e-18   5.0415e-18   4.8789e-19   3.7947e-19  -3.9980e-19   5.9292e-19\n",
      "   3.7117e-18  -5.2584e-18   1.8974e-19   5.8547e-18   1.2197e-18   3.7947e-19\n",
      "   4.1742e-18  -1.3553e-19  -1.5314e-18  -2.2329e-18  -1.2333e-18  -1.1926e-18\n",
      "   1.5450e-18  -1.1994e-18   4.8789e-18  -2.3683e-18  -6.2680e-19  -8.1315e-20\n",
      "   1.8431e-18  -8.4026e-19   1.7049e-17   4.6214e-18  -6.7763e-19   1.3383e-19\n",
      "  -1.1926e-18  -3.7168e-18  -6.5662e-18  -9.0954e-18  -2.8460e-19   2.1684e-19\n",
      "   4.8654e-18  -2.3581e-18  -4.1064e-18   9.4021e-19   1.4908e-18   4.7434e-20\n",
      "   8.9176e-18  -6.0715e-18   8.7278e-18  -2.2551e-17   6.3968e-18   4.6079e-19\n",
      "   1.9516e-18  -2.0600e-18  -3.2391e-18  -1.5450e-18  -2.8460e-18  -1.4908e-19\n",
      "   3.2526e-19  -1.6263e-19  -5.1093e-18   1.8974e-19   5.8276e-19   3.5237e-19\n",
      "  -1.1655e-18   5.2448e-18   4.3368e-19   1.1655e-18   3.3610e-18  -1.2197e-19\n",
      "  -2.0600e-18   9.4868e-20  -3.1442e-18  -7.8943e-19  -3.2526e-19   3.2357e-19\n",
      "  -2.4799e-18   2.2768e-18  -1.3553e-19  -3.8218e-18  -2.5750e-19  -2.7105e-20\n",
      "   2.6665e-18   8.2653e-18   9.9747e-18  -8.3348e-19   4.7434e-20   4.4723e-19\n",
      "   1.4772e-18  -9.4868e-19  -2.8460e-18  -1.5721e-18   2.1786e-18  -1.2197e-19\n",
      "  -8.9447e-19  -4.3300e-18   7.3116e-18   3.3881e-18   4.3300e-18  -5.4210e-19\n",
      "   1.0164e-18  -2.2362e-19   1.2197e-19   3.9641e-19   2.4395e-19  -1.3553e-20\n",
      "  -3.9844e-18   3.9031e-18  -3.5237e-19   1.7889e-18  -1.0842e-19   1.5585e-19\n",
      "   8.9447e-19   1.8702e-18  -1.1249e-18  -1.7076e-18   2.9816e-19   2.4395e-19\n",
      "\n",
      " Columns 241 through 246:\n",
      "\n",
      "   8.4703e-21  -4.2352e-22   4.0658e-20   3.2526e-19   9.4190e-19  -4.0658e-19\n",
      "  -1.3553e-20   0.0000e+00   1.6941e-20   1.6263e-19  -3.3204e-19  -5.6650e-18\n",
      "   0.0000e+00   2.1176e-22   2.7105e-20   2.7444e-19  -5.4210e-20  -6.5052e-19\n",
      "  -1.3553e-20  -2.6470e-22  -4.2352e-21  -2.7105e-20  -1.8974e-18   1.0273e-17\n",
      "   9.1480e-20   2.1176e-21   1.0164e-20   4.0658e-19  -2.7105e-20   1.6670e-18\n",
      "   1.6941e-21   2.1176e-22  -6.7763e-21  -2.9816e-19  -1.0300e-18   9.4868e-20\n",
      "  -3.2187e-20   2.5411e-21   6.7763e-20   8.1315e-20   2.7647e-18  -4.1200e-18\n",
      "   1.3553e-20   0.0000e+00  -1.4230e-19   1.4637e-18   2.8054e-18   2.2497e-18\n",
      "   9.4868e-20   0.0000e+00   0.0000e+00  -1.6602e-19  -2.7105e-19   1.4095e-18\n",
      "  -2.5411e-21   1.0588e-22   1.3553e-20   0.0000e+00   2.4395e-19  -2.0532e-18\n",
      "   3.0493e-20   0.0000e+00   6.7763e-21   8.1315e-20   2.0329e-18  -2.4395e-18\n",
      "   2.0329e-20   0.0000e+00  -4.7434e-20   8.8091e-20   1.7347e-18  -1.1059e-17\n",
      "   4.8704e-21   3.3881e-21   1.3553e-20  -2.4395e-19   1.6263e-19   1.1520e-18\n",
      "   5.3363e-20   1.5882e-22  -3.5575e-20   4.1335e-19   4.2013e-19  -2.4395e-19\n",
      "  -1.4908e-19  -2.1176e-22   1.0164e-20   1.3553e-19   1.9787e-18   1.2197e-18\n",
      "   0.0000e+00  -5.0822e-21   6.7763e-20  -1.0029e-18  -3.5237e-19  -1.3824e-18\n",
      "   2.0329e-20   0.0000e+00   1.6941e-20   7.5894e-19   4.7705e-18  -5.3634e-18\n",
      "  -2.2023e-20   0.0000e+00   1.6941e-20   1.8974e-19   2.7105e-19   2.1684e-19\n",
      "   6.7763e-21  -4.2352e-22   1.5247e-20   9.4868e-20  -6.7763e-19   4.8111e-18\n",
      "   1.8635e-20   2.3293e-21   3.3881e-21   4.0658e-20  -6.2342e-19  -4.0115e-18\n",
      "  -8.4703e-22   6.3527e-22  -3.3881e-20   1.6263e-19  -1.6941e-18  -3.1306e-18\n",
      "  -6.7763e-21   1.2705e-21  -8.1315e-20  -4.3368e-19  -2.1684e-19  -1.3112e-18\n",
      "  -1.6941e-21   7.6233e-21   3.1234e-20  -9.4868e-20  -2.7105e-20  -1.5450e-18\n",
      "  -1.6941e-20  -1.0588e-22  -1.6941e-20  -1.8974e-19  -2.4818e-18   8.6736e-19\n",
      "   4.0658e-20   0.0000e+00   4.4046e-20   7.4539e-20  -3.9844e-18  -2.2904e-18\n",
      "\n",
      " Columns 247 through 252:\n",
      "\n",
      "   1.9007e-18  -8.6736e-19   5.8928e-18  -4.5536e-18  -2.9273e-18  -8.6736e-19\n",
      "   3.8591e-18  -4.8518e-18   2.3039e-18   3.6321e-18   2.4395e-18   2.2904e-18\n",
      "  -9.6833e-18   1.2333e-18  -8.9447e-19  -5.6921e-18   5.2042e-18  -5.4210e-19\n",
      "  -7.7792e-18   6.1389e-18   1.1384e-17  -3.1171e-17  -3.9031e-18  -7.3658e-18\n",
      "   1.8431e-18  -3.6592e-18  -2.6698e-18   1.4467e-18  -1.5179e-18   8.1315e-20\n",
      "  -6.5476e-18  -7.2506e-19   2.4733e-19   2.2497e-18   2.9002e-18  -1.3281e-18\n",
      "   3.0358e-18   3.7405e-18  -1.0042e-17  -2.2226e-18  -5.0348e-18  -9.2835e-19\n",
      "  -1.5992e-18  -5.5023e-18  -4.4046e-18   1.2401e-18  -6.5169e-20  -2.1006e-18\n",
      "  -5.0958e-18  -2.2226e-18  -8.5381e-18   1.7119e-18   8.4026e-19  -4.6976e-18\n",
      "   2.9273e-18  -5.5294e-18  -3.5237e-18  -1.6263e-18  -9.2157e-19  -3.2526e-19\n",
      "  -1.7944e-17   1.3173e-17  -4.3368e-19  -1.3268e-17   8.0502e-18  -4.8654e-18\n",
      "  -8.7278e-18   5.6379e-18  -4.0658e-18   1.5182e-17  -2.8189e-18  -3.3610e-18\n",
      "   5.9631e-19  -2.6563e-18  -3.1984e-18  -4.3944e-18   2.1142e-18   3.9124e-18\n",
      "  -4.3741e-18  -6.5730e-18  -1.9163e-17   1.1438e-17  -6.0715e-18  -2.4157e-17\n",
      "   2.9002e-18  -7.0473e-19  -3.5237e-18  -9.2157e-19   9.3783e-18   1.9245e-18\n",
      "  -8.1315e-20  -2.3039e-18   2.9816e-19   4.2284e-18  -9.2428e-18   1.2441e-17\n",
      "  -4.3910e-18  -7.1015e-18   5.2042e-18   9.7578e-19   4.4825e-18   1.1113e-18\n",
      "   2.8189e-18   2.3166e-18  -9.2157e-19  -4.7773e-19   1.3171e-18   1.2401e-18\n",
      "   6.1766e-18  -2.6021e-18  -1.6263e-19   3.8244e-19  -2.8880e-18  -2.4666e-18\n",
      "   2.7105e-20  -1.0679e-17   1.6805e-18  -7.4268e-18  -6.7221e-18   1.2197e-18\n",
      "   2.0397e-18  -7.8605e-19   1.1926e-18  -2.7105e-18  -6.5052e-19   2.9273e-18\n",
      "  -5.9089e-18  -6.2545e-18  -3.3068e-18  -7.1828e-18   1.2790e-17  -1.0656e-18\n",
      "   1.5043e-18  -9.4190e-19  -3.5677e-18   2.1413e-18   5.6921e-19  -5.7259e-19\n",
      "  -2.3310e-18  -2.1413e-18  -1.5721e-18   5.4481e-18   4.3368e-19   4.8789e-18\n",
      "   5.3126e-18  -2.1684e-18   3.3881e-18  -3.2526e-19   6.9999e-18  -4.8789e-19\n",
      "\n",
      " Columns 253 through 258:\n",
      "\n",
      "  -7.0473e-19  -2.0397e-18  -3.1747e-18   2.0329e-20   3.9844e-18  -1.0300e-18\n",
      "   5.1500e-19  -6.8305e-18   5.4210e-20  -4.2284e-18   9.3241e-18   3.2391e-18\n",
      "   5.6650e-18  -2.3310e-18   2.3310e-18  -2.9951e-18  -3.1171e-19   1.7076e-18\n",
      "   2.3292e-17  -1.4257e-17  -1.0923e-17  -5.3668e-18  -5.5565e-18   2.1684e-18\n",
      "   1.6534e-18  -4.0387e-18   4.9331e-18   2.3107e-18   3.6727e-18   3.4220e-19\n",
      "   4.0115e-18   2.1142e-18   1.7889e-18   5.4210e-19   9.7578e-19  -7.5894e-19\n",
      "   3.1035e-18   1.3688e-18   9.7519e-18  -5.2855e-18   1.0842e-19  -2.2023e-20\n",
      "   1.9448e-18   3.1984e-18   1.1655e-18  -2.8731e-18   1.5416e-18   8.6736e-19\n",
      "   2.4937e-18  -1.9841e-17   7.8469e-18   3.9980e-18   3.0968e-18   1.9448e-18\n",
      "   3.6050e-18  -2.9273e-18  -6.2342e-19   1.1384e-18  -2.9816e-19   4.4723e-19\n",
      "   1.3349e-18   9.6765e-18  -3.8625e-18   2.2301e-17   9.7544e-18  -4.6485e-18\n",
      "  -3.9573e-18   1.8431e-18  -7.5623e-18   3.2865e-18   3.3136e-18   1.1926e-18\n",
      "  -6.7424e-18  -3.1577e-18   2.7376e-18  -2.0329e-18   3.5508e-18  -7.0473e-19\n",
      "   8.4568e-18  -1.6209e-17  -1.1601e-17  -6.9796e-18   1.6805e-18   9.5952e-18\n",
      "   4.0454e-18   1.2468e-18  -1.9245e-18  -1.6263e-18  -1.2197e-18  -9.7578e-19\n",
      "   1.5965e-17  -1.0978e-17  -1.9380e-18  -1.9516e-18   3.3881e-18   1.6263e-18\n",
      "   1.1181e-18  -2.4191e-18  -6.1664e-19  -4.1471e-18   2.8460e-19  -2.4666e-18\n",
      "  -5.4210e-19  -3.7947e-19  -2.7376e-18   1.4230e-19  -3.2797e-18   4.8789e-19\n",
      "  -4.8111e-18   6.0986e-19  -7.5894e-19  -1.7889e-18   1.3010e-18  -1.8296e-19\n",
      "   2.3581e-18  -6.4559e-18  -5.6514e-18   2.4530e-18   2.3446e-18  -7.1828e-19\n",
      "   4.0115e-18   1.0164e-18   3.5237e-18   1.8974e-18   2.0058e-18   1.7618e-19\n",
      "   2.1210e-18  -1.1384e-18   3.7981e-18   4.5265e-18  -1.4637e-18   1.3824e-18\n",
      "  -1.5179e-18  -1.1926e-18  -2.8731e-18   6.3104e-19   8.1315e-20   1.6263e-19\n",
      "  -1.1858e-18   3.5237e-19   7.3184e-19  -1.0571e-18  -8.6736e-19   1.3688e-18\n",
      "   6.2884e-18   8.1315e-19  -8.1315e-19   5.2313e-18  -8.4780e-18   4.1572e-18\n",
      "\n",
      " Columns 259 through 264:\n",
      "\n",
      "  -2.6173e-19   8.1315e-20  -1.0164e-20   0.0000e+00  -2.7105e-20  -5.4210e-20\n",
      "  -4.2521e-19  -2.0668e-19   1.2282e-20   6.6174e-23   2.5411e-20   1.5585e-19\n",
      "  -2.1684e-19   6.0986e-20  -5.0822e-20   6.3527e-22  -1.5247e-20   1.4908e-19\n",
      "  -4.7434e-18   1.0300e-18   4.0658e-20  -1.5882e-22  -2.7529e-21  -2.0329e-20\n",
      "  -8.5381e-19   2.7105e-19  -3.3670e-20  -1.2705e-21   0.0000e+00   5.4210e-20\n",
      "  -4.4723e-19   1.0842e-19  -5.0822e-21   4.2352e-22  -1.0164e-20   9.4868e-20\n",
      "  -5.4210e-19  -5.9292e-20  -4.4046e-20   1.2705e-21   0.0000e+00   4.3368e-19\n",
      "   1.3553e-20   0.0000e+00  -1.3553e-20   8.4703e-22  -9.4868e-20   6.2342e-19\n",
      "  -1.8431e-18   2.1684e-19  -4.0658e-20   0.0000e+00  -1.7788e-20  -1.8974e-19\n",
      "   9.4868e-20   2.7105e-20   5.0822e-21   6.3527e-22  -3.1764e-21   0.0000e+00\n",
      "  -1.0808e-18   2.7105e-20  -1.3553e-20   1.2705e-21   9.4868e-20   3.8625e-19\n",
      "   0.0000e+00   1.3553e-20  -3.3881e-21   8.4703e-22   1.2197e-19   2.4395e-19\n",
      "   6.7763e-19   1.0164e-20   2.7529e-21  -8.4703e-22  -6.7763e-21  -2.5750e-19\n",
      "   1.7822e-18  -7.3184e-19  -3.3881e-21   5.9557e-23   5.2516e-20  -3.3881e-20\n",
      "   5.4210e-19   4.2013e-19  -2.0329e-20  -2.1176e-22   0.0000e+00  -1.3553e-20\n",
      "  -3.2526e-19   5.4210e-20   0.0000e+00   8.4703e-22   4.0658e-20   2.7105e-20\n",
      "  -2.7105e-20   9.4868e-20  -1.6941e-20   3.7058e-22  -6.7763e-21   4.0658e-20\n",
      "   4.4723e-19   5.7598e-20   0.0000e+00   0.0000e+00  -2.0329e-20  -8.1315e-20\n",
      "  -7.1490e-19   1.3553e-20  -4.2352e-21   0.0000e+00  -3.0493e-20  -3.3881e-20\n",
      "  -3.5237e-19   4.0658e-19   1.3129e-20   1.0588e-22   1.0588e-20  -1.6602e-19\n",
      "   4.6079e-19  -1.5585e-19  -6.7763e-21   0.0000e+00   2.0329e-20   6.7763e-19\n",
      "   1.2062e-18   6.2342e-19   2.0329e-20   8.4703e-22   6.7763e-21   2.7105e-20\n",
      "   2.7105e-20   6.7763e-21   0.0000e+00   2.1176e-22  -2.0329e-20   2.3039e-19\n",
      "  -3.7269e-20   4.0658e-20   3.3881e-20  -3.1764e-22   4.2352e-21  -6.7763e-21\n",
      "   1.2053e-18  -1.2197e-19   0.0000e+00  -2.9117e-22  -1.0164e-20   2.7105e-20\n",
      "\n",
      " Columns 265 through 270:\n",
      "\n",
      "  -2.5411e-19  -1.9516e-18   1.7347e-18  -2.3310e-18   1.5721e-18   4.7840e-18\n",
      "  -4.1674e-19   6.7763e-20  -1.2604e-17  -4.4452e-18  -1.7347e-18   7.4268e-18\n",
      "   8.2416e-19  -3.5914e-18   4.0251e-18   2.1955e-18  -2.8223e-18   1.3010e-18\n",
      "   2.4395e-19  -1.2197e-19  -5.5294e-18   5.9902e-18   6.4713e-18   1.7794e-17\n",
      "   6.5730e-19  -2.1684e-19  -2.9883e-18  -2.3039e-18   8.6355e-19   4.3097e-18\n",
      "  -1.8974e-19   2.2497e-18   1.0300e-18   9.0124e-19   1.5314e-18  -3.4152e-18\n",
      "  -7.0473e-19   9.9611e-19  -1.5179e-18   5.6921e-19  -5.7666e-18  -2.7647e-18\n",
      "   3.3881e-19   2.6292e-18  -1.9821e-18   2.7105e-19  -9.7578e-19  -5.4210e-20\n",
      "  -2.9477e-19   1.2468e-18  -6.3426e-18   1.3553e-18   7.8740e-18   1.1655e-18\n",
      "   2.7105e-20  -2.4395e-18   2.4801e-18   4.1335e-19   2.0329e-19   7.5894e-19\n",
      "   3.4491e-18  -1.4555e-17  -5.2584e-18  -1.5179e-18  -8.4026e-18  -1.2685e-17\n",
      "  -1.3010e-18  -3.4694e-18   1.7754e-17   8.3484e-18   2.7105e-19  -4.4859e-18\n",
      "   7.0473e-19   2.9816e-19  -1.6263e-19   2.9273e-18  -3.3068e-18  -8.9447e-19\n",
      "  -5.4888e-19   3.1713e-18   7.3726e-18  -2.7105e-18   2.0058e-18  -1.1520e-17\n",
      "   7.9960e-19  -2.1955e-18  -3.6863e-18  -2.0871e-18  -5.7463e-18   4.0954e-19\n",
      "  -1.2401e-18   7.3184e-19   3.5914e-18  -1.3553e-19   1.1249e-18  -6.6238e-19\n",
      "  -5.2177e-19   1.3010e-18   1.0842e-18   7.0473e-19   1.8974e-19  -6.2071e-18\n",
      "  -4.0658e-19   1.3959e-18  -3.3881e-18  -3.1442e-18  -1.7822e-18   9.8933e-19\n",
      "   2.7105e-20   2.4530e-18   1.5043e-18   2.7647e-18  -2.7105e-18   2.0600e-18\n",
      "   4.4723e-19  -4.5520e-18  -1.7618e-18   3.5237e-18  -8.2399e-18  -3.7947e-19\n",
      "  -5.9631e-19   2.6563e-18  -8.6736e-19   2.7105e-18   1.4095e-18   1.6263e-19\n",
      "   1.1723e-18  -1.0300e-18   2.1040e-18  -2.0532e-18  -5.1093e-18  -5.0144e-19\n",
      "  -5.6921e-19   1.5518e-18  -8.8769e-19  -2.6766e-19  -2.2362e-19   2.4395e-19\n",
      "  -1.6941e-19   4.4723e-19   1.1113e-18   1.1655e-18  -3.2526e-19  -1.5721e-18\n",
      "  -6.7085e-19   7.0473e-19   1.5314e-18  -4.1200e-18   2.9816e-18  -3.2526e-18\n",
      "\n",
      " Columns 271 through 276:\n",
      "\n",
      "   1.3010e-18   1.9380e-18   2.1006e-18   1.3553e-20  -3.4017e-18   1.7618e-19\n",
      "  -3.1442e-18   1.4501e-18  -3.0493e-18   7.5962e-18  -4.0251e-18  -1.0368e-18\n",
      "   1.0435e-18  -1.4637e-18   1.2875e-18  -1.4501e-18   7.1490e-18   1.5628e-18\n",
      "  -7.1964e-18   1.0564e-17  -2.5208e-18  -5.6899e-18  -3.8489e-18  -3.4423e-18\n",
      "   1.3553e-18   1.4976e-18  -3.6456e-18  -3.1984e-18  -1.4908e-18  -3.9599e-19\n",
      "  -2.7037e-18  -1.5179e-18   3.7947e-19  -2.1684e-19  -4.8789e-19  -3.1984e-18\n",
      "  -4.9128e-20  -4.2284e-18   1.8160e-18  -3.6592e-18   3.7608e-19   5.3532e-19\n",
      "   1.0774e-18  -2.4818e-18   1.1791e-18   3.5237e-19  -6.7763e-19   1.3417e-18\n",
      "   1.5721e-18  -6.5052e-19  -1.5341e-17   6.3426e-18   1.0266e-18  -1.7076e-18\n",
      "   1.3553e-19   1.6263e-19   8.2670e-19  -1.3146e-18  -4.3368e-19  -4.6079e-19\n",
      "  -4.4723e-18   6.7763e-19   1.4583e-17   2.9002e-18   2.4395e-18   3.3881e-19\n",
      "  -4.9331e-18   1.7212e-18   2.1684e-19  -5.8005e-18  -8.6668e-18   6.7661e-18\n",
      "  -3.4949e-18   5.2516e-19  -2.5343e-18  -3.1171e-18   1.0300e-18  -2.1142e-18\n",
      "  -2.5038e-18   1.0761e-17  -2.0058e-18  -3.1984e-18  -3.0222e-18  -7.4539e-19\n",
      "  -2.5072e-19  -6.0986e-20   2.1261e-18   1.8974e-19   1.3553e-19  -8.5381e-19\n",
      "  -2.1413e-18   5.8411e-18   4.3910e-18  -4.3842e-18   8.4026e-19  -4.1767e-18\n",
      "  -2.7647e-18   7.1659e-18   2.7105e-19   2.6834e-18  -1.1113e-18   2.1684e-19\n",
      "   9.2496e-19   3.8489e-18   2.4937e-18   1.4095e-18  -2.2023e-18   2.0134e-18\n",
      "   5.5294e-18   5.7869e-18  -2.2565e-18  -2.8731e-18  -1.8431e-18  -3.2526e-19\n",
      "  -4.1301e-18  -1.5721e-18   1.4637e-18   8.0366e-18   1.8567e-18   2.0600e-18\n",
      "   2.1684e-19  -2.7105e-18   1.7076e-18  -1.1384e-18   1.3010e-18  -3.5237e-19\n",
      "  -3.9302e-18  -4.5130e-18   3.3610e-18  -9.0395e-18   5.3804e-18  -2.4801e-18\n",
      "   1.5450e-18   9.0802e-19  -1.0774e-18  -5.2177e-19  -1.2875e-19   8.9447e-19\n",
      "   4.4723e-18   2.5750e-18  -7.3184e-19   3.7269e-19   1.7076e-18  -3.7947e-19\n",
      "  -2.3310e-18   2.9545e-18  -1.3824e-18  -4.1843e-19  -9.0802e-19  -1.9041e-18\n",
      "\n",
      " Columns 277 through 282:\n",
      "\n",
      "  -6.7763e-20   8.1315e-19   2.1684e-19   5.4210e-20   1.3553e-20  -2.1176e-22\n",
      "   7.2506e-19  -7.0473e-19   1.4908e-19   1.1858e-19   3.3881e-21  -1.0588e-22\n",
      "  -5.4210e-19  -1.8974e-18  -2.5157e-19   1.4230e-19  -2.0329e-20   2.6470e-23\n",
      "   2.2091e-18   8.1315e-19  -3.8964e-19  -2.7105e-20   2.0329e-20   1.2573e-22\n",
      "   2.2429e-18   7.7249e-19  -5.4210e-20   8.8091e-20   0.0000e+00  -2.1176e-22\n",
      "   3.7947e-19   9.2157e-19   4.3368e-19  -2.7105e-20   2.0329e-20  -2.1176e-22\n",
      "  -6.7763e-20   2.4937e-18   3.2526e-19  -4.2182e-19   0.0000e+00  -5.2940e-22\n",
      "   3.0493e-19   1.0435e-18   4.3876e-19   4.0658e-20   8.4703e-21   5.2940e-22\n",
      "   3.1577e-18  -1.2739e-18  -2.1684e-19   0.0000e+00   1.2705e-20   0.0000e+00\n",
      "  -6.7763e-20   2.7105e-20  -2.7105e-19   6.7763e-21   3.3881e-21  -1.3235e-22\n",
      "   5.9563e-18  -3.8150e-18  -1.2062e-18  -5.4210e-19   1.6941e-20   1.0588e-22\n",
      "   3.1171e-19   7.9960e-19   5.1500e-19  -4.4046e-20  -5.0822e-21  -4.2352e-22\n",
      "  -3.2526e-19  -2.8799e-18   0.0000e+00  -5.0822e-21  -4.7646e-21   2.1176e-22\n",
      "   7.5217e-19  -5.4210e-19  -4.9806e-19   2.7105e-20  -1.6941e-21  -1.0588e-22\n",
      "  -3.9302e-19  -4.4723e-19  -6.2342e-19   6.3358e-19  -6.7763e-21   0.0000e+00\n",
      "   8.4026e-19  -2.9816e-19  -3.5914e-19  -2.7105e-19   1.3553e-20  -2.1176e-22\n",
      "   1.8025e-18  -1.5433e-18  -2.0329e-20   0.0000e+00  -4.2352e-21  -2.6470e-23\n",
      "   6.4883e-19  -5.0144e-19  -2.7783e-19  -5.4210e-20   5.9292e-21  -5.2940e-23\n",
      "   8.6736e-19  -4.4723e-19   1.3553e-19  -1.9312e-19   1.6941e-21  -3.1764e-22\n",
      "   1.8702e-18   6.7763e-20  -1.0164e-19   2.1684e-19   3.3881e-21   1.9852e-23\n",
      "   9.7578e-19   1.0546e-18  -2.2362e-19  -1.0164e-20  -4.8704e-21   0.0000e+00\n",
      "  -5.2313e-18   4.6079e-19   7.4539e-19  -2.7105e-19   4.0658e-20   0.0000e+00\n",
      "  -4.3368e-19   3.2526e-19  -5.4210e-20   2.0329e-20   1.0323e-21   7.9409e-22\n",
      "   1.4095e-18  -1.6178e-19   1.5247e-19  -9.1480e-20   3.3881e-20  -1.3235e-22\n",
      "   1.4332e-18   1.1113e-18  -1.4908e-19  -2.7105e-20   2.0329e-20   0.0000e+00\n",
      "\n",
      " Columns 283 through 288:\n",
      "\n",
      "   2.0329e-20  -4.0658e-20   1.0164e-20  -2.9816e-19   5.6921e-19   3.9387e-20\n",
      "   1.5141e-20   5.2516e-20  -2.1074e-18   2.2362e-19  -1.8296e-19   8.3348e-19\n",
      "  -5.0822e-21  -3.7269e-20   7.3184e-19  -2.3039e-18   2.3751e-18  -1.2604e-18\n"
     ]
    },
    {
     "name": "stdout",
     "output_type": "stream",
     "text": [
      "  -8.4703e-22  -1.3553e-20   1.8974e-19   2.6292e-18   5.7598e-18  -4.0929e-18\n",
      "   1.0164e-20   0.0000e+00  -5.8276e-19  -2.3039e-19  -1.9753e-18  -2.7783e-18\n",
      "   1.6941e-20  -1.3553e-20  -1.9651e-19   6.3697e-19  -1.4840e-18   2.3039e-19\n",
      "  -2.1006e-19  -3.2526e-19  -4.0658e-19  -8.6736e-19   3.0358e-18  -1.2197e-19\n",
      "   4.7434e-20  -1.3553e-19  -5.6921e-19  -2.4801e-18   1.3824e-18   2.4937e-18\n",
      "  -4.4469e-21   1.5585e-19  -2.3378e-19  -2.0871e-18  -4.9873e-18   1.1181e-18\n",
      "   1.5882e-21   0.0000e+00  -3.6592e-19  -1.0842e-19   1.0029e-18  -9.3512e-19\n",
      "   4.7434e-20  -6.7763e-20  -3.1171e-18   1.6390e-18   1.7347e-18   4.7434e-18\n",
      "   4.0658e-20   2.9816e-19   2.0261e-18   5.0686e-18  -2.3852e-18  -6.5865e-18\n",
      "  -1.1858e-20  -1.3553e-19   7.7249e-19   3.7947e-19   4.0115e-18   1.8974e-18\n",
      "  -8.4703e-21  -1.1689e-19   8.1315e-20   3.0629e-18  -1.0354e-17   6.7492e-18\n",
      "  -3.8116e-21   2.7105e-20  -1.3553e-19   4.0658e-19  -3.3204e-19   1.8702e-18\n",
      "   0.0000e+00   1.3553e-20  -9.2157e-19  -1.0842e-19  -4.0658e-19   1.0842e-18\n",
      "  -9.7409e-21  -1.3553e-20  -6.2342e-19   4.6079e-19  -1.5179e-18   4.4181e-18\n",
      "   0.0000e+00  -5.4210e-20  -2.1684e-19   1.8702e-18   2.5208e-18  -8.6736e-19\n",
      "  -1.6941e-21   6.7763e-21   3.7947e-19  -3.2526e-19   7.9960e-19   1.7889e-18\n",
      "  -5.2940e-22  -7.0304e-20   5.4210e-19  -2.6563e-18  -9.2157e-19  -2.1277e-18\n",
      "   0.0000e+00   4.0658e-20   0.0000e+00   3.8354e-18   7.3184e-19  -1.2197e-18\n",
      "   4.4046e-20   1.4908e-19  -7.0473e-19  -3.3881e-18  -1.3553e-18   7.7249e-19\n",
      "   2.0329e-20   5.6751e-20  -1.4230e-19   4.3368e-19  -1.9651e-18  -6.3019e-19\n",
      "   1.2705e-20   2.5750e-19  -7.4539e-19   6.5052e-19   4.9467e-19  -2.4395e-19\n",
      "   2.8799e-20  -7.6233e-20  -8.8091e-20  -5.4210e-20   5.0144e-18   6.0173e-18\n",
      "\n",
      " Columns 289 through 294:\n",
      "\n",
      "  -5.9631e-19   3.0900e-18   1.0029e-18   1.3553e-19  -7.4539e-19  -8.7414e-19\n",
      "  -4.1200e-18   8.6736e-19   7.7249e-19  -1.9516e-18   1.9922e-18  -2.0998e-18\n",
      "  -5.6921e-19  -2.1142e-18  -2.9816e-19   1.3904e-18   3.3339e-18   6.7763e-19\n",
      "   1.2993e-18   1.8702e-18  -1.8567e-18   0.0000e+00  -4.4452e-18   1.9516e-18\n",
      "  -4.3368e-19   1.5450e-18  -1.7754e-18   4.7705e-18   1.3553e-19   1.8974e-18\n",
      "  -2.2836e-18  -1.2858e-18  -4.0658e-20   1.5721e-18  -1.1469e-18  -5.5565e-19\n",
      "  -2.1684e-19  -1.3824e-18  -2.7105e-20   5.1500e-19  -3.0629e-18  -4.7434e-19\n",
      "   1.0842e-19   3.3881e-19  -1.4366e-18  -1.3553e-19   3.2526e-19  -2.4259e-18\n",
      "   3.6524e-18   3.1171e-18   1.6534e-18  -2.0871e-18   1.3553e-19  -1.1113e-18\n",
      "  -1.0097e-18   9.4868e-20   4.7434e-19   9.2157e-19   2.1684e-19   2.6563e-18\n",
      "  -5.8547e-18  -9.6223e-18   7.7656e-18   2.7105e-19  -3.3136e-18  -1.7618e-19\n",
      "  -3.0663e-18   4.2690e-18   2.5469e-19   3.0493e-18   1.6805e-18  -3.8083e-18\n",
      "   2.3717e-18   5.4210e-19   1.3417e-18   2.0600e-18   3.0900e-18  -1.3010e-18\n",
      "   7.8605e-19  -4.0929e-18   1.0164e-19  -1.4637e-18   4.1200e-18   3.2391e-18\n",
      "   2.6021e-18   8.3348e-19  -1.3756e-18   1.1858e-18   2.9138e-19   5.9631e-19\n",
      "   1.5450e-18   2.8460e-19  -6.7085e-19  -1.5992e-18  -2.7105e-19  -3.0451e-19\n",
      "   3.2391e-18  -2.0600e-18   1.4772e-18   1.8974e-18  -1.5992e-18   2.1006e-18\n",
      "  -1.8093e-18  -2.0464e-18  -3.7405e-18  -9.4868e-19  -2.8460e-18  -1.5179e-18\n",
      "   2.5479e-18   4.0658e-19  -1.7957e-18  -9.4190e-19  -3.2526e-19  -5.4210e-20\n",
      "   1.6805e-18  -1.4908e-19   4.4723e-18  -1.8025e-18   4.3639e-18  -1.5043e-18\n",
      "   2.6563e-18  -8.6736e-19  -1.0029e-18   1.4976e-18  -5.1500e-18   7.5894e-19\n",
      "  -4.9263e-18  -5.6921e-19  -4.3368e-18  -4.9060e-18  -2.1955e-18  -1.6947e-18\n",
      "   4.2013e-19  -1.0842e-19   4.3368e-19   4.8789e-19  -6.7763e-19   3.6592e-19\n",
      "  -3.2526e-18  -1.7889e-18  -9.7578e-19   8.8091e-19  -1.0842e-18  -9.5545e-19\n",
      "  -1.3010e-18  -4.1200e-18   7.5894e-19   6.5052e-19   3.0087e-18   1.7889e-18\n",
      "\n",
      " Columns 295 through 300:\n",
      "\n",
      "   7.1828e-19  -7.3522e-19   1.9651e-19   6.6407e-19   1.3553e-20  -6.4375e-20\n",
      "   2.5479e-18  -1.1113e-18  -1.7974e-18   1.3553e-20   6.7763e-20  -2.5835e-20\n",
      "  -1.9770e-18  -1.4908e-18   1.1384e-18   2.2700e-19  -1.0842e-19  -1.0842e-19\n",
      "  -6.7763e-20   1.2333e-18   9.9611e-19   2.0329e-20   7.9621e-19  -1.0842e-19\n",
      "  -3.8760e-18  -1.5179e-18   8.1315e-20   2.7105e-20  -1.3553e-19  -1.2197e-19\n",
      "   1.7347e-18  -1.2468e-18   1.8974e-19  -4.2690e-19   0.0000e+00  -2.7105e-20\n",
      "   0.0000e+00   6.0648e-19  -1.6941e-19   4.3537e-19  -2.9816e-19   1.0651e-19\n",
      "  -2.6970e-18  -1.1926e-18   4.0658e-19  -2.4395e-19   2.0329e-20   1.6941e-20\n",
      "   1.8838e-18  -4.0658e-19   1.0300e-18   6.6407e-19  -8.1315e-20   4.0658e-20\n",
      "   1.2197e-19   1.2197e-19   2.9392e-19   3.0493e-19   1.6263e-19  -2.5411e-21\n",
      "   1.1113e-18  -7.6707e-18   1.1926e-18   8.9108e-19   5.8445e-20   6.7763e-20\n",
      "  -1.4569e-18  -1.1655e-18   1.2875e-19   6.7763e-20   2.0329e-20   3.3881e-20\n",
      "  -1.0164e-20   1.6263e-18   1.1926e-18  -6.9118e-19   1.0842e-19   1.1858e-20\n",
      "   4.1471e-18  -3.8083e-18   1.0706e-18  -5.4210e-19   2.1684e-19   1.4908e-19\n",
      "  -1.2197e-18  -3.3204e-19  -9.1988e-19  -1.0842e-19   9.4868e-20  -8.8091e-20\n",
      "   1.9651e-18  -1.7076e-18  -9.4868e-20   4.3114e-19   1.1520e-19   2.7105e-20\n",
      "   4.7434e-19  -1.0164e-18  -1.4772e-18  -3.1171e-19  -5.7598e-20   1.0164e-20\n",
      "  -2.9138e-19   5.8615e-19  -6.7763e-19   5.0822e-20  -1.4908e-19   2.3717e-20\n",
      "  -8.1315e-19  -3.5237e-19   6.2342e-19   5.4210e-20   1.4400e-20  -4.5740e-20\n",
      "  -1.3553e-18  -2.6834e-18   6.9287e-19   7.7080e-20   4.3368e-19  -4.0658e-20\n",
      "  -2.7105e-20  -6.6407e-19  -5.4718e-19   4.4046e-20   1.7957e-19  -6.7763e-21\n",
      "  -3.7947e-19   1.2062e-18  -3.6050e-18   1.1791e-18  -2.7105e-20   1.0842e-19\n",
      "   3.3881e-19   3.2526e-19  -1.0842e-19  -4.0658e-20  -1.3553e-19  -7.1998e-21\n",
      "  -2.9138e-19  -1.4637e-18  -7.5894e-19  -7.4539e-19   6.7763e-20  -6.0986e-20\n",
      "  -5.5565e-19  -2.5343e-18   1.2062e-18  -1.8974e-19  -1.4908e-19   4.7434e-20\n",
      "\n",
      " Columns 301 through 306:\n",
      "\n",
      "  -2.5411e-21   0.0000e+00   2.5411e-21  -1.0842e-19   7.9833e-20   7.0473e-19\n",
      "  -4.3410e-21  -5.2940e-23   1.6941e-21   7.8774e-20  -4.7434e-20  -1.1113e-18\n",
      "  -1.3553e-20  -6.6174e-24  -2.5411e-21   0.0000e+00   4.0658e-19  -2.8460e-19\n",
      "   0.0000e+00   0.0000e+00   5.0822e-21  -1.1858e-20  -6.2342e-19   0.0000e+00\n",
      "   8.4703e-22   2.1176e-22   5.0822e-21   4.0658e-20   1.8974e-19   5.4210e-19\n",
      "   0.0000e+00   1.5882e-22   0.0000e+00   3.1340e-20   1.2197e-19   1.1858e-19\n",
      "  -3.3881e-21   0.0000e+00   0.0000e+00   0.0000e+00   8.1315e-19  -2.1413e-18\n",
      "   5.0822e-21   3.4411e-22  -5.0822e-21   4.0658e-20  -8.1315e-20  -5.1500e-19\n",
      "  -6.3527e-22   2.6470e-23  -2.9117e-21  -4.5740e-20   1.1350e-19  -1.9312e-19\n",
      "   0.0000e+00   5.2940e-23   3.8116e-21   3.0493e-20   9.4868e-20  -1.7618e-19\n",
      "   1.0164e-20   0.0000e+00  -5.0822e-21   6.0986e-20  -5.1500e-19  -1.3824e-18\n",
      "  -1.2705e-21  -2.1176e-22   6.7763e-21   3.3881e-20  -7.3353e-19   1.1520e-18\n",
      "  -5.9292e-21   0.0000e+00  -1.6941e-21  -4.0658e-20   6.4375e-20  -2.4395e-19\n",
      "   1.0164e-20  -5.2940e-23   0.0000e+00   1.6941e-20  -2.9816e-19   3.1713e-18\n",
      "  -3.3881e-21  -8.2718e-24  -5.1616e-22  -3.3881e-21   2.8121e-19   2.1684e-19\n",
      "   1.4823e-21   0.0000e+00   5.0822e-21   1.5077e-19  -3.5237e-19   3.8625e-19\n",
      "  -3.3881e-21   0.0000e+00   5.0822e-21   0.0000e+00   4.9467e-19  -1.1045e-18\n",
      "  -3.3881e-21  -1.0588e-22   8.4703e-21   3.5575e-20  -3.2526e-19  -3.1171e-19\n",
      "   1.6941e-21   0.0000e+00  -1.9058e-21   5.9292e-20  -4.3368e-19  -1.1520e-18\n",
      "   9.5291e-22   5.2940e-23   1.2705e-21  -1.1858e-20   2.1684e-19   1.3553e-19\n",
      "   1.6941e-21  -6.6174e-23   5.0822e-21   9.2221e-20   1.7618e-19   3.7481e-19\n",
      "   3.3881e-21  -2.1176e-22   6.7763e-21   0.0000e+00  -2.7105e-20   2.7647e-18\n",
      "  -2.1176e-22   4.2352e-22   1.6941e-21   4.0658e-20  -7.7927e-20   2.0329e-20\n",
      "   1.3553e-20  -5.2940e-23  -4.2352e-22   0.0000e+00  -2.0329e-19   8.5381e-19\n",
      "   4.8704e-21  -2.1176e-22  -1.3553e-20   1.1520e-19  -2.8460e-19   9.7578e-19\n",
      "\n",
      " Columns 307 through 312:\n",
      "\n",
      "   2.9816e-19  -2.9816e-19  -1.0164e-19   1.0842e-19  -3.2526e-19  -6.7763e-19\n",
      "  -5.6921e-19  -2.7715e-18  -1.2197e-18  -6.7763e-19  -2.0329e-19   3.9980e-19\n",
      "   8.1993e-19   7.6233e-19  -8.1315e-19  -8.1315e-20  -3.1171e-19  -3.4559e-19\n",
      "  -5.9631e-19  -3.1984e-18  -2.9002e-18  -2.8731e-18   1.4230e-18  -2.6292e-18\n",
      "  -1.4637e-18  -2.7444e-19   1.4772e-18  -1.3824e-18  -4.2013e-19  -9.1480e-19\n",
      "  -4.3368e-19   6.5052e-19   2.9900e-19   9.9950e-20  -8.4703e-21   1.3553e-19\n",
      "   2.0058e-18   2.1142e-18  -1.0131e-18   1.5450e-18   1.0842e-19   2.7105e-19\n",
      "   1.1655e-18   0.0000e+00   0.0000e+00  -3.9641e-19  -2.8460e-19  -4.0658e-20\n",
      "   3.7269e-19   2.0939e-18   1.9583e-18   1.0097e-18  -1.4908e-19   7.8605e-19\n",
      "   5.5565e-19  -2.4733e-19  -1.0842e-18  -6.7763e-19   5.2177e-19   1.4230e-19\n",
      "   1.2739e-18  -5.2177e-18  -6.7763e-19  -4.8315e-18  -3.5237e-19   3.3610e-18\n",
      "   2.7105e-20   1.5043e-18  -8.1315e-20   1.7042e-18   1.3010e-18  -1.3756e-18\n",
      "  -9.6223e-19   1.5721e-18  -6.7763e-19  -2.1684e-19  -8.9447e-19  -8.9447e-19\n",
      "  -6.7763e-20   1.9550e-18   6.0309e-19   2.1955e-18   9.0124e-19   1.6263e-18\n",
      "   6.2172e-19  -1.0706e-18  -5.8276e-19   1.0842e-19  -8.1315e-20  -2.1684e-19\n",
      "   7.9960e-19   5.6921e-19  -2.5750e-19   1.6263e-19   8.6736e-19   1.4637e-18\n",
      "  -6.9118e-19  -5.6921e-19  -2.1684e-19   7.0473e-19   1.5585e-19  -1.2333e-18\n",
      "   5.6921e-19  -1.6941e-18  -1.6941e-18  -2.7105e-19  -4.0658e-19   2.7105e-19\n",
      "   1.1113e-18   2.1684e-19   1.0300e-18  -1.3553e-19   4.6079e-19  -8.6736e-19\n",
      "   2.1684e-18   7.3184e-19  -3.4152e-18  -5.3939e-18  -2.1955e-18  -9.6223e-19\n",
      "   1.2943e-18  -1.5179e-18   5.6921e-19  -2.4395e-19  -1.4501e-18  -8.6736e-19\n",
      "  -3.8218e-18  -6.7763e-19  -1.7347e-18  -7.0473e-19  -8.9447e-19  -1.4366e-18\n",
      "  -1.8846e-19  -8.3856e-20   8.6736e-19   8.6736e-19   5.4210e-19   5.9631e-19\n",
      "   1.6602e-19  -1.6263e-19  -1.7889e-18   2.7105e-18  -6.9118e-19   9.6223e-19\n",
      "  -1.4095e-18  -2.0600e-18   1.7483e-18  -8.6736e-19  -1.0842e-19   9.7578e-19\n",
      "\n",
      " Columns 313 through 318:\n",
      "\n",
      "  -2.2362e-19  -1.8974e-19   3.2526e-19   3.2526e-19  -1.0164e-20  -1.1181e-19\n",
      "   2.6427e-19  -6.3697e-19   8.8091e-19  -1.5992e-18   9.4868e-20  -2.7105e-20\n",
      "   1.2401e-18  -1.5721e-18  -1.7618e-19  -1.3553e-20  -2.7105e-20   4.3368e-19\n",
      "  -1.8702e-18   1.2468e-18  -4.8789e-19  -1.4637e-18  -3.7947e-19  -1.7347e-18\n",
      "   1.5145e-18   8.1315e-20  -8.6736e-19   5.1500e-19   2.9816e-19   5.4210e-20\n",
      "  -1.4120e-18  -1.2739e-18  -1.0842e-18  -9.7578e-19  -6.7763e-20  -3.7269e-20\n",
      "   2.7105e-19  -1.9651e-19   2.5411e-18   1.7618e-19  -5.0907e-19  -2.2531e-19\n",
      "  -6.9118e-19   4.8789e-19  -3.5237e-19   1.6263e-19  -5.4210e-20  -1.3553e-19\n",
      "  -1.3281e-18   3.9302e-19  -2.4395e-19  -1.8974e-19   5.8276e-19  -1.7618e-19\n",
      "  -2.4395e-19   7.5894e-19  -1.4366e-18  -2.1684e-19   8.4703e-20  -3.3881e-20\n",
      "  -1.0164e-18   0.0000e+00   2.4937e-18  -1.0842e-18  -4.8789e-19   5.3194e-19\n",
      "  -1.8974e-19   2.6970e-18  -1.9245e-18   1.1249e-18  -3.8625e-19  -4.9128e-20\n",
      "  -1.8160e-18  -3.7947e-19   6.7763e-19   8.4026e-19  -5.1500e-19   1.3553e-19\n",
      "   3.6592e-19   3.0629e-18   2.1684e-18  -6.7763e-19  -3.2526e-19   1.1181e-19\n",
      "   1.4908e-19   2.7105e-19  -3.2357e-19   1.2197e-19  -1.2134e-19   1.0503e-19\n",
      "  -4.6079e-19   2.1413e-18  -1.5721e-18   8.6736e-19  -1.6263e-19   2.9816e-19\n",
      "  -2.4395e-19   2.5885e-18  -1.4908e-19  -1.1113e-18  -9.4868e-19  -2.7105e-19\n",
      "  -7.0473e-19   7.8605e-19  -1.1113e-18  -2.3717e-19   5.6921e-19   2.0329e-20\n",
      "  -1.0842e-19   3.4966e-18   6.6407e-19   4.5401e-19   3.9302e-19  -8.1315e-20\n",
      "   4.2013e-19   3.9302e-19  -5.8276e-19  -5.6921e-19  -1.1520e-19   1.4908e-19\n",
      "   4.6079e-19   1.1655e-18   1.3688e-18   1.1181e-19  -3.3881e-19   0.0000e+00\n",
      "  -3.8964e-20  -1.7703e-19  -1.5450e-18  -2.2836e-18   1.7618e-19   4.3368e-19\n",
      "   5.1500e-19   3.5237e-19  -8.1315e-20  -2.1684e-19   2.4395e-19   1.3553e-19\n",
      "  -9.7917e-19   4.8789e-19   2.2362e-19   1.4095e-18  -1.8974e-19   1.7618e-19\n",
      "   6.7763e-20   6.2934e-19  -9.8086e-19   6.2511e-19   1.3891e-18   5.0822e-21\n",
      "\n",
      " Columns 319 through 324:\n",
      "\n",
      "   6.7763e-21  -6.7763e-21   6.7763e-21   5.2940e-23  -2.5411e-21  -4.0658e-20\n",
      "  -3.0493e-20   8.4703e-22   5.4210e-20  -2.6470e-23  -2.3293e-21  -3.3881e-20\n",
      "   1.7618e-19  -8.1315e-20   0.0000e+00   0.0000e+00   1.6941e-21   4.0697e-21\n",
      "  -1.4908e-19  -2.7105e-20   1.3553e-20  -1.3235e-23   5.2940e-22  -6.3527e-22\n",
      "  -1.4908e-19   0.0000e+00   0.0000e+00  -5.2940e-23   2.5411e-21  -2.7105e-20\n",
      "   0.0000e+00   1.3553e-20   3.3881e-21   6.6174e-24   8.4703e-22   5.7175e-21\n",
      "   2.7105e-20  -2.1176e-20   0.0000e+00   2.6470e-23   4.2352e-22  -2.7105e-20\n",
      "  -5.4210e-20   3.3881e-20   0.0000e+00   2.6470e-23  -8.4703e-22  -4.3199e-20\n",
      "   8.1315e-20   3.3881e-20   6.7763e-21   0.0000e+00   1.0588e-21  -6.7763e-21\n",
      "   2.7105e-20  -1.3553e-20  -1.1858e-20   0.0000e+00   0.0000e+00  -1.6941e-21\n",
      "  -6.6069e-20   7.4539e-20   2.6470e-21   0.0000e+00   2.1176e-21  -2.1176e-20\n",
      "   3.0493e-20  -1.3129e-20   5.0822e-21  -2.6470e-23  -2.3293e-21   1.7364e-20\r"
     ]
    },
    {
     "name": "stderr",
     "output_type": "stream",
     "text": [
      "IOPub message rate exceeded.\n",
      "The notebook server will temporarily stop sending output\n",
      "to the client in order to avoid crashing it.\n",
      "To change this limit, set the config variable\n",
      "`--NotebookApp.iopub_msg_rate_limit`.\n",
      "\n",
      "Current values:\n",
      "NotebookApp.iopub_msg_rate_limit=1000.0 (msgs/sec)\n",
      "NotebookApp.rate_limit_window=3.0 (secs)\n",
      "\n"
     ]
    }
   ],
   "source": [
    "Theta2_grad - (delta_3 * a2) / m\n",
    "Theta1_grad .- (delta_2 * a1) / m"
   ]
  },
  {
   "cell_type": "code",
   "execution_count": 94,
   "metadata": {
    "ExecuteTime": {
     "end_time": "2020-08-24T04:37:29.600150Z",
     "start_time": "2020-08-24T04:37:29.519474Z"
    }
   },
   "outputs": [
    {
     "name": "stdout",
     "output_type": "stream",
     "text": [
      "\n",
      "Checking Backpropagation... \n",
      "  -0.0092782524  -0.0092782524\n",
      "   0.0088991196   0.0088991196\n",
      "  -0.0083601076  -0.0083601076\n",
      "   0.0076281355   0.0076281355\n",
      "  -0.0067479837  -0.0067479837\n",
      "  -0.0000030498  -0.0000030498\n",
      "   0.0000142869   0.0000142869\n",
      "  -0.0000259383  -0.0000259383\n",
      "   0.0000369883   0.0000369883\n",
      "  -0.0000468760  -0.0000468760\n",
      "  -0.0001750601  -0.0001750601\n",
      "   0.0002331464   0.0002331464\n",
      "  -0.0002874687  -0.0002874687\n",
      "   0.0003353203   0.0003353203\n",
      "  -0.0003762156  -0.0003762156\n",
      "  -0.0000962661  -0.0000962661\n",
      "   0.0001179827   0.0001179827\n",
      "  -0.0001371497  -0.0001371497\n",
      "   0.0001532471   0.0001532471\n",
      "  -0.0001665603  -0.0001665603\n",
      "   0.3145449700   0.3145449701\n",
      "   0.1110565882   0.1110565882\n",
      "   0.0974006970   0.0974006970\n",
      "   0.1640908188   0.1640908188\n",
      "   0.0575736493   0.0575736493\n",
      "   0.0504575855   0.0504575855\n",
      "   0.1645679323   0.1645679323\n",
      "   0.0577867378   0.0577867378\n",
      "   0.0507530173   0.0507530173\n",
      "   0.1583393339   0.1583393339\n",
      "   0.0559235296   0.0559235296\n",
      "   0.0491620841   0.0491620841\n",
      "   0.1511275275   0.1511275275\n",
      "   0.0536967009   0.0536967009\n",
      "   0.0471456249   0.0471456249\n",
      "   0.1495683347   0.1495683347\n",
      "   0.0531542052   0.0531542052\n",
      "   0.0465597186   0.0465597186\n",
      "The above two columns you get should be very similar.\n",
      "(Left-Your Numerical Gradient, Right-Analytical Gradient)\n",
      "\n",
      "If your backpropagation implementation is correct, then \n",
      "the relative difference will be small (less than 1e-9). \n",
      "\n",
      "Relative Difference: 2.27297e-11\n"
     ]
    }
   ],
   "source": [
    "%% =============== Part 7: Implement Backpropagation ===============\n",
    "%  Once your cost matches up with ours, you should proceed to implement the\n",
    "%  backpropagation algorithm for the neural network. You should add to the\n",
    "%  code you've written in nnCostFunction.m to return the partial\n",
    "%  derivatives of the parameters.\n",
    "%\n",
    "fprintf('\\nChecking Backpropagation... \\n');\n",
    "\n",
    "%  Check gradients by running checkNNGradients\n",
    "checkNNGradients;"
   ]
  },
  {
   "cell_type": "markdown",
   "metadata": {},
   "source": [
    "## 2.4. Gradient checking \n",
    "\n",
    "`computeNumericalGradient.m`\n",
    "\n",
    "- gradient checking이 잘되었다 싶으면, 끄고(turn-off) 학습을 진행할 것 \n",
    "- 기울기를 계산하는 어떤 모델에도 적용할 수 있으므로, logistic regression에서의 cost function에도 적용해볼 수 있다."
   ]
  },
  {
   "cell_type": "code",
   "execution_count": null,
   "metadata": {},
   "outputs": [],
   "source": []
  },
  {
   "cell_type": "markdown",
   "metadata": {},
   "source": [
    "## 2.5. Regularized Neural Networks\n",
    "\n",
    "> regularization의 적용은 backprop으로 gradient를 계산한 뒤에 항목을 추가해주는 것으로 충분\n",
    "\n",
    "\n",
    "$$\n",
    "\\begin{align}\n",
    "&\\dfrac{\\partial}{\\partial \\Theta_{ij}^{(l)}} = D_{ij}^{(l)} = \\dfrac{1}{m}\\Delta_{ij}^{(l)} \n",
    "&\\text{for} \\ j=0 \\\\\n",
    "&\\dfrac{\\partial}{\\partial \\Theta_{ij}^{(l)}} = D_{ij}^{(l)} = \\dfrac{1}{m}\\Delta_{ij}^{(l)} + \\dfrac{\\lambda}{m}\\Theta_{ij}^{(l)} \n",
    "&\\text{for} \\ j \\geq 1\n",
    "\\end{align}\n",
    "$$"
   ]
  },
  {
   "cell_type": "code",
   "execution_count": 97,
   "metadata": {
    "ExecuteTime": {
     "end_time": "2020-08-24T05:39:56.989196Z",
     "start_time": "2020-08-24T05:39:56.974932Z"
    }
   },
   "outputs": [
    {
     "name": "stdout",
     "output_type": "stream",
     "text": [
      "\r\n",
      "Checking Backpropagation (w/ Regularization) ... \r\n"
     ]
    }
   ],
   "source": [
    "fprintf('\\nChecking Backpropagation (w/ Regularization) ... \\n')\n",
    "\n",
    "%  Check gradients by running checkNNGradients\n",
    "lambda = 3;\n"
   ]
  },
  {
   "cell_type": "code",
   "execution_count": 101,
   "metadata": {
    "ExecuteTime": {
     "end_time": "2020-08-24T05:41:56.061206Z",
     "start_time": "2020-08-24T05:41:56.036102Z"
    }
   },
   "outputs": [
    {
     "name": "stdout",
     "output_type": "stream",
     "text": [
      "reg2 =\n",
      "\n",
      " Columns 1 through 6:\n",
      "\n",
      "   0.0000000  -0.0007275  -0.0000611  -0.0014211  -0.0006347  -0.0013249\n",
      "   0.0000000   0.0003694  -0.0007593   0.0011145  -0.0005511  -0.0000330\n",
      "   0.0000000  -0.0011672   0.0012082  -0.0018739  -0.0001417   0.0008321\n",
      "   0.0000000   0.0002778   0.0003510  -0.0000990   0.0011596  -0.0001378\n",
      "   0.0000000  -0.0012269   0.0012342   0.0011706   0.0001058  -0.0012968\n",
      "   0.0000000   0.0002606  -0.0005590   0.0001103  -0.0002165   0.0003717\n",
      "   0.0000000   0.0007294  -0.0009006  -0.0012192  -0.0009142  -0.0014624\n",
      "   0.0000000  -0.0004335  -0.0018914   0.0002195   0.0001189  -0.0004384\n",
      "   0.0000000   0.0003216   0.0007818  -0.0006202  -0.0024185   0.0003490\n",
      "   0.0000000  -0.0008637  -0.0007309   0.0004266   0.0002713  -0.0002157\n",
      "\n",
      " Columns 7 through 12:\n",
      "\n",
      "   0.0003383   0.0007266   0.0013262   0.0002667  -0.0007095   0.0006257\n",
      "  -0.0002315   0.0007771  -0.0009411  -0.0005822  -0.0013100  -0.0017102\n",
      "   0.0005459  -0.0009286  -0.0004790  -0.0003936   0.0004412  -0.0015516\n",
      "  -0.0011084   0.0002941   0.0006429  -0.0019914   0.0009247   0.0002242\n",
      "  -0.0002424   0.0010809  -0.0009377  -0.0001515   0.0001415   0.0004299\n",
      "   0.0002317  -0.0015909   0.0013783  -0.0012529  -0.0011183   0.0006363\n",
      "  -0.0014254  -0.0008399  -0.0005324  -0.0003797   0.0009027  -0.0009485\n",
      "   0.0009916  -0.0013802  -0.0011248   0.0005886  -0.0009530   0.0008126\n",
      "  -0.0015943   0.0004823  -0.0006555   0.0014995   0.0002172   0.0003972\n",
      "   0.0003737  -0.0004020  -0.0004241   0.0000379  -0.0007392  -0.0010479\n",
      "\n",
      " Columns 13 through 18:\n",
      "\n",
      "  -0.0009634   0.0007825   0.0008231   0.0010490  -0.0001402  -0.0009121\n",
      "  -0.0012464   0.0009790   0.0002094   0.0010967  -0.0014650  -0.0005138\n",
      "   0.0002833   0.0003321   0.0015075  -0.0014500  -0.0009834   0.0007216\n",
      "  -0.0005189  -0.0015496   0.0005824  -0.0003061  -0.0004106  -0.0009883\n",
      "   0.0006461  -0.0002127  -0.0010065  -0.0000776  -0.0004049   0.0006844\n",
      "   0.0004654   0.0012808  -0.0006898  -0.0003125   0.0005985  -0.0008899\n",
      "   0.0003516  -0.0004652   0.0005655   0.0012655   0.0003269   0.0002626\n",
      "   0.0013074  -0.0011954  -0.0012022  -0.0002332  -0.0014040  -0.0017503\n",
      "  -0.0005530  -0.0004987  -0.0012012  -0.0017694   0.0003874  -0.0006607\n",
      "  -0.0016318  -0.0013286  -0.0010158  -0.0005456   0.0005271   0.0007120\n",
      "\n",
      " Columns 19 through 24:\n",
      "\n",
      "   0.0006919   0.0000622  -0.0002232  -0.0003692  -0.0000754  -0.0013632\n",
      "  -0.0001790  -0.0012477  -0.0007760   0.0005399   0.0001698   0.0013871\n",
      "  -0.0007215  -0.0011007  -0.0011281  -0.0002043   0.0001422  -0.0006368\n",
      "   0.0001269  -0.0001645   0.0010356   0.0007945  -0.0015839  -0.0000483\n",
      "   0.0007946   0.0019270  -0.0012953  -0.0015610  -0.0019336  -0.0011377\n",
      "  -0.0013884   0.0001771  -0.0002322  -0.0013236   0.0001842  -0.0007059\n",
      "  -0.0007681  -0.0000262   0.0008865  -0.0006797  -0.0004371   0.0000284\n",
      "   0.0005964  -0.0016229  -0.0007628   0.0011165  -0.0007231  -0.0002281\n",
      "   0.0004471   0.0003510  -0.0011973   0.0003755   0.0010836  -0.0001339\n",
      "  -0.0011222   0.0002388   0.0010327  -0.0008216   0.0005148  -0.0001487\n",
      "\n",
      " Columns 25 and 26:\n",
      "\n",
      "  -0.0004310  -0.0007781\n",
      "  -0.0014787   0.0008739\n",
      "   0.0006166  -0.0002861\n",
      "  -0.0012211  -0.0008767\n",
      "  -0.0005249   0.0015062\n",
      "  -0.0009808  -0.0004948\n",
      "   0.0009945   0.0010112\n",
      "   0.0004252  -0.0012661\n",
      "  -0.0008427  -0.0012791\n",
      "   0.0007681  -0.0007965\n",
      "\n",
      "reg2 =\n",
      "\n",
      " Columns 1 through 6:\n",
      "\n",
      "   0.0000000  -0.0007275  -0.0000611  -0.0014211  -0.0006347  -0.0013249\n",
      "   0.0000000   0.0003694  -0.0007593   0.0011145  -0.0005511  -0.0000330\n",
      "   0.0000000  -0.0011672   0.0012082  -0.0018739  -0.0001417   0.0008321\n",
      "   0.0000000   0.0002778   0.0003510  -0.0000990   0.0011596  -0.0001378\n",
      "   0.0000000  -0.0012269   0.0012342   0.0011706   0.0001058  -0.0012968\n",
      "   0.0000000   0.0002606  -0.0005590   0.0001103  -0.0002165   0.0003717\n",
      "   0.0000000   0.0007294  -0.0009006  -0.0012192  -0.0009142  -0.0014624\n",
      "   0.0000000  -0.0004335  -0.0018914   0.0002195   0.0001189  -0.0004384\n",
      "   0.0000000   0.0003216   0.0007818  -0.0006202  -0.0024185   0.0003490\n",
      "   0.0000000  -0.0008637  -0.0007309   0.0004266   0.0002713  -0.0002157\n",
      "\n",
      " Columns 7 through 12:\n",
      "\n",
      "   0.0003383   0.0007266   0.0013262   0.0002667  -0.0007095   0.0006257\n",
      "  -0.0002315   0.0007771  -0.0009411  -0.0005822  -0.0013100  -0.0017102\n",
      "   0.0005459  -0.0009286  -0.0004790  -0.0003936   0.0004412  -0.0015516\n",
      "  -0.0011084   0.0002941   0.0006429  -0.0019914   0.0009247   0.0002242\n",
      "  -0.0002424   0.0010809  -0.0009377  -0.0001515   0.0001415   0.0004299\n",
      "   0.0002317  -0.0015909   0.0013783  -0.0012529  -0.0011183   0.0006363\n",
      "  -0.0014254  -0.0008399  -0.0005324  -0.0003797   0.0009027  -0.0009485\n",
      "   0.0009916  -0.0013802  -0.0011248   0.0005886  -0.0009530   0.0008126\n",
      "  -0.0015943   0.0004823  -0.0006555   0.0014995   0.0002172   0.0003972\n",
      "   0.0003737  -0.0004020  -0.0004241   0.0000379  -0.0007392  -0.0010479\n",
      "\n",
      " Columns 13 through 18:\n",
      "\n",
      "  -0.0009634   0.0007825   0.0008231   0.0010490  -0.0001402  -0.0009121\n",
      "  -0.0012464   0.0009790   0.0002094   0.0010967  -0.0014650  -0.0005138\n",
      "   0.0002833   0.0003321   0.0015075  -0.0014500  -0.0009834   0.0007216\n",
      "  -0.0005189  -0.0015496   0.0005824  -0.0003061  -0.0004106  -0.0009883\n",
      "   0.0006461  -0.0002127  -0.0010065  -0.0000776  -0.0004049   0.0006844\n",
      "   0.0004654   0.0012808  -0.0006898  -0.0003125   0.0005985  -0.0008899\n",
      "   0.0003516  -0.0004652   0.0005655   0.0012655   0.0003269   0.0002626\n",
      "   0.0013074  -0.0011954  -0.0012022  -0.0002332  -0.0014040  -0.0017503\n",
      "  -0.0005530  -0.0004987  -0.0012012  -0.0017694   0.0003874  -0.0006607\n",
      "  -0.0016318  -0.0013286  -0.0010158  -0.0005456   0.0005271   0.0007120\n",
      "\n",
      " Columns 19 through 24:\n",
      "\n",
      "   0.0006919   0.0000622  -0.0002232  -0.0003692  -0.0000754  -0.0013632\n",
      "  -0.0001790  -0.0012477  -0.0007760   0.0005399   0.0001698   0.0013871\n",
      "  -0.0007215  -0.0011007  -0.0011281  -0.0002043   0.0001422  -0.0006368\n",
      "   0.0001269  -0.0001645   0.0010356   0.0007945  -0.0015839  -0.0000483\n",
      "   0.0007946   0.0019270  -0.0012953  -0.0015610  -0.0019336  -0.0011377\n",
      "  -0.0013884   0.0001771  -0.0002322  -0.0013236   0.0001842  -0.0007059\n",
      "  -0.0007681  -0.0000262   0.0008865  -0.0006797  -0.0004371   0.0000284\n",
      "   0.0005964  -0.0016229  -0.0007628   0.0011165  -0.0007231  -0.0002281\n",
      "   0.0004471   0.0003510  -0.0011973   0.0003755   0.0010836  -0.0001339\n",
      "  -0.0011222   0.0002388   0.0010327  -0.0008216   0.0005148  -0.0001487\n",
      "\n",
      " Columns 25 and 26:\n",
      "\n",
      "  -0.0004310  -0.0007781\n",
      "  -0.0014787   0.0008739\n",
      "   0.0006166  -0.0002861\n",
      "  -0.0012211  -0.0008767\n",
      "  -0.0005249   0.0015062\n",
      "  -0.0009808  -0.0004948\n",
      "   0.0009945   0.0010112\n",
      "   0.0004252  -0.0012661\n",
      "  -0.0008427  -0.0012791\n",
      "   0.0007681  -0.0007965\n",
      "\n"
     ]
    }
   ],
   "source": [
    "reg2 = (lambda / m) * Theta2;\n",
    "reg1 = (lambda / m) * Theta1;\n",
    "\n",
    "reg2(:,1) = 0;\n",
    "reg1(:. 1) = 0;\n",
    "\n",
    "reg2"
   ]
  },
  {
   "cell_type": "code",
   "execution_count": 104,
   "metadata": {
    "ExecuteTime": {
     "end_time": "2020-08-24T05:43:29.993897Z",
     "start_time": "2020-08-24T05:43:29.925004Z"
    }
   },
   "outputs": [
    {
     "name": "stdout",
     "output_type": "stream",
     "text": [
      "  -0.009278252  -0.009278252\r\n",
      "   0.008899120   0.008899120\r\n",
      "  -0.008360108  -0.008360108\r\n",
      "   0.007628136   0.007628136\r\n",
      "  -0.006747984  -0.006747984\r\n",
      "  -0.016767980  -0.016767980\r\n",
      "   0.039433483   0.039433483\r\n",
      "   0.059335556   0.059335556\r\n",
      "   0.024764097   0.024764097\r\n",
      "  -0.032688143  -0.032688143\r\n",
      "  -0.060174472  -0.060174472\r\n",
      "  -0.031961229  -0.031961229\r\n",
      "   0.024922553   0.024922553\r\n",
      "   0.059771762   0.059771762\r\n",
      "   0.038641055   0.038641055\r\n",
      "  -0.017370465  -0.017370465\r\n",
      "  -0.057565867  -0.057565867\r\n",
      "  -0.045196385  -0.045196385\r\n",
      "   0.009145880   0.009145880\r\n",
      "   0.054610155   0.054610155\r\n",
      "   0.314544970   0.314544970\r\n",
      "   0.111056588   0.111056588\r\n",
      "   0.097400697   0.097400697\r\n",
      "   0.118682669   0.118682669\r\n",
      "   0.000038193   0.000038193\r\n",
      "   0.033692656   0.033692656\r\n",
      "   0.203987128   0.203987128\r\n",
      "   0.117148233   0.117148233\r\n",
      "   0.075480126   0.075480126\r\n",
      "   0.125698067   0.125698067\r\n",
      "  -0.004075883  -0.004075883\r\n",
      "   0.016967709   0.016967709\r\n",
      "   0.176337550   0.176337550\r\n",
      "   0.113133142   0.113133142\r\n",
      "   0.086162895   0.086162895\r\n",
      "   0.132294136   0.132294136\r\n",
      "  -0.004529644  -0.004529644\r\n",
      "   0.001500484   0.001500484\r\n",
      "The above two columns you get should be very similar.\r\n",
      "(Left-Your Numerical Gradient, Right-Analytical Gradient)\r\n",
      "\r\n",
      "If your backpropagation implementation is correct, then \r\n",
      "the relative difference will be small (less than 1e-9). \r\n",
      "\r\n",
      "Relative Difference: 2.14316e-11\r\n"
     ]
    }
   ],
   "source": [
    "checkNNGradients(lambda);"
   ]
  },
  {
   "cell_type": "code",
   "execution_count": 105,
   "metadata": {
    "ExecuteTime": {
     "end_time": "2020-08-24T05:43:33.385948Z",
     "start_time": "2020-08-24T05:43:33.313142Z"
    }
   },
   "outputs": [
    {
     "name": "stdout",
     "output_type": "stream",
     "text": [
      "\r\n",
      "\r\n",
      "Cost at (fixed) debugging parameters (w/ lambda = 3.000000): 0.576051 \r\n",
      "(for lambda = 3, this value should be about 0.576051)\r\n",
      "\r\n"
     ]
    }
   ],
   "source": [
    "%% =============== Part 8: Implement Regularization ===============\n",
    "%  Once your backpropagation implementation is correct, you should now\n",
    "%  continue to implement the regularization with the cost and gradient.\n",
    "%\n",
    "\n",
    "\n",
    "\n",
    "% Also output the costFunction debugging values\n",
    "debug_J  = nnCostFunction(nn_params, input_layer_size, ...\n",
    "                          hidden_layer_size, num_labels, X, y, lambda);\n",
    "\n",
    "fprintf(['\\n\\nCost at (fixed) debugging parameters (w/ lambda = %f): %f ' ...\n",
    "         '\\n(for lambda = 3, this value should be about 0.576051)\\n\\n'], lambda, debug_J);"
   ]
  },
  {
   "cell_type": "markdown",
   "metadata": {},
   "source": [
    "## 2.6. Learning parameters using fmincg"
   ]
  },
  {
   "cell_type": "code",
   "execution_count": 121,
   "metadata": {
    "ExecuteTime": {
     "end_time": "2020-08-24T10:40:50.599447Z",
     "start_time": "2020-08-24T10:40:47.807086Z"
    }
   },
   "outputs": [
    {
     "name": "stdout",
     "output_type": "stream",
     "text": [
      "\n",
      "Training Neural Network... \n",
      "Iteration    50 | Cost: 4.928393e-01\n"
     ]
    }
   ],
   "source": [
    "%% =================== Part 8: Training NN ===================\n",
    "%  You have now implemented all the code necessary to train a neural \n",
    "%  network. To train your neural network, we will now use \"fmincg\", which\n",
    "%  is a function which works similarly to \"fminunc\". Recall that these\n",
    "%  advanced optimizers are able to train our cost functions efficiently as\n",
    "%  long as we provide them with the gradient computations.\n",
    "%\n",
    "fprintf('\\nTraining Neural Network... \\n')\n",
    "\n",
    "%  After you have completed the assignment, change the MaxIter to a larger\n",
    "%  value to see how more training helps.\n",
    "options = optimset('MaxIter', 50);\n",
    "\n",
    "%  You should also try different values of lambda\n",
    "lambda = 1;\n",
    "\n",
    "% Create \"short hand\" for the cost function to be minimized\n",
    "costFunction = @(p) nnCostFunction(p, ...\n",
    "                                   input_layer_size, ...\n",
    "                                   hidden_layer_size, ...\n",
    "                                   num_labels, X, y, lambda);\n",
    "\n",
    "% Now, costFunction is a function that takes in only one argument (the\n",
    "% neural network parameters)\n",
    "[nn_params, cost] = fmincg(costFunction, initial_nn_params, options);\n",
    "\n",
    "% Obtain Theta1 and Theta2 back from nn_params\n",
    "Theta1 = reshape(nn_params(1:hidden_layer_size * (input_layer_size + 1)), ...\n",
    "                 hidden_layer_size, (input_layer_size + 1));\n",
    "\n",
    "Theta2 = reshape(nn_params((1 + (hidden_layer_size * (input_layer_size + 1))):end), ...\n",
    "                 num_labels, (hidden_layer_size + 1));"
   ]
  },
  {
   "cell_type": "markdown",
   "metadata": {},
   "source": [
    "# 3. Visualizing the hidden layer"
   ]
  },
  {
   "cell_type": "code",
   "execution_count": 115,
   "metadata": {
    "ExecuteTime": {
     "end_time": "2020-08-24T10:40:10.283051Z",
     "start_time": "2020-08-24T10:40:10.258998Z"
    }
   },
   "outputs": [
    {
     "name": "stdout",
     "output_type": "stream",
     "text": [
      "\r\n",
      "Visualizing Neural Network... \r\n"
     ]
    }
   ],
   "source": [
    "%% ================= Part 9: Visualize Weights =================\n",
    "%  You can now \"visualize\" what the neural network is learning by \n",
    "%  displaying the hidden units to see what features they are capturing in \n",
    "%  the data.\n",
    "\n",
    "fprintf('\\nVisualizing Neural Network... \\n')\n",
    "\n"
   ]
  },
  {
   "cell_type": "code",
   "execution_count": 116,
   "metadata": {
    "ExecuteTime": {
     "end_time": "2020-08-24T10:40:10.894645Z",
     "start_time": "2020-08-24T10:40:10.713841Z"
    }
   },
   "outputs": [
    {
     "data": {
      "image/png": "[encoded data removed]",
      "text/plain": [
       "<IPython.core.display.Image object>"
      ]
     },
     "metadata": {},
     "output_type": "display_data"
    }
   ],
   "source": [
    "displayData(Theta1(:, 2:end));"
   ]
  },
  {
   "cell_type": "code",
   "execution_count": 117,
   "metadata": {
    "ExecuteTime": {
     "end_time": "2020-08-24T10:40:16.230675Z",
     "start_time": "2020-08-24T10:40:15.909976Z"
    }
   },
   "outputs": [
    {
     "data": {
      "image/png": "[encoded data removed]",
      "text/plain": [
       "<IPython.core.display.Image object>"
      ]
     },
     "metadata": {},
     "output_type": "display_data"
    }
   ],
   "source": [
    "displayData(Theta2(:, 2:end));"
   ]
  },
  {
   "cell_type": "markdown",
   "metadata": {},
   "source": [
    "# (Optional) Exercise\n",
    "\n",
    "- accuracy 함수\n",
    "\n"
   ]
  },
  {
   "cell_type": "code",
   "execution_count": 147,
   "metadata": {
    "ExecuteTime": {
     "end_time": "2020-08-24T10:53:01.953752Z",
     "start_time": "2020-08-24T10:53:01.919850Z"
    }
   },
   "outputs": [],
   "source": [
    "function p = accuracy(nn_params, input_layer_size, hidden_layer_size, num_labels, X, y)\n",
    "    m = size(X, 1);\n",
    "\n",
    "    a1 = [ones(m, 1) X];\n",
    "\n",
    "    Theta1 = reshape(nn_params(1:hidden_layer_size * (input_layer_size + 1)),\n",
    "                     hidden_layer_size, (input_layer_size + 1));\n",
    "\n",
    "    Theta2 = reshape(nn_params((1 + (hidden_layer_size * (input_layer_size + 1))):end),\n",
    "                     num_labels, (hidden_layer_size + 1));\n",
    "                     \n",
    "    h = sigmoid([ones(m, 1) sigmoid(a1 * Theta1')] * Theta2');\n",
    "    \n",
    "    [w, iw] = max(h, [], 2);\n",
    "    p = sum(iw == y) / m;\n",
    "\n",
    "end"
   ]
  },
  {
   "cell_type": "markdown",
   "metadata": {},
   "source": [
    "## Change $\\lambda$"
   ]
  },
  {
   "cell_type": "code",
   "execution_count": 154,
   "metadata": {
    "ExecuteTime": {
     "end_time": "2020-08-24T10:54:38.895595Z",
     "start_time": "2020-08-24T10:54:33.310563Z"
    }
   },
   "outputs": [
    {
     "name": "stdout",
     "output_type": "stream",
     "text": [
      "Iteration   100 | Cost: 1.183624e-01\n",
      "ans =  0.99120\n"
     ]
    }
   ],
   "source": [
    "options = optimset('MaxIter', 100);\n",
    "\n",
    "%  You should also try different values of lambda\n",
    "lambda = 0;\n",
    "\n",
    "% Create \"short hand\" for the cost function to be minimized\n",
    "costFunction = @(p) nnCostFunction(p, ...\n",
    "                                   input_layer_size, ...\n",
    "                                   hidden_layer_size, ...\n",
    "                                   num_labels, X, y, lambda);\n",
    "\n",
    "% Now, costFunction is a function that takes in only one argument (the\n",
    "% neural network parameters)\n",
    "[nn_params, cost] = fmincg(costFunction, initial_nn_params, options);\n",
    "\n",
    "% Obtain Theta1 and Theta2 back from nn_params\n",
    "Theta1 = reshape(nn_params(1:hidden_layer_size * (input_layer_size + 1)), ...\n",
    "                 hidden_layer_size, (input_layer_size + 1));\n",
    "\n",
    "Theta2 = reshape(nn_params((1 + (hidden_layer_size * (input_layer_size + 1))):end), ...\n",
    "                 num_labels, (hidden_layer_size + 1));\n",
    "                 \n",
    "accuracy(nn_params, input_layer_size, hidden_layer_size,num_labels, X, y)"
   ]
  },
  {
   "cell_type": "code",
   "execution_count": 153,
   "metadata": {
    "ExecuteTime": {
     "end_time": "2020-08-24T10:54:18.757155Z",
     "start_time": "2020-08-24T10:54:12.550923Z"
    }
   },
   "outputs": [
    {
     "name": "stdout",
     "output_type": "stream",
     "text": [
      "Iteration   100 | Cost: 3.644731e-01\n",
      "ans =  0.98600\n"
     ]
    }
   ],
   "source": [
    "options = optimset('MaxIter', 100);\n",
    "\n",
    "%  You should also try different values of lambda\n",
    "lambda = 1;\n",
    "\n",
    "% Create \"short hand\" for the cost function to be minimized\n",
    "costFunction = @(p) nnCostFunction(p, ...\n",
    "                                   input_layer_size, ...\n",
    "                                   hidden_layer_size, ...\n",
    "                                   num_labels, X, y, lambda);\n",
    "\n",
    "% Now, costFunction is a function that takes in only one argument (the\n",
    "% neural network parameters)\n",
    "[nn_params, cost] = fmincg(costFunction, initial_nn_params, options);\n",
    "\n",
    "% Obtain Theta1 and Theta2 back from nn_params\n",
    "Theta1 = reshape(nn_params(1:hidden_layer_size * (input_layer_size + 1)), ...\n",
    "                 hidden_layer_size, (input_layer_size + 1));\n",
    "\n",
    "Theta2 = reshape(nn_params((1 + (hidden_layer_size * (input_layer_size + 1))):end), ...\n",
    "                 num_labels, (hidden_layer_size + 1));\n",
    "                 \n",
    "accuracy(nn_params, input_layer_size, hidden_layer_size,num_labels, X, y)"
   ]
  },
  {
   "cell_type": "code",
   "execution_count": 152,
   "metadata": {
    "ExecuteTime": {
     "end_time": "2020-08-24T10:54:06.525341Z",
     "start_time": "2020-08-24T10:54:00.698750Z"
    }
   },
   "outputs": [
    {
     "name": "stdout",
     "output_type": "stream",
     "text": [
      "Iteration   100 | Cost: 5.125757e-01\n",
      "ans =  0.96740\n"
     ]
    }
   ],
   "source": [
    "options = optimset('MaxIter', 100);\n",
    "\n",
    "%  You should also try different values of lambda\n",
    "lambda = 2;\n",
    "\n",
    "% Create \"short hand\" for the cost function to be minimized\n",
    "costFunction = @(p) nnCostFunction(p, ...\n",
    "                                   input_layer_size, ...\n",
    "                                   hidden_layer_size, ...\n",
    "                                   num_labels, X, y, lambda);\n",
    "\n",
    "% Now, costFunction is a function that takes in only one argument (the\n",
    "% neural network parameters)\n",
    "[nn_params, cost] = fmincg(costFunction, initial_nn_params, options);\n",
    "\n",
    "% Obtain Theta1 and Theta2 back from nn_params\n",
    "Theta1 = reshape(nn_params(1:hidden_layer_size * (input_layer_size + 1)), ...\n",
    "                 hidden_layer_size, (input_layer_size + 1));\n",
    "\n",
    "Theta2 = reshape(nn_params((1 + (hidden_layer_size * (input_layer_size + 1))):end), ...\n",
    "                 num_labels, (hidden_layer_size + 1));\n",
    "                 \n",
    "accuracy(nn_params, input_layer_size, hidden_layer_size,num_labels, X, y)"
   ]
  },
  {
   "cell_type": "markdown",
   "metadata": {},
   "source": [
    "## Symetric "
   ]
  },
  {
   "cell_type": "code",
   "execution_count": 156,
   "metadata": {
    "ExecuteTime": {
     "end_time": "2020-08-24T10:55:31.707914Z",
     "start_time": "2020-08-24T10:55:26.018124Z"
    }
   },
   "outputs": [
    {
     "name": "stdout",
     "output_type": "stream",
     "text": [
      "Iteration   100 | Cost: 2.608122e+00\n"
     ]
    }
   ],
   "source": [
    "zero_nn_params = [zeros(size(Theta1))(:) ; zeros(size(Theta2))(:)];\n",
    "[nn_params, cost] = fmincg(costFunction, zero_nn_params, options);\n",
    "\n",
    "% Obtain Theta1 and Theta2 back from nn_params\n",
    "Theta1_zero = reshape(nn_params(1:hidden_layer_size * (input_layer_size + 1)), ...\n",
    "                 hidden_layer_size, (input_layer_size + 1));\n",
    "\n",
    "Theta2_zero = reshape(nn_params((1 + (hidden_layer_size * (input_layer_size + 1))):end), ...\n",
    "                 num_labels, (hidden_layer_size + 1));"
   ]
  },
  {
   "cell_type": "code",
   "execution_count": 157,
   "metadata": {
    "ExecuteTime": {
     "end_time": "2020-08-24T10:55:32.483181Z",
     "start_time": "2020-08-24T10:55:32.335252Z"
    }
   },
   "outputs": [
    {
     "data": {
      "image/png": "[encoded data removed]",
      "text/plain": [
       "<IPython.core.display.Image object>"
      ]
     },
     "metadata": {},
     "output_type": "display_data"
    }
   ],
   "source": [
    "displayData(Theta1_zero(:, 2:end));"
   ]
  },
  {
   "cell_type": "code",
   "execution_count": 158,
   "metadata": {
    "ExecuteTime": {
     "end_time": "2020-08-24T10:55:33.663980Z",
     "start_time": "2020-08-24T10:55:33.348583Z"
    }
   },
   "outputs": [
    {
     "data": {
      "image/png": "[encoded data removed]",
      "text/plain": [
       "<IPython.core.display.Image object>"
      ]
     },
     "metadata": {},
     "output_type": "display_data"
    }
   ],
   "source": [
    "displayData(Theta2_zero(:, 2:end));"
   ]
  },
  {
   "cell_type": "code",
   "execution_count": 159,
   "metadata": {
    "ExecuteTime": {
     "end_time": "2020-08-24T10:55:34.356038Z",
     "start_time": "2020-08-24T10:55:34.310306Z"
    }
   },
   "outputs": [
    {
     "name": "stdout",
     "output_type": "stream",
     "text": [
      "ans =  0.10000\r\n"
     ]
    }
   ],
   "source": [
    "accuracy(zero_nn_params, input_layer_size, hidden_layer_size,num_labels, X, y)"
   ]
  }
 ],
 "metadata": {
  "kernelspec": {
   "display_name": "Octave",
   "language": "octave",
   "name": "octave"
  },
  "language_info": {
   "file_extension": ".m",
   "help_links": [
    {
     "text": "GNU Octave",
     "url": "https://www.gnu.org/software/octave/support.html"
    },
    {
     "text": "Octave Kernel",
     "url": "https://github.com/Calysto/octave_kernel"
    },
    {
     "text": "MetaKernel Magics",
     "url": "https://metakernel.readthedocs.io/en/latest/source/README.html"
    }
   ],
   "mimetype": "text/x-octave",
   "name": "octave",
   "version": "5.2.0"
  },
  "toc": {
   "base_numbering": 1,
   "nav_menu": {},
   "number_sections": false,
   "sideBar": true,
   "skip_h1_title": false,
   "title_cell": "Table of Contents",
   "title_sidebar": "Contents",
   "toc_cell": false,
   "toc_position": {},
   "toc_section_display": true,
   "toc_window_display": true
  },
  "varInspector": {
   "cols": {
    "lenName": 16,
    "lenType": 16,
    "lenVar": 40
   },
   "kernels_config": {
    "python": {
     "delete_cmd_postfix": "",
     "delete_cmd_prefix": "del ",
     "library": "var_list.py",
     "varRefreshCmd": "print(var_dic_list())"
    },
    "r": {
     "delete_cmd_postfix": ") ",
     "delete_cmd_prefix": "rm(",
     "library": "var_list.r",
     "varRefreshCmd": "cat(var_dic_list()) "
    }
   },
   "types_to_exclude": [
    "module",
    "function",
    "builtin_function_or_method",
    "instance",
    "_Feature"
   ],
   "window_display": false
  }
 },
 "nbformat": 4,
 "nbformat_minor": 4
}
