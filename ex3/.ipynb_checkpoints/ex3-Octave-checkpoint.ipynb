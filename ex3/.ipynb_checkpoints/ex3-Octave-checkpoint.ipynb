{
 "cells": [
  {
   "cell_type": "markdown",
   "metadata": {},
   "source": [
    "# Octave Programming Assignment: \n",
    "\n",
    "## Multi-class Classification and Neural Network\n",
    "\n",
    "## 2020년 08월 17일 안상호\n"
   ]
  },
  {
   "cell_type": "markdown",
   "metadata": {},
   "source": [
    "# 1. Multi-class Classification\n",
    "\n",
    "20 x 20 사이즈의 손글씨 데이터를 분류해보자"
   ]
  },
  {
   "cell_type": "code",
   "execution_count": 1,
   "metadata": {},
   "outputs": [],
   "source": [
    "input_layer_size  = 400;  % 20x20 Input Images of Digits\n",
    "num_labels = 10;          % 10 labels, from 1 to 10\n",
    "                          % (note that we have mapped \"0\" to label 10)\n"
   ]
  },
  {
   "cell_type": "markdown",
   "metadata": {},
   "source": [
    "## 1.1. Dataset"
   ]
  },
  {
   "cell_type": "code",
   "execution_count": 2,
   "metadata": {},
   "outputs": [
    {
     "name": "stdout",
     "output_type": "stream",
     "text": [
      "Loading and Visualizing Data ...\r\n"
     ]
    }
   ],
   "source": [
    "% Load Training Data\n",
    "fprintf('Loading and Visualizing Data ...\\n')\n",
    "\n",
    "load('ex3data1.mat'); % training data stored in arrays X, y\n",
    "m = size(X, 1);"
   ]
  },
  {
   "cell_type": "code",
   "execution_count": 3,
   "metadata": {},
   "outputs": [
    {
     "name": "stdout",
     "output_type": "stream",
     "text": [
      "ans =\r\n",
      "\r\n",
      "   5000    400\r\n",
      "\r\n"
     ]
    }
   ],
   "source": [
    "size(X)"
   ]
  },
  {
   "cell_type": "markdown",
   "metadata": {},
   "source": [
    "## 1.2. Visualizing the data"
   ]
  },
  {
   "cell_type": "code",
   "execution_count": 4,
   "metadata": {},
   "outputs": [
    {
     "data": {
      "image/png": "[encoded data removed]",
      "text/plain": [
       "<IPython.core.display.Image object>"
      ]
     },
     "metadata": {},
     "output_type": "display_data"
    }
   ],
   "source": [
    "% Randomly select 100 data points to display\n",
    "rand_indices = randperm(m);\n",
    "sel = X(rand_indices(1:100), :);\n",
    "\n",
    "displayData(sel);"
   ]
  },
  {
   "cell_type": "markdown",
   "metadata": {},
   "source": [
    "## 1.3. Vectorizing Logistic Regression (`lrCostFunction.m`)\n",
    "\n",
    "one-vs-all 이기 때문에 10개의 클래스가 존재한다면, 10개의 분리된 logistic regression classifiers를 학습시켜야 한다.\n",
    "\n",
    "이때 작업의 효율성을 위해 Vectorizing을 잘하자\n",
    "\n",
    "### 1.3.1 Vectorizing the cost function\n",
    "\n",
    "$$J(\\theta) = \\dfrac{1}{m} \\sum_{i=1}^{m} \\left[ -y^{(i)} \\log{(h_{\\theta}(x^{(i)}))} - (1 - y^{(i)})\\log{(1 - h_{\\theta}(x^{(i)}))} \\right] + \\dfrac{\\lambda}{2m}\\sum_{j=1}^{n}\\theta^2$$"
   ]
  },
  {
   "cell_type": "code",
   "execution_count": 5,
   "metadata": {},
   "outputs": [
    {
     "name": "stdout",
     "output_type": "stream",
     "text": [
      "\r\n",
      "Testing lrCostFunction() with regularization"
     ]
    }
   ],
   "source": [
    "% Test case for lrCostFunction\n",
    "fprintf('\\nTesting lrCostFunction() with regularization');\n",
    "\n",
    "theta_t = [-2; -1; 1; 2];\n",
    "X_t = [ones(5,1) reshape(1:15,5,3)/10];\n",
    "y_t = ([1;0;1;0;1] >= 0.5);\n",
    "lambda_t = 3;"
   ]
  },
  {
   "cell_type": "markdown",
   "metadata": {},
   "source": [
    "### 1.3.2 Vectorizing the gradient\n",
    "\n",
    "$$\n",
    "\\begin{align}\n",
    "&\\dfrac{\\partial J(\\theta)}{\\partial \\theta_0} = \\dfrac{1}{m} \\sum_{i=1}^{m} (h_\\theta(x^{(i)}) - y^{(i)}) x_j^{(i)} & \\text{for} \\ j = 0\\\\\n",
    "&\\dfrac{\\partial J(\\theta)}{\\partial \\theta_j} = \\bigg( \\dfrac{1}{m} \\sum_{i=1}^{m} (h_\\theta(x^{(i)}) - y^{(i)}) x_j^{(i)} \\bigg)  + \\dfrac{\\lambda}{m}\\theta_j& \\text{for} \\ j \\geq 1\\\\\n",
    "\\end{align}\n",
    "$$\n"
   ]
  },
  {
   "cell_type": "code",
   "execution_count": 6,
   "metadata": {},
   "outputs": [],
   "source": [
    "[J grad] = lrCostFunction(theta_t, X_t, y_t, lambda_t);"
   ]
  },
  {
   "cell_type": "code",
   "execution_count": 7,
   "metadata": {},
   "outputs": [
    {
     "name": "stdout",
     "output_type": "stream",
     "text": [
      "\n",
      "Cost: 2.534819\n",
      "Expected cost: 2.534819\n",
      "Gradients:\n",
      " 0.146561 \n",
      " -0.548558 \n",
      " 0.724722 \n",
      " 1.398003 \n",
      "Expected gradients:\n",
      " 0.146561\n",
      " -0.548558\n",
      " 0.724722\n",
      " 1.398003\n"
     ]
    }
   ],
   "source": [
    "fprintf('\\nCost: %f\\n', J);\n",
    "fprintf('Expected cost: 2.534819\\n');\n",
    "fprintf('Gradients:\\n');\n",
    "fprintf(' %f \\n', grad);\n",
    "fprintf('Expected gradients:\\n');\n",
    "fprintf(' 0.146561\\n -0.548558\\n 0.724722\\n 1.398003\\n');"
   ]
  },
  {
   "cell_type": "markdown",
   "metadata": {},
   "source": [
    "### 1.3.3. Vectorizing regularized logistic regression\n",
    "\n",
    "- Regularization 항을 추가한다.\n",
    "- 특이점: $\\theta_0$ 제약 과정에 포함하지 않는다."
   ]
  },
  {
   "cell_type": "markdown",
   "metadata": {},
   "source": [
    "## 1.4. One-vs-all Classification (`oneVsAll.m`)\n",
    "\n",
    "만들때 여러 라벨의 갯수에 대비해서 만들어야 한다는 점을 주의하자"
   ]
  },
  {
   "cell_type": "code",
   "execution_count": 8,
   "metadata": {},
   "outputs": [
    {
     "name": "stdout",
     "output_type": "stream",
     "text": [
      "\r\n",
      "Training One-vs-All Logistic Regression...\r\n"
     ]
    }
   ],
   "source": [
    "fprintf('\\nTraining One-vs-All Logistic Regression...\\n')\n",
    "\n",
    "lambda = 0.1;\n"
   ]
  },
  {
   "cell_type": "code",
   "execution_count": 9,
   "metadata": {},
   "outputs": [],
   "source": [
    "% Some useful variables\n",
    "m = size(X, 1);\n",
    "n = size(X, 2);\n",
    "\n",
    "% You need to return the following variables correctly \n",
    "all_theta = zeros(num_labels, n + 1); % 10 x 401"
   ]
  },
  {
   "cell_type": "code",
   "execution_count": 10,
   "metadata": {},
   "outputs": [],
   "source": [
    "% options = optimset('GradObj', 'on', 'MaxIter', 50);\n",
    "\n",
    "% num_labels=10\n",
    "% for i=1:num_labels,\n",
    "%     initial_theta = zeros(n + 1, 1);\n",
    "%     [theta, _] = fmincg(@(t)(lrCostFunction(t, [ones(m, 1) X], (y==i), lambda)), initial_theta, options);\n",
    "  \n",
    "%     all_theta(i, :) = theta';\n",
    "    \n",
    "% end;"
   ]
  },
  {
   "cell_type": "code",
   "execution_count": 11,
   "metadata": {},
   "outputs": [
    {
     "name": "stdout",
     "output_type": "stream",
     "text": [
      "Iteration    50 | Cost: 1.360773e-02\n",
      "Iteration    50 | Cost: 5.725243e-02\n",
      "Iteration    50 | Cost: 6.404586e-02\n",
      "Iteration    50 | Cost: 3.597074e-02\n",
      "Iteration    50 | Cost: 6.187458e-02\n",
      "Iteration    50 | Cost: 2.168105e-02\n",
      "Iteration    50 | Cost: 3.569188e-02\n",
      "Iteration    50 | Cost: 8.587530e-02\n",
      "Iteration    50 | Cost: 7.908205e-02\n",
      "Iteration    50 | Cost: 9.872608e-03\n"
     ]
    }
   ],
   "source": [
    "[all_theta] = oneVsAll(X, y, num_labels, lambda);"
   ]
  },
  {
   "cell_type": "markdown",
   "metadata": {},
   "source": [
    "### 1.4.1. One-vs-all Prediction"
   ]
  },
  {
   "cell_type": "code",
   "execution_count": 12,
   "metadata": {},
   "outputs": [
    {
     "name": "stdout",
     "output_type": "stream",
     "text": [
      "'max' is a built-in function from the file libinterp/corefcn/max.cc\r\n",
      "\r\n",
      " -- max (X)\r\n",
      " -- max (X, [], DIM)\r\n",
      " -- [W, IW] = max (X)\r\n",
      " -- max (X, Y)\r\n",
      "     Find maximum values in the array X.\r\n",
      "\r\n",
      "     For a vector argument, return the maximum value.  For a matrix\r\n",
      "     argument, return a row vector with the maximum value of each\r\n",
      "     column.  For a multi-dimensional array, 'max' operates along the\r\n",
      "     first non-singleton dimension.\r\n",
      "\r\n",
      "     If the optional third argument DIM is present then operate along\r\n",
      "     this dimension.  In this case the second argument is ignored and\r\n",
      "     should be set to the empty matrix.\r\n",
      "\r\n",
      "     For two matrices (or a matrix and a scalar), return the pairwise\r\n",
      "     maximum.\r\n",
      "\r\n",
      "     Thus,\r\n",
      "\r\n",
      "          max (max (X))\r\n",
      "\r\n",
      "     returns the largest element of the 2-D matrix X, and\r\n",
      "\r\n",
      "          max (2:5, pi)\r\n",
      "              =>  3.1416  3.1416  4.0000  5.0000\r\n",
      "\r\n",
      "     compares each element of the range '2:5' with 'pi', and returns a\r\n",
      "     row vector of the maximum values.\r\n",
      "\r\n",
      "     For complex arguments, the magnitude of the elements are used for\r\n",
      "     comparison.  If the magnitudes are identical, then the results are\r\n",
      "     ordered by phase angle in the range (-pi, pi].  Hence,\r\n",
      "\r\n",
      "          max ([-1 i 1 -i])\r\n",
      "              => -1\r\n",
      "\r\n",
      "     because all entries have magnitude 1, but -1 has the largest phase\r\n",
      "     angle with value pi.\r\n",
      "\r\n",
      "     If called with one input and two output arguments, 'max' also\r\n",
      "     returns the first index of the maximum value(s).  Thus,\r\n",
      "\r\n",
      "          [x, ix] = max ([1, 3, 5, 2, 5])\r\n",
      "              =>  x = 5\r\n",
      "                  ix = 3\r\n",
      "\r\n",
      "     See also: min, cummax, cummin.\r\n",
      "\r\n",
      "Additional help for built-in functions and operators is\r\n",
      "available in the online version of the manual.  Use the command\r\n",
      "'doc <topic>' to search the manual index.\r\n",
      "\r\n",
      "Help and information about Octave is also available on the WWW\r\n",
      "at https://www.octave.org and via the help@octave.org\r\n",
      "mailing list.\r\n"
     ]
    }
   ],
   "source": [
    "help max"
   ]
  },
  {
   "cell_type": "code",
   "execution_count": 13,
   "metadata": {},
   "outputs": [
    {
     "name": "stdout",
     "output_type": "stream",
     "text": [
      "idx =  10\r\n"
     ]
    }
   ],
   "source": [
    "% h = sigmoid( * all_theta')\n",
    "% h - y\n",
    "h = sigmoid([1 X(1, :)] * all_theta');\n",
    "[_, idx] = max(h, [], 2);\n",
    "idx"
   ]
  },
  {
   "cell_type": "code",
   "execution_count": 14,
   "metadata": {},
   "outputs": [
    {
     "name": "stdout",
     "output_type": "stream",
     "text": [
      "\r\n",
      "Training Set Accuracy: 95.020000\r\n"
     ]
    }
   ],
   "source": [
    "pred = predictOneVsAll(all_theta, X);\n",
    "\n",
    "fprintf('\\nTraining Set Accuracy: %f\\n', mean(double(pred == y)) * 100);"
   ]
  },
  {
   "cell_type": "markdown",
   "metadata": {},
   "source": [
    "# 2. Neural Network\n",
    "\n",
    "앞선 과정에서 만든 logistic regression은 선형 분류기이기 때문에, 보다 복잡한 가설은 학습할 수 없다.\n",
    "\n",
    "Foward Propagation만 수행하는 Neural Network를 구현해보도록 한다.\n",
    "\n",
    "데이터는 앞부분에서 사용했던 10개의 클래스로 이루어진 5000장의 20 x 20 크기 손글씨 데이터를 사용한다."
   ]
  },
  {
   "cell_type": "code",
   "execution_count": 15,
   "metadata": {},
   "outputs": [],
   "source": [
    "%% Setup the parameters you will use for this exercise\n",
    "input_layer_size  = 400;  % 20x20 Input Images of Digits\n",
    "hidden_layer_size = 25;   % 25 hidden units\n",
    "num_labels = 10;          % 10 labels, from 1 to 10   \n",
    "                          % (note that we have mapped \"0\" to label 10)"
   ]
  },
  {
   "cell_type": "code",
   "execution_count": 16,
   "metadata": {},
   "outputs": [
    {
     "name": "stdout",
     "output_type": "stream",
     "text": [
      "Loading and Visualizing Data ...\r\n"
     ]
    },
    {
     "data": {
      "image/png": "[encoded data removed]",
      "text/plain": [
       "<IPython.core.display.Image object>"
      ]
     },
     "metadata": {},
     "output_type": "display_data"
    }
   ],
   "source": [
    "%% =========== Part 1: Loading and Visualizing Data =============\n",
    "%  We start the exercise by first loading and visualizing the dataset. \n",
    "%  You will be working with a dataset that contains handwritten digits.\n",
    "%\n",
    "\n",
    "% Load Training Data\n",
    "fprintf('Loading and Visualizing Data ...\\n')\n",
    "\n",
    "load('ex3data1.mat');\n",
    "m = size(X, 1);\n",
    "\n",
    "% Randomly select 100 data points to display\n",
    "sel = randperm(size(X, 1));\n",
    "sel = sel(1:100);\n",
    "\n",
    "displayData(X(sel, :));"
   ]
  },
  {
   "cell_type": "markdown",
   "metadata": {},
   "source": [
    "## 2.1. Model Representation\n",
    "\n",
    "기존에 학습되어 있던 parameter를 읽어온다."
   ]
  },
  {
   "cell_type": "code",
   "execution_count": 17,
   "metadata": {},
   "outputs": [
    {
     "name": "stdout",
     "output_type": "stream",
     "text": [
      "\r\n",
      "Loading Saved Neural Network Parameters ...\r\n"
     ]
    }
   ],
   "source": [
    "%% ================ Part 2: Loading Pameters ================\n",
    "% In this part of the exercise, we load some pre-initialized \n",
    "% neural network parameters.\n",
    "\n",
    "fprintf('\\nLoading Saved Neural Network Parameters ...\\n')\n",
    "\n",
    "% Load the weights into variables Theta1 and Theta2\n",
    "load('ex3weights.mat');\n",
    "% The matrices Theta1 and Theta2 will now be in your Octave\n",
    "% environment\n",
    "% Theta1 has size 25 x 401\n",
    "% Theta2 has size 10 x 26"
   ]
  },
  {
   "cell_type": "markdown",
   "metadata": {},
   "source": [
    "## 2.2. Feedforward Propagation and Prediction\n",
    "\n",
    "- $\\Theta_1$ (25 x 401): (25개의 히든레이어 유닛수 $a^{(2)}$) x (400개의 입력 + 1 $a^{(1)}$)\n",
    "- $\\Theta_2$ (10 x 26): (10개의 출력 유닛수 $a^{(3)}$) x (25개의 유닛 + 1 $a^{(2)}$)"
   ]
  },
  {
   "cell_type": "code",
   "execution_count": 40,
   "metadata": {},
   "outputs": [
    {
     "name": "stdout",
     "output_type": "stream",
     "text": [
      "ans =\r\n",
      "\r\n",
      "   5000      1\r\n",
      "\r\n"
     ]
    }
   ],
   "source": [
    "a2 = sigmoid([ones(m, 1) X] * Theta1');\n",
    "a3 = sigmoid([ones(m, 1) a2] * Theta2'); \n",
    "\n",
    "size(a3);\n",
    "[_, iw] = max(a3, [], 2);\n",
    "\n"
   ]
  },
  {
   "cell_type": "code",
   "execution_count": 41,
   "metadata": {},
   "outputs": [
    {
     "name": "stdout",
     "output_type": "stream",
     "text": [
      "\r\n",
      "Training Set Accuracy: 97.520000\r\n"
     ]
    }
   ],
   "source": [
    "%% ================= Part 3: Implement Predict =================\n",
    "%  After training the neural network, we would like to use it to predict\n",
    "%  the labels. You will now implement the \"predict\" function to use the\n",
    "%  neural network to predict the labels of the training set. This lets\n",
    "%  you compute the training set accuracy.\n",
    "\n",
    "pred = predict(Theta1, Theta2, X);\n",
    "\n",
    "fprintf('\\nTraining Set Accuracy: %f\\n', mean(double(pred == y)) * 100);"
   ]
  }
 ],
 "metadata": {
  "kernelspec": {
   "display_name": "Octave",
   "language": "octave",
   "name": "octave"
  },
  "language_info": {
   "file_extension": ".m",
   "help_links": [
    {
     "text": "GNU Octave",
     "url": "https://www.gnu.org/software/octave/support.html"
    },
    {
     "text": "Octave Kernel",
     "url": "https://github.com/Calysto/octave_kernel"
    },
    {
     "text": "MetaKernel Magics",
     "url": "https://metakernel.readthedocs.io/en/latest/source/README.html"
    }
   ],
   "mimetype": "text/x-octave",
   "name": "octave",
   "version": "5.2.0"
  }
 },
 "nbformat": 4,
 "nbformat_minor": 4
}
